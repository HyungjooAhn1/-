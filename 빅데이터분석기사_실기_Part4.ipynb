{
  "nbformat": 4,
  "nbformat_minor": 0,
  "metadata": {
    "colab": {
      "name": "빅데이터분석기사 실기 Part4",
      "provenance": [],
      "collapsed_sections": [],
      "authorship_tag": "ABX9TyO57cLZ6KmIwtOCuK6gSLBf",
      "include_colab_link": true
    },
    "kernelspec": {
      "name": "python3",
      "display_name": "Python 3"
    },
    "language_info": {
      "name": "python"
    },
    "accelerator": "GPU"
  },
  "cells": [
    {
      "cell_type": "markdown",
      "metadata": {
        "id": "view-in-github",
        "colab_type": "text"
      },
      "source": [
        "<a href=\"https://colab.research.google.com/github/HyungjooAhn1/-/blob/main/%EB%B9%85%EB%8D%B0%EC%9D%B4%ED%84%B0%EB%B6%84%EC%84%9D%EA%B8%B0%EC%82%AC_%EC%8B%A4%EA%B8%B0_Part4.ipynb\" target=\"_parent\"><img src=\"https://colab.research.google.com/assets/colab-badge.svg\" alt=\"Open In Colab\"/></a>"
      ]
    },
    {
      "cell_type": "markdown",
      "source": [
        "## 1. 단순한 데이터 분석"
      ],
      "metadata": {
        "id": "bewZYscnDSxH"
      }
    },
    {
      "cell_type": "markdown",
      "source": [
        "### 1.1 Top 10 구하기"
      ],
      "metadata": {
        "id": "cqr2mn1YDjnm"
      }
    },
    {
      "cell_type": "code",
      "source": [
        "## pandas 라이브러리 가져오기\n",
        "import pandas as pd\n",
        "\n",
        "## boston.csv 파일의 데이터를 읽은 후, 해당 데이터를 data 변수에 저장하기\n",
        "data = pd.read_csv('boston.csv')"
      ],
      "metadata": {
        "id": "w9eriWNzDTE6"
      },
      "execution_count": 1,
      "outputs": []
    },
    {
      "cell_type": "code",
      "source": [
        "## data 변수의 상위 5개 행을 출력하기\n",
        "print(data.head())"
      ],
      "metadata": {
        "colab": {
          "base_uri": "https://localhost:8080/"
        },
        "id": "kz2xQK8ADwh-",
        "outputId": "18931a98-c77b-4fd3-dff2-70e41a0387f5"
      },
      "execution_count": 2,
      "outputs": [
        {
          "output_type": "stream",
          "name": "stdout",
          "text": [
            "      CRIM    ZN  INDUS  CHAS    NOX     RM   AGE     DIS  RAD  TAX  PTRATIO  \\\n",
            "0  0.00632  18.0   2.31     0  0.538  6.575  65.2  4.0900    1  296     15.3   \n",
            "1  0.02731   0.0   7.07     0  0.469  6.421  78.9  4.9671    2  242     17.8   \n",
            "2  0.02729   0.0   7.07     0  0.469  7.185  61.1  4.9671    2  242     17.8   \n",
            "3  0.03237   0.0   2.18     0  0.458  6.998  45.8  6.0622    3  222     18.7   \n",
            "4  0.06905   0.0   2.18     0  0.458  7.147  54.2  6.0622    3  222     18.7   \n",
            "\n",
            "        B  LSTAT  MEDV  \n",
            "0  396.90   4.98  24.0  \n",
            "1  396.90   9.14  21.6  \n",
            "2  392.83   4.03  34.7  \n",
            "3  394.63   2.94  33.4  \n",
            "4  396.90   5.33  36.2  \n"
          ]
        }
      ]
    },
    {
      "cell_type": "code",
      "source": [
        "## data 변수를 MEDV 칼럼 기준으로 오름차순 정렬하기\n",
        "print(data.sort_values(by='MEDV', ascending=True))"
      ],
      "metadata": {
        "colab": {
          "base_uri": "https://localhost:8080/"
        },
        "id": "eRchnMuiD3F4",
        "outputId": "a7637b75-f3c6-4216-fd62-4c325c56a218"
      },
      "execution_count": 3,
      "outputs": [
        {
          "output_type": "stream",
          "name": "stdout",
          "text": [
            "         CRIM    ZN  INDUS  CHAS    NOX     RM    AGE     DIS  RAD  TAX  \\\n",
            "398  38.35180   0.0  18.10     0  0.693    NaN  100.0  1.4896   24  666   \n",
            "405  67.92080   0.0  18.10     0  0.693  5.683  100.0  1.4254   24  666   \n",
            "400  25.04610   0.0  18.10     0  0.693  5.987  100.0  1.5888   24  666   \n",
            "399   9.91655   0.0  18.10     0  0.693  5.852   77.8  1.5004   24  666   \n",
            "414  45.74610   0.0  18.10     0  0.693  4.519  100.0  1.6582   24  666   \n",
            "..        ...   ...    ...   ...    ...    ...    ...     ...  ...  ...   \n",
            "166   2.01019   0.0  19.58     0  0.605  7.929   96.2  2.0459    5  403   \n",
            "195   0.01381  80.0   0.46     0  0.422  7.875   32.0  5.6484    4  255   \n",
            "283   0.01501  90.0   1.21     1  0.401  7.923   24.8  5.8850    1  198   \n",
            "225   0.52693   0.0   6.20     0  0.504  8.725   83.0  2.8944    8  307   \n",
            "186   0.05602   0.0   2.46     0  0.488  7.831   53.6  3.1992    3  193   \n",
            "\n",
            "     PTRATIO       B  LSTAT  MEDV  \n",
            "398     20.2  396.90  30.59   5.0  \n",
            "405     20.2  384.97  22.98   5.0  \n",
            "400     20.2  396.90  26.77   5.6  \n",
            "399     20.2  338.16  29.97   6.3  \n",
            "414     20.2   88.27  36.98   7.0  \n",
            "..       ...     ...    ...   ...  \n",
            "166     14.7  369.30   3.70  50.0  \n",
            "195     14.4  394.23   2.97  50.0  \n",
            "283     13.6  395.52   3.16  50.0  \n",
            "225     17.4  382.00   4.63  50.0  \n",
            "186     17.8  392.63   4.45  50.0  \n",
            "\n",
            "[506 rows x 14 columns]\n"
          ]
        }
      ]
    },
    {
      "cell_type": "code",
      "source": [
        "## MEDV 칼럼만 추출하기\n",
        "print(data.sort_values(by='MEDV', ascending=True)['MEDV'])"
      ],
      "metadata": {
        "colab": {
          "base_uri": "https://localhost:8080/"
        },
        "id": "yaykUQFbEFoi",
        "outputId": "32d40dec-dca3-405b-d762-a880a0b14a50"
      },
      "execution_count": 4,
      "outputs": [
        {
          "output_type": "stream",
          "name": "stdout",
          "text": [
            "398     5.0\n",
            "405     5.0\n",
            "400     5.6\n",
            "399     6.3\n",
            "414     7.0\n",
            "       ... \n",
            "166    50.0\n",
            "195    50.0\n",
            "283    50.0\n",
            "225    50.0\n",
            "186    50.0\n",
            "Name: MEDV, Length: 506, dtype: float64\n"
          ]
        }
      ]
    },
    {
      "cell_type": "code",
      "source": [
        "## 상위 10개 행을 출력하기\n",
        "print(data.sort_values(by='MEDV', ascending=True)['MEDV'].head(10))"
      ],
      "metadata": {
        "colab": {
          "base_uri": "https://localhost:8080/"
        },
        "id": "N5XTbiFgERTU",
        "outputId": "b3ff6bc9-a886-4727-b242-5590294c360e"
      },
      "execution_count": 5,
      "outputs": [
        {
          "output_type": "stream",
          "name": "stdout",
          "text": [
            "398    5.0\n",
            "405    5.0\n",
            "400    5.6\n",
            "399    6.3\n",
            "414    7.0\n",
            "489    7.0\n",
            "401    7.2\n",
            "385    7.2\n",
            "415    7.2\n",
            "387    7.4\n",
            "Name: MEDV, dtype: float64\n"
          ]
        }
      ]
    },
    {
      "cell_type": "markdown",
      "source": [
        "### 1.2 결측치 확인하기"
      ],
      "metadata": {
        "id": "UKVai04rEwHq"
      }
    },
    {
      "cell_type": "code",
      "source": [
        "import pandas as pd\n",
        "data = pd.read_csv('boston.csv')"
      ],
      "metadata": {
        "id": "Wkt6IRhoEZRn"
      },
      "execution_count": 6,
      "outputs": []
    },
    {
      "cell_type": "code",
      "source": [
        "## data의 결측치 여부 확인하기\n",
        "print(data.isnull())"
      ],
      "metadata": {
        "colab": {
          "base_uri": "https://localhost:8080/"
        },
        "id": "Z_ao3Qi8FEHs",
        "outputId": "1cb2aaee-9b03-49dc-e482-ed459c92ac2f"
      },
      "execution_count": 7,
      "outputs": [
        {
          "output_type": "stream",
          "name": "stdout",
          "text": [
            "      CRIM     ZN  INDUS   CHAS    NOX     RM    AGE    DIS    RAD    TAX  \\\n",
            "0    False  False  False  False  False  False  False  False  False  False   \n",
            "1    False  False  False  False  False  False  False  False  False  False   \n",
            "2    False  False  False  False  False  False  False  False  False  False   \n",
            "3    False  False  False  False  False  False  False  False  False  False   \n",
            "4    False  False  False  False  False  False  False  False  False  False   \n",
            "..     ...    ...    ...    ...    ...    ...    ...    ...    ...    ...   \n",
            "501  False  False  False  False  False  False  False  False  False  False   \n",
            "502  False  False  False  False  False   True  False  False  False  False   \n",
            "503  False  False  False  False  False  False  False  False  False  False   \n",
            "504  False  False  False  False  False  False  False  False  False  False   \n",
            "505  False  False  False  False  False  False  False  False  False  False   \n",
            "\n",
            "     PTRATIO      B  LSTAT   MEDV  \n",
            "0      False  False  False  False  \n",
            "1      False  False  False  False  \n",
            "2      False  False  False  False  \n",
            "3      False  False  False  False  \n",
            "4      False  False  False  False  \n",
            "..       ...    ...    ...    ...  \n",
            "501    False  False  False  False  \n",
            "502    False  False  False  False  \n",
            "503    False  False  False  False  \n",
            "504    False  False  False  False  \n",
            "505    False  False  False  False  \n",
            "\n",
            "[506 rows x 14 columns]\n"
          ]
        }
      ]
    },
    {
      "cell_type": "code",
      "source": [
        "## 결측치인 True 값들을 모두 더하기\n",
        "print(data.isnull().sum())"
      ],
      "metadata": {
        "colab": {
          "base_uri": "https://localhost:8080/"
        },
        "id": "01_z5CthFJAq",
        "outputId": "8f8f3cd9-bfdb-41cf-c092-c22887d53c32"
      },
      "execution_count": 8,
      "outputs": [
        {
          "output_type": "stream",
          "name": "stdout",
          "text": [
            "CRIM        0\n",
            "ZN          0\n",
            "INDUS       0\n",
            "CHAS        0\n",
            "NOX         0\n",
            "RM         15\n",
            "AGE         0\n",
            "DIS         0\n",
            "RAD         0\n",
            "TAX         0\n",
            "PTRATIO     0\n",
            "B           0\n",
            "LSTAT       0\n",
            "MEDV        0\n",
            "dtype: int64\n"
          ]
        }
      ]
    },
    {
      "cell_type": "code",
      "source": [
        "## RM 칼럼을 추출한 후, data_mean 변수에 저장하기\n",
        "data_mean = data['RM'].copy()\n",
        "\n",
        "## data.mean 변수에서도 결측치 개수를 확인하기\n",
        "print(data_mean.isnull().sum())"
      ],
      "metadata": {
        "colab": {
          "base_uri": "https://localhost:8080/"
        },
        "id": "uLqnjeEyFQ1j",
        "outputId": "a074087f-0d8c-40d5-9aaa-e8df39ef3a51"
      },
      "execution_count": 9,
      "outputs": [
        {
          "output_type": "stream",
          "name": "stdout",
          "text": [
            "15\n"
          ]
        }
      ]
    },
    {
      "cell_type": "code",
      "source": [
        "## data_mean 변수의 상위 3개 행 확인하기\n",
        "print(data_mean.head(3))\n",
        "\n",
        "## data_mean 평균값을 rm_mean 변수에 저장하기\n",
        "rm_mean = data_mean.mean()\n",
        "\n",
        "## RM 칼럼의 평균값(rm.mean 변수)을 출력하기\n",
        "print(rm_mean)"
      ],
      "metadata": {
        "colab": {
          "base_uri": "https://localhost:8080/"
        },
        "id": "h62Y2fkpFiNU",
        "outputId": "3e50aca3-3dba-4185-c3d8-dde9dfa0cf68"
      },
      "execution_count": 10,
      "outputs": [
        {
          "output_type": "stream",
          "name": "stdout",
          "text": [
            "0    6.575\n",
            "1    6.421\n",
            "2    7.185\n",
            "Name: RM, dtype: float64\n",
            "6.285101832993899\n"
          ]
        }
      ]
    },
    {
      "cell_type": "code",
      "source": [
        "## data_mean의 변경 결과를 저장하지 않고 결측치를 평균으로 대치하기\n",
        "print(data_mean.fillna(rm_mean, inplace=False))"
      ],
      "metadata": {
        "colab": {
          "base_uri": "https://localhost:8080/"
        },
        "id": "MFJBIFLDGAyO",
        "outputId": "b007ea5f-50de-4ac8-9a85-c321b44d8cc5"
      },
      "execution_count": 11,
      "outputs": [
        {
          "output_type": "stream",
          "name": "stdout",
          "text": [
            "0      6.575000\n",
            "1      6.421000\n",
            "2      7.185000\n",
            "3      6.998000\n",
            "4      7.147000\n",
            "         ...   \n",
            "501    6.593000\n",
            "502    6.285102\n",
            "503    6.976000\n",
            "504    6.794000\n",
            "505    6.030000\n",
            "Name: RM, Length: 506, dtype: float64\n"
          ]
        }
      ]
    },
    {
      "cell_type": "code",
      "source": [
        "## data_mean의 결측치 개수 확인하기\n",
        "print(data_mean.isnull().sum())"
      ],
      "metadata": {
        "colab": {
          "base_uri": "https://localhost:8080/"
        },
        "id": "e4A_rNz1GimK",
        "outputId": "5109884a-6b02-436a-ec82-7456bc33cb64"
      },
      "execution_count": 12,
      "outputs": [
        {
          "output_type": "stream",
          "name": "stdout",
          "text": [
            "15\n"
          ]
        }
      ]
    },
    {
      "cell_type": "code",
      "source": [
        "## data_mean의 변동 결과를 저장하고 결측치를 평균값으로 대치하기\n",
        "data_mean.fillna(rm_mean, inplace=True)\n",
        "\n",
        "## data_mean의 결측치 개수 확인하기\n",
        "print(data_mean.isnull().sum())"
      ],
      "metadata": {
        "colab": {
          "base_uri": "https://localhost:8080/"
        },
        "id": "yHcFzMUAGndw",
        "outputId": "5eb60cbc-fdac-4a12-e00d-31e4aff02aed"
      },
      "execution_count": 13,
      "outputs": [
        {
          "output_type": "stream",
          "name": "stdout",
          "text": [
            "0\n"
          ]
        }
      ]
    },
    {
      "cell_type": "code",
      "source": [
        "## RM 칼럼을 추출한 후, data_del 변수에 저장하기\n",
        "data_del = data['RM'].copy()\n",
        "\n",
        "## data_del 변수에서도 결측치 개수를 확인하기\n",
        "print(data_del.isnull().sum())\n",
        "\n",
        "## data_del 변수의 행/열 구조 확인하기\n",
        "print(data_del.shape)"
      ],
      "metadata": {
        "colab": {
          "base_uri": "https://localhost:8080/"
        },
        "id": "_6AIwXq3G9pV",
        "outputId": "7de13fec-9e59-45d2-8add-e6dff7425576"
      },
      "execution_count": 14,
      "outputs": [
        {
          "output_type": "stream",
          "name": "stdout",
          "text": [
            "15\n",
            "(506,)\n"
          ]
        }
      ]
    },
    {
      "cell_type": "code",
      "source": [
        "## data_del 변수의 저장과 함께 결측치 삭제하기\n",
        "data_del.dropna(inplace=True)"
      ],
      "metadata": {
        "id": "kDZw-HoXHm1v"
      },
      "execution_count": 15,
      "outputs": []
    },
    {
      "cell_type": "code",
      "source": [
        "## data_del 변수의 행/열 구조 확인하기\n",
        "print(data_del.shape)\n",
        "\n",
        "## data_del의 결측치 개수 확인하기\n",
        "print(data_del.isnull().sum())"
      ],
      "metadata": {
        "colab": {
          "base_uri": "https://localhost:8080/"
        },
        "id": "b1vSpymzHyng",
        "outputId": "32b2efc5-5eb8-4047-ea21-81eb5081bc5e"
      },
      "execution_count": 16,
      "outputs": [
        {
          "output_type": "stream",
          "name": "stdout",
          "text": [
            "(491,)\n",
            "0\n"
          ]
        }
      ]
    },
    {
      "cell_type": "code",
      "source": [
        "## data_mean 변수의 표준편차 구하기\n",
        "print(data_mean.std())\n",
        "\n",
        "## data_del 변수의 표준편차 구하기\n",
        "print(data_del.std())"
      ],
      "metadata": {
        "colab": {
          "base_uri": "https://localhost:8080/"
        },
        "id": "2N-oedBBH68t",
        "outputId": "ba99070a-5123-4a85-c6ec-59bfcf20adc4"
      },
      "execution_count": 17,
      "outputs": [
        {
          "output_type": "stream",
          "name": "stdout",
          "text": [
            "0.6975001826300911\n",
            "0.7080957287241957\n"
          ]
        }
      ]
    },
    {
      "cell_type": "code",
      "source": [
        "## data_mean 변수와 data_del 변수를 빼고 나서 절댓값 취한 결과를 확인하기\n",
        "print(abs(data_mean.std()-data_del.std()))"
      ],
      "metadata": {
        "colab": {
          "base_uri": "https://localhost:8080/"
        },
        "id": "5PByuXgPINJ-",
        "outputId": "fa4af9ba-26c8-46af-bbe5-525914929420"
      },
      "execution_count": 18,
      "outputs": [
        {
          "output_type": "stream",
          "name": "stdout",
          "text": [
            "0.010595546094104624\n"
          ]
        }
      ]
    },
    {
      "cell_type": "markdown",
      "source": [
        "### 1.3 이상값 확인하기"
      ],
      "metadata": {
        "id": "gSS96RZcGh8S"
      }
    },
    {
      "cell_type": "markdown",
      "source": [
        "##### boston 데이터 세트의 ZN 칼럼을 대상으로 ZN 값의 평균값에서 표준편차의 1.5배보다 크거나 작은 ZN 값의 합계를 구하시오."
      ],
      "metadata": {
        "id": "N3s3hTc7GwzG"
      }
    },
    {
      "cell_type": "code",
      "source": [
        "import pandas as pd\n",
        "data = pd.read_csv('boston.csv')"
      ],
      "metadata": {
        "id": "83MMCf0aIWT2"
      },
      "execution_count": 19,
      "outputs": []
    },
    {
      "cell_type": "code",
      "source": [
        "## ZN 칼럼의 평균값을 zn_mean 변수에 저장하기\n",
        "zn_mean = data['ZN'].mean()\n",
        "\n",
        "## ZN 칼럼의 표준편차를 zn_std 변수에 저장하기\n",
        "zn_std = data['ZN'].std()"
      ],
      "metadata": {
        "id": "uf00Ch0PHB-A"
      },
      "execution_count": 20,
      "outputs": []
    },
    {
      "cell_type": "code",
      "source": [
        "## 평균값에서 1.5*표준편차만큼 떨어진 값 구하기\n",
        "zn_max = zn_mean + 1.5 * zn_std\n",
        "\n",
        "## 1.5*표준편차만큼 떨어진 값을 확인하기\n",
        "print(zn_max)\n",
        "\n",
        "## 평균값에서 -1.5*표준편차만큼 떨어진 값 구하기\n",
        "zn_min = zn_mean - 1.5 * zn_std\n",
        "\n",
        "## -1.5*표준편차만큼 떨어진 값을 확인하기\n",
        "print(zn_min)"
      ],
      "metadata": {
        "colab": {
          "base_uri": "https://localhost:8080/"
        },
        "id": "B-bWazFlHUVr",
        "outputId": "37a436ed-a901-4ad6-f8ce-439f51091701"
      },
      "execution_count": 21,
      "outputs": [
        {
          "output_type": "stream",
          "name": "stdout",
          "text": [
            "46.34731585540892\n",
            "-23.620043128136192\n"
          ]
        }
      ]
    },
    {
      "cell_type": "code",
      "source": [
        "## zn_max보다 큰 지 여부를 확인하기\n",
        "print(data['ZN'] > zn_max)"
      ],
      "metadata": {
        "colab": {
          "base_uri": "https://localhost:8080/"
        },
        "id": "egpqLZ3sHx56",
        "outputId": "ca72fcba-c956-45dc-c1d7-7dd27f715121"
      },
      "execution_count": 22,
      "outputs": [
        {
          "output_type": "stream",
          "name": "stdout",
          "text": [
            "0      False\n",
            "1      False\n",
            "2      False\n",
            "3      False\n",
            "4      False\n",
            "       ...  \n",
            "501    False\n",
            "502    False\n",
            "503    False\n",
            "504    False\n",
            "505    False\n",
            "Name: ZN, Length: 506, dtype: bool\n"
          ]
        }
      ]
    },
    {
      "cell_type": "code",
      "source": [
        "## ZN 칼럼이 zn_max보다 큰 값들만 확인하기\n",
        "print(data[data['ZN'] > zn_max])"
      ],
      "metadata": {
        "colab": {
          "base_uri": "https://localhost:8080/"
        },
        "id": "JiCag6DxH5zC",
        "outputId": "1097b54d-aaf7-4c7d-b4b2-ab9c2b17043b"
      },
      "execution_count": 23,
      "outputs": [
        {
          "output_type": "stream",
          "name": "stdout",
          "text": [
            "        CRIM     ZN  INDUS  CHAS     NOX     RM   AGE      DIS  RAD  TAX  \\\n",
            "39   0.02763   75.0   2.95     0  0.4280  6.595  21.8   5.4011    3  252   \n",
            "40   0.03359   75.0   2.95     0  0.4280  7.024  15.8   5.4011    3  252   \n",
            "54   0.01360   75.0   4.00     0  0.4100  5.888  47.6   7.3197    3  469   \n",
            "55   0.01311   90.0   1.22     0  0.4030  7.249  21.9   8.6966    5  226   \n",
            "56   0.02055   85.0   0.74     0  0.4100  6.383  35.7   9.1876    2  313   \n",
            "57   0.01432  100.0   1.32     0  0.4110  6.816  40.5   8.3248    5  256   \n",
            "65   0.03584   80.0   3.37     0  0.3980  6.290  17.8   6.6115    4  337   \n",
            "66   0.04379   80.0   3.37     0  0.3980  5.787  31.1   6.6115    4  337   \n",
            "193  0.02187   60.0   2.93     0  0.4010  6.800   9.9   6.2196    1  265   \n",
            "194  0.01439   60.0   2.93     0  0.4010  6.604  18.8   6.2196    1  265   \n",
            "195  0.01381   80.0   0.46     0  0.4220  7.875  32.0   5.6484    4  255   \n",
            "196  0.04011   80.0   1.52     0  0.4040  7.287  34.1   7.3090    2  329   \n",
            "197  0.04666   80.0   1.52     0  0.4040  7.107  36.6   7.3090    2  329   \n",
            "198  0.03768   80.0   1.52     0  0.4040  7.274  38.3   7.3090    2  329   \n",
            "199  0.03150   95.0   1.47     0  0.4030  6.975  15.3   7.6534    3  402   \n",
            "200  0.01778   95.0   1.47     0  0.4030  7.135  13.9   7.6534    3  402   \n",
            "201  0.03445   82.5   2.03     0  0.4150  6.162  38.4   6.2700    2  348   \n",
            "202  0.02177   82.5   2.03     0  0.4150  7.610  15.7   6.2700    2  348   \n",
            "203  0.03510   95.0   2.68     0  0.4161  7.853  33.2   5.1180    4  224   \n",
            "204  0.02009   95.0   2.68     0  0.4161  8.034  31.9   5.1180    4  224   \n",
            "254  0.04819   80.0   3.64     0  0.3920  6.108  32.0   9.2203    1  315   \n",
            "255  0.03548   80.0   3.64     0  0.3920  5.876  19.1   9.2203    1  315   \n",
            "256  0.01538   90.0   3.75     0  0.3940  7.454  34.2   6.3361    3  244   \n",
            "283  0.01501   90.0   1.21     1  0.4010  7.923  24.8   5.8850    1  198   \n",
            "284  0.00906   90.0   2.97     0  0.4000  7.088  20.8   7.3073    1  285   \n",
            "285  0.01096   55.0   2.25     0  0.3890  6.453  31.9   7.3073    1  300   \n",
            "286  0.01965   80.0   1.76     0  0.3850  6.230  31.5   9.0892    1  241   \n",
            "287  0.03871   52.5   5.32     0  0.4050  6.209  31.3   7.3172    6  293   \n",
            "288  0.04590   52.5   5.32     0  0.4050  6.315  45.6   7.3172    6  293   \n",
            "289  0.04297   52.5   5.32     0  0.4050  6.565  22.9   7.3172    6  293   \n",
            "290  0.03502   80.0   4.95     0  0.4110  6.861  27.9   5.1167    4  245   \n",
            "291  0.07886   80.0   4.95     0  0.4110  7.148  27.7   5.1167    4  245   \n",
            "292  0.03615   80.0   4.95     0  0.4110  6.630  23.4   5.1167    4  245   \n",
            "298  0.06466   70.0   2.24     0  0.4000  6.345  20.1   7.8278    5  358   \n",
            "299  0.05561   70.0   2.24     0  0.4000  7.041  10.0   7.8278    5  358   \n",
            "300  0.04417   70.0   2.24     0  0.4000  6.871  47.4   7.8278    5  358   \n",
            "343  0.02543   55.0   3.78     0  0.4840  6.696  56.4   5.7321    5  370   \n",
            "344  0.03049   55.0   3.78     0  0.4840    NaN  28.1   6.4654    5  370   \n",
            "347  0.01870   85.0   4.15     0  0.4290  6.516  27.7   8.5353    4  351   \n",
            "348  0.01501   80.0   2.01     0  0.4350  6.635  29.7   8.3440    4  280   \n",
            "351  0.07950   60.0   1.69     0  0.4110  6.579  35.9  10.7103    4  411   \n",
            "352  0.07244   60.0   1.69     0  0.4110  5.884  18.5  10.7103    4  411   \n",
            "353  0.01709   90.0   2.02     0  0.4100  6.728  36.1  12.1265    5  187   \n",
            "354  0.04301   80.0   1.91     0  0.4130  5.663  21.9  10.5857    4  334   \n",
            "355  0.10659   80.0   1.91     0  0.4130  5.936  19.5  10.5857    4  334   \n",
            "\n",
            "     PTRATIO       B  LSTAT  MEDV  \n",
            "39      18.3  395.63   4.32  30.8  \n",
            "40      18.3  395.62   1.98  34.9  \n",
            "54      21.1  396.90  14.80  18.9  \n",
            "55      17.9  395.93   4.81  35.4  \n",
            "56      17.3  396.90   5.77  24.7  \n",
            "57      15.1  392.90   3.95  31.6  \n",
            "65      16.1  396.90   4.67  23.5  \n",
            "66      16.1  396.90  10.24  19.4  \n",
            "193     15.6  393.37   5.03  31.1  \n",
            "194     15.6  376.70   4.38  29.1  \n",
            "195     14.4  394.23   2.97  50.0  \n",
            "196     12.6  396.90   4.08  33.3  \n",
            "197     12.6  354.31   8.61  30.3  \n",
            "198     12.6  392.20   6.62  34.6  \n",
            "199     17.0  396.90   4.56  34.9  \n",
            "200     17.0  384.30   4.45  32.9  \n",
            "201     14.7  393.77   7.43  24.1  \n",
            "202     14.7  395.38   3.11  42.3  \n",
            "203     14.7  392.78   3.81  48.5  \n",
            "204     14.7  390.55   2.88  50.0  \n",
            "254     16.4  392.89   6.57  21.9  \n",
            "255     16.4  395.18   9.25  20.9  \n",
            "256     15.9  386.34   3.11  44.0  \n",
            "283     13.6  395.52   3.16  50.0  \n",
            "284     15.3  394.72   7.85  32.2  \n",
            "285     15.3  394.72   8.23  22.0  \n",
            "286     18.2  341.60  12.93  20.1  \n",
            "287     16.6  396.90   7.14  23.2  \n",
            "288     16.6  396.90   7.60  22.3  \n",
            "289     16.6  371.72   9.51  24.8  \n",
            "290     19.2  396.90   3.33  28.5  \n",
            "291     19.2  396.90   3.56  37.3  \n",
            "292     19.2  396.90   4.70  27.9  \n",
            "298     14.8  368.24   4.97  22.5  \n",
            "299     14.8  371.58   4.74  29.0  \n",
            "300     14.8  390.86   6.07  24.8  \n",
            "343     17.6  396.90   7.18  23.9  \n",
            "344     17.6  387.97   4.61  31.2  \n",
            "347     17.9  392.43   6.36  23.1  \n",
            "348     17.0  390.94   5.99  24.5  \n",
            "351     18.3  370.78   5.49  24.1  \n",
            "352     18.3  392.33   7.79  18.6  \n",
            "353     17.0  384.46   4.50  30.1  \n",
            "354     22.0  382.80   8.05  18.2  \n",
            "355     22.0  376.04   5.57  20.6  \n"
          ]
        }
      ]
    },
    {
      "cell_type": "code",
      "source": [
        "## ZN 칼럼만 추출한 후, 해당 데이터를 zn_max2 변수에 저장하기\n",
        "zn_max2 = data[data['ZN'] > zn_max]['ZN']\n",
        "\n",
        "## zn_max2 변수의 데이터 확인하기\n",
        "print(zn_max2)"
      ],
      "metadata": {
        "colab": {
          "base_uri": "https://localhost:8080/"
        },
        "id": "b2DQphHbICaw",
        "outputId": "f4a9c288-d000-4aa2-a479-2443f8ba5c11"
      },
      "execution_count": 24,
      "outputs": [
        {
          "output_type": "stream",
          "name": "stdout",
          "text": [
            "39      75.0\n",
            "40      75.0\n",
            "54      75.0\n",
            "55      90.0\n",
            "56      85.0\n",
            "57     100.0\n",
            "65      80.0\n",
            "66      80.0\n",
            "193     60.0\n",
            "194     60.0\n",
            "195     80.0\n",
            "196     80.0\n",
            "197     80.0\n",
            "198     80.0\n",
            "199     95.0\n",
            "200     95.0\n",
            "201     82.5\n",
            "202     82.5\n",
            "203     95.0\n",
            "204     95.0\n",
            "254     80.0\n",
            "255     80.0\n",
            "256     90.0\n",
            "283     90.0\n",
            "284     90.0\n",
            "285     55.0\n",
            "286     80.0\n",
            "287     52.5\n",
            "288     52.5\n",
            "289     52.5\n",
            "290     80.0\n",
            "291     80.0\n",
            "292     80.0\n",
            "298     70.0\n",
            "299     70.0\n",
            "300     70.0\n",
            "343     55.0\n",
            "344     55.0\n",
            "347     85.0\n",
            "348     80.0\n",
            "351     60.0\n",
            "352     60.0\n",
            "353     90.0\n",
            "354     80.0\n",
            "355     80.0\n",
            "Name: ZN, dtype: float64\n"
          ]
        }
      ]
    },
    {
      "cell_type": "code",
      "source": [
        "## ZN 칼럼이 zn_min보다 작은 값들을 확인하기\n",
        "print(data[data['ZN'] < zn_min]) ## 해당 값 없음을 확인할 수 있다"
      ],
      "metadata": {
        "colab": {
          "base_uri": "https://localhost:8080/"
        },
        "id": "kuK5UDvSIuJy",
        "outputId": "ac58803a-ed6e-4e02-81dc-51737493b523"
      },
      "execution_count": 25,
      "outputs": [
        {
          "output_type": "stream",
          "name": "stdout",
          "text": [
            "Empty DataFrame\n",
            "Columns: [CRIM, ZN, INDUS, CHAS, NOX, RM, AGE, DIS, RAD, TAX, PTRATIO, B, LSTAT, MEDV]\n",
            "Index: []\n"
          ]
        }
      ]
    },
    {
      "cell_type": "code",
      "source": [
        "## zn_max2 변숫값의 합계 구하기\n",
        "print(sum(zn_max2))"
      ],
      "metadata": {
        "colab": {
          "base_uri": "https://localhost:8080/"
        },
        "id": "edwtJyorI3-W",
        "outputId": "6470d52a-0744-4842-cc95-5d8ad9f6eeb3"
      },
      "execution_count": 26,
      "outputs": [
        {
          "output_type": "stream",
          "name": "stdout",
          "text": [
            "3462.5\n"
          ]
        }
      ]
    },
    {
      "cell_type": "markdown",
      "source": [
        "##### 최종 제출 코드"
      ],
      "metadata": {
        "id": "-vnC5L9gJiYD"
      }
    },
    {
      "cell_type": "code",
      "source": [
        "import pandas as pd\n",
        "data = pd.read_csv('boston.csv')\n",
        "zn_mean = data['ZN'].mean()\n",
        "zn_std = data['ZN'].std()\n",
        "zn_max = zn_mean + 1.5*zn_std\n",
        "zn_min = zn_mean - 1.5*zn_std\n",
        "zn_max2 = data[data['ZN'] > zn_max]['ZN']\n",
        "print(sum(zn_max2))"
      ],
      "metadata": {
        "colab": {
          "base_uri": "https://localhost:8080/"
        },
        "id": "f3G_VPWvJDB2",
        "outputId": "765ba5c8-5404-45a6-bb13-7f4722841e95"
      },
      "execution_count": 27,
      "outputs": [
        {
          "output_type": "stream",
          "name": "stdout",
          "text": [
            "3462.5\n"
          ]
        }
      ]
    },
    {
      "cell_type": "markdown",
      "source": [
        "### 1.4 사분위수 구하기"
      ],
      "metadata": {
        "id": "aF9hwcROJ-mD"
      }
    },
    {
      "cell_type": "markdown",
      "source": [
        "##### boston 데이터 세트에서 CHAS 칼럼과 RAD 칼럼을 제외한 칼럼에 한해서 칼럼별 IQR(Inter Quatile Range)값을 구하시오. 단 출력 구조는 2열이고 1열은 보스턴 데이터 세트의 칼럼 이름이 표시되어야 한다."
      ],
      "metadata": {
        "id": "eUtk0WQpKAfy"
      }
    },
    {
      "cell_type": "code",
      "source": [
        "import pandas as pd\n",
        "data = pd.read_csv('boston.csv')"
      ],
      "metadata": {
        "id": "6ihv7Fx_J8qQ"
      },
      "execution_count": 28,
      "outputs": []
    },
    {
      "cell_type": "code",
      "source": [
        "## drop 변수의 행/열 구조 확인하기\n",
        "print(data.shape)"
      ],
      "metadata": {
        "colab": {
          "base_uri": "https://localhost:8080/"
        },
        "id": "L3oyQUM7KobD",
        "outputId": "49a71e00-ff5a-4802-da5b-84d0a9bef676"
      },
      "execution_count": 29,
      "outputs": [
        {
          "output_type": "stream",
          "name": "stdout",
          "text": [
            "(506, 14)\n"
          ]
        }
      ]
    },
    {
      "cell_type": "code",
      "source": [
        "## CHAS, RAD 칼럼을 삭제하기\n",
        "print(data.drop(columns = ['CHAS', 'RAD']))"
      ],
      "metadata": {
        "colab": {
          "base_uri": "https://localhost:8080/"
        },
        "id": "TwL7qSuXKs6Z",
        "outputId": "d1461631-7dc6-45ba-8acf-69b1df33ab0d"
      },
      "execution_count": 30,
      "outputs": [
        {
          "output_type": "stream",
          "name": "stdout",
          "text": [
            "        CRIM    ZN  INDUS    NOX     RM   AGE     DIS  TAX  PTRATIO       B  \\\n",
            "0    0.00632  18.0   2.31  0.538  6.575  65.2  4.0900  296     15.3  396.90   \n",
            "1    0.02731   0.0   7.07  0.469  6.421  78.9  4.9671  242     17.8  396.90   \n",
            "2    0.02729   0.0   7.07  0.469  7.185  61.1  4.9671  242     17.8  392.83   \n",
            "3    0.03237   0.0   2.18  0.458  6.998  45.8  6.0622  222     18.7  394.63   \n",
            "4    0.06905   0.0   2.18  0.458  7.147  54.2  6.0622  222     18.7  396.90   \n",
            "..       ...   ...    ...    ...    ...   ...     ...  ...      ...     ...   \n",
            "501  0.06263   0.0  11.93  0.573  6.593  69.1  2.4786  273     21.0  391.99   \n",
            "502  0.04527   0.0  11.93  0.573    NaN  76.7  2.2875  273     21.0  396.90   \n",
            "503  0.06076   0.0  11.93  0.573  6.976  91.0  2.1675  273     21.0  396.90   \n",
            "504  0.10959   0.0  11.93  0.573  6.794  89.3  2.3889  273     21.0  393.45   \n",
            "505  0.04741   0.0  11.93  0.573  6.030  80.8  2.5050  273     21.0  396.90   \n",
            "\n",
            "     LSTAT  MEDV  \n",
            "0     4.98  24.0  \n",
            "1     9.14  21.6  \n",
            "2     4.03  34.7  \n",
            "3     2.94  33.4  \n",
            "4     5.33  36.2  \n",
            "..     ...   ...  \n",
            "501   9.67  22.4  \n",
            "502   9.08  20.6  \n",
            "503   5.64  23.9  \n",
            "504   6.48  22.0  \n",
            "505   7.88  11.9  \n",
            "\n",
            "[506 rows x 12 columns]\n"
          ]
        }
      ]
    },
    {
      "cell_type": "code",
      "source": [
        "## data 변수에서 CHAS 칼럼과 RAD 칼럼을 삭제하기\n",
        "data_col12 = data.drop(columns = ['CHAS', 'RAD'])\n",
        "\n",
        "## data_col12 변수의 행/열 확인하기\n",
        "print(data_col12.shape)"
      ],
      "metadata": {
        "colab": {
          "base_uri": "https://localhost:8080/"
        },
        "id": "6eWLkMNPKytl",
        "outputId": "85cc2438-c597-4430-c2a6-e84f05b2f0ed"
      },
      "execution_count": 31,
      "outputs": [
        {
          "output_type": "stream",
          "name": "stdout",
          "text": [
            "(506, 12)\n"
          ]
        }
      ]
    },
    {
      "cell_type": "code",
      "source": [
        "## data_col12 변수의 기초 통계량 정보를 data_col12_desc 변수에 저장하기\n",
        "data_col12_desc = data_col12.describe()\n",
        "\n",
        "## data_col12_desc 변수 부르기\n",
        "print(data_col12_desc)"
      ],
      "metadata": {
        "colab": {
          "base_uri": "https://localhost:8080/"
        },
        "id": "Ak8jTVcQK_Cq",
        "outputId": "b1891b58-81b3-4ac6-b811-96fdcd5e8125"
      },
      "execution_count": 32,
      "outputs": [
        {
          "output_type": "stream",
          "name": "stdout",
          "text": [
            "             CRIM          ZN       INDUS         NOX          RM         AGE  \\\n",
            "count  506.000000  506.000000  506.000000  506.000000  491.000000  506.000000   \n",
            "mean     3.613524   11.363636   11.136779    0.554695    6.285102   68.574901   \n",
            "std      8.601545   23.322453    6.860353    0.115878    0.708096   28.148861   \n",
            "min      0.006320    0.000000    0.460000    0.385000    3.561000    2.900000   \n",
            "25%      0.082045    0.000000    5.190000    0.449000    5.886000   45.025000   \n",
            "50%      0.256510    0.000000    9.690000    0.538000    6.209000   77.500000   \n",
            "75%      3.677083   12.500000   18.100000    0.624000    6.622000   94.075000   \n",
            "max     88.976200  100.000000   27.740000    0.871000    8.780000  100.000000   \n",
            "\n",
            "              DIS         TAX     PTRATIO           B       LSTAT        MEDV  \n",
            "count  506.000000  506.000000  506.000000  506.000000  506.000000  506.000000  \n",
            "mean     3.795043  408.237154   18.455534  356.674032   12.653063   22.532806  \n",
            "std      2.105710  168.537116    2.164946   91.294864    7.141062    9.197104  \n",
            "min      1.129600  187.000000   12.600000    0.320000    1.730000    5.000000  \n",
            "25%      2.100175  279.000000   17.400000  375.377500    6.950000   17.025000  \n",
            "50%      3.207450  330.000000   19.050000  391.440000   11.360000   21.200000  \n",
            "75%      5.188425  666.000000   20.200000  396.225000   16.955000   25.000000  \n",
            "max     12.126500  711.000000   22.000000  396.900000   37.970000   50.000000  \n"
          ]
        }
      ]
    },
    {
      "cell_type": "code",
      "source": [
        "## data_col12_desc 변수에서 4번 행, 6번 행 데이터를 가져오기\n",
        "print(data_col12_desc.iloc[[4,6]])"
      ],
      "metadata": {
        "colab": {
          "base_uri": "https://localhost:8080/"
        },
        "id": "NQJ57zKeLNDl",
        "outputId": "fdeff3a4-ba05-45e9-909b-678bbcda08f8"
      },
      "execution_count": 33,
      "outputs": [
        {
          "output_type": "stream",
          "name": "stdout",
          "text": [
            "         CRIM    ZN  INDUS    NOX     RM     AGE       DIS    TAX  PTRATIO  \\\n",
            "25%  0.082045   0.0   5.19  0.449  5.886  45.025  2.100175  279.0     17.4   \n",
            "75%  3.677083  12.5  18.10  0.624  6.622  94.075  5.188425  666.0     20.2   \n",
            "\n",
            "            B   LSTAT    MEDV  \n",
            "25%  375.3775   6.950  17.025  \n",
            "75%  396.2250  16.955  25.000  \n"
          ]
        }
      ]
    },
    {
      "cell_type": "code",
      "source": [
        "## data_col12_desc 변수의 4번, 6번 데이터의 행/열 구조를 바꾸기\n",
        "print(data_col12_desc.iloc[[4,6]].T)"
      ],
      "metadata": {
        "colab": {
          "base_uri": "https://localhost:8080/"
        },
        "id": "1OR7ZWtxN_Qo",
        "outputId": "4d8973ea-8739-4a5b-bb8a-a12bd360e017"
      },
      "execution_count": 34,
      "outputs": [
        {
          "output_type": "stream",
          "name": "stdout",
          "text": [
            "                25%         75%\n",
            "CRIM       0.082045    3.677083\n",
            "ZN         0.000000   12.500000\n",
            "INDUS      5.190000   18.100000\n",
            "NOX        0.449000    0.624000\n",
            "RM         5.886000    6.622000\n",
            "AGE       45.025000   94.075000\n",
            "DIS        2.100175    5.188425\n",
            "TAX      279.000000  666.000000\n",
            "PTRATIO   17.400000   20.200000\n",
            "B        375.377500  396.225000\n",
            "LSTAT      6.950000   16.955000\n",
            "MEDV      17.025000   25.000000\n"
          ]
        }
      ]
    },
    {
      "cell_type": "code",
      "source": [
        "## 행/열이 바뀐 결과 데이터는 data_col12_desc_T 변수에 저장하기\n",
        "data_col12_desc_T = data_col12_desc.iloc[[4,6]].T"
      ],
      "metadata": {
        "id": "gecYq0RBOJyn"
      },
      "execution_count": 35,
      "outputs": []
    },
    {
      "cell_type": "code",
      "source": [
        "## data_col12_desc_T 변수의 데이터 확인하기\n",
        "print(data_col12_desc_T)"
      ],
      "metadata": {
        "colab": {
          "base_uri": "https://localhost:8080/"
        },
        "id": "x07mAOqxOdQW",
        "outputId": "6333ee33-3da3-4f1e-951d-bd290fd80350"
      },
      "execution_count": 36,
      "outputs": [
        {
          "output_type": "stream",
          "name": "stdout",
          "text": [
            "                25%         75%\n",
            "CRIM       0.082045    3.677083\n",
            "ZN         0.000000   12.500000\n",
            "INDUS      5.190000   18.100000\n",
            "NOX        0.449000    0.624000\n",
            "RM         5.886000    6.622000\n",
            "AGE       45.025000   94.075000\n",
            "DIS        2.100175    5.188425\n",
            "TAX      279.000000  666.000000\n",
            "PTRATIO   17.400000   20.200000\n",
            "B        375.377500  396.225000\n",
            "LSTAT      6.950000   16.955000\n",
            "MEDV      17.025000   25.000000\n"
          ]
        }
      ]
    },
    {
      "cell_type": "code",
      "source": [
        "## 3사분위수에서 1사분위수를 빼서 IQR 구하기\n",
        "print(data_col12_desc_T['75%'] - data_col12_desc_T['25%'])"
      ],
      "metadata": {
        "colab": {
          "base_uri": "https://localhost:8080/"
        },
        "id": "Y1f75HkiOioV",
        "outputId": "3f4ac584-0a1c-494b-9ab6-d9e9f721c259"
      },
      "execution_count": 37,
      "outputs": [
        {
          "output_type": "stream",
          "name": "stdout",
          "text": [
            "CRIM         3.595038\n",
            "ZN          12.500000\n",
            "INDUS       12.910000\n",
            "NOX          0.175000\n",
            "RM           0.736000\n",
            "AGE         49.050000\n",
            "DIS          3.088250\n",
            "TAX        387.000000\n",
            "PTRATIO      2.800000\n",
            "B           20.847500\n",
            "LSTAT       10.005000\n",
            "MEDV         7.975000\n",
            "dtype: float64\n"
          ]
        }
      ]
    },
    {
      "cell_type": "markdown",
      "source": [
        "##### 최종 제출 코드"
      ],
      "metadata": {
        "id": "no7kbIahO110"
      }
    },
    {
      "cell_type": "code",
      "source": [
        "import pandas as pd\n",
        "data = pd.read_csv('boston.csv')\n",
        "data_col12 = data.drop(columns = ['CHAS', 'RAD'])\n",
        "data_col12_desc = data_col12.describe()\n",
        "data_col12_desc_T = data_col12_desc.iloc[[4,6]].T\n",
        "print(data_col12_desc_T['75%'] - data_col12_desc_T['25%'])"
      ],
      "metadata": {
        "colab": {
          "base_uri": "https://localhost:8080/"
        },
        "id": "huwBrum-OzUV",
        "outputId": "6e202f99-85f9-4483-dd1a-ddb3aef0032e"
      },
      "execution_count": 38,
      "outputs": [
        {
          "output_type": "stream",
          "name": "stdout",
          "text": [
            "CRIM         3.595038\n",
            "ZN          12.500000\n",
            "INDUS       12.910000\n",
            "NOX          0.175000\n",
            "RM           0.736000\n",
            "AGE         49.050000\n",
            "DIS          3.088250\n",
            "TAX        387.000000\n",
            "PTRATIO      2.800000\n",
            "B           20.847500\n",
            "LSTAT       10.005000\n",
            "MEDV         7.975000\n",
            "dtype: float64\n"
          ]
        }
      ]
    },
    {
      "cell_type": "markdown",
      "source": [
        "### 1.5 순위 구하기"
      ],
      "metadata": {
        "id": "yh6v8KZsPPDj"
      }
    },
    {
      "cell_type": "markdown",
      "source": [
        "##### boston 데이터 세트의 MEDV 칼럼을 기준으로 30번째로 큰 값을 1번~29번째로 큰 값에 적용한다. 그리고 MEDV 칼럼의 평균값, 중위값, 최솟값, 최댓값 순으로 한 줄에 출력하시오."
      ],
      "metadata": {
        "id": "QFyj_bNAPQvg"
      }
    },
    {
      "cell_type": "code",
      "source": [
        "import pandas as pd\n",
        "data = pd.read_csv('boston.csv')"
      ],
      "metadata": {
        "id": "vXTMtg5-PNFh"
      },
      "execution_count": 39,
      "outputs": []
    },
    {
      "cell_type": "code",
      "source": [
        "## data 변수에서 MEDV 칼럼 값을 추출하여 상위 3개 행 확인하기\n",
        "print(data['MEDV'].head(3))"
      ],
      "metadata": {
        "colab": {
          "base_uri": "https://localhost:8080/"
        },
        "id": "WvYuShtzP6NF",
        "outputId": "abfee0a3-b496-4968-cb36-d48b929a4284"
      },
      "execution_count": 40,
      "outputs": [
        {
          "output_type": "stream",
          "name": "stdout",
          "text": [
            "0    24.0\n",
            "1    21.6\n",
            "2    34.7\n",
            "Name: MEDV, dtype: float64\n"
          ]
        }
      ]
    },
    {
      "cell_type": "code",
      "source": [
        "## MEDV 칼럼을 내림차순으로 정렬한 후, data_new 변수에 저장하기\n",
        "data_new = data['MEDV'].sort_values(ascending=False)\n",
        "\n",
        "## data_new 변수의 상위 30개 데이터 확인하기\n",
        "print(data_new.head(30))"
      ],
      "metadata": {
        "colab": {
          "base_uri": "https://localhost:8080/"
        },
        "id": "VC0TWjPwQAZ8",
        "outputId": "828f6897-d2e0-40a8-bd96-565cf85924ab"
      },
      "execution_count": 41,
      "outputs": [
        {
          "output_type": "stream",
          "name": "stdout",
          "text": [
            "283    50.0\n",
            "225    50.0\n",
            "369    50.0\n",
            "370    50.0\n",
            "371    50.0\n",
            "372    50.0\n",
            "186    50.0\n",
            "204    50.0\n",
            "257    50.0\n",
            "195    50.0\n",
            "166    50.0\n",
            "163    50.0\n",
            "267    50.0\n",
            "162    50.0\n",
            "161    50.0\n",
            "368    50.0\n",
            "262    48.8\n",
            "203    48.5\n",
            "233    48.3\n",
            "228    46.7\n",
            "282    46.0\n",
            "280    45.4\n",
            "224    44.8\n",
            "256    44.0\n",
            "98     43.8\n",
            "268    43.5\n",
            "261    43.1\n",
            "253    42.8\n",
            "202    42.3\n",
            "232    41.7\n",
            "Name: MEDV, dtype: float64\n"
          ]
        }
      ]
    },
    {
      "cell_type": "code",
      "source": [
        "## 30번째로 큰 값을 확인하기\n",
        "print(data_new.iloc[29])"
      ],
      "metadata": {
        "colab": {
          "base_uri": "https://localhost:8080/"
        },
        "id": "XFMvJ4yjoPr9",
        "outputId": "6886f24e-3834-4bf9-ed6c-f6929eca8d0e"
      },
      "execution_count": 42,
      "outputs": [
        {
          "output_type": "stream",
          "name": "stdout",
          "text": [
            "41.7\n"
          ]
        }
      ]
    },
    {
      "cell_type": "code",
      "source": [
        "## 1번~29번째(행 번호 0~28)로 큰 값 확인하기\n",
        "print(data_new.iloc[0:28])"
      ],
      "metadata": {
        "colab": {
          "base_uri": "https://localhost:8080/"
        },
        "id": "Ah4WE0K5oaNJ",
        "outputId": "a0344183-2978-400b-a5c7-29b0cc39df22"
      },
      "execution_count": 43,
      "outputs": [
        {
          "output_type": "stream",
          "name": "stdout",
          "text": [
            "283    50.0\n",
            "225    50.0\n",
            "369    50.0\n",
            "370    50.0\n",
            "371    50.0\n",
            "372    50.0\n",
            "186    50.0\n",
            "204    50.0\n",
            "257    50.0\n",
            "195    50.0\n",
            "166    50.0\n",
            "163    50.0\n",
            "267    50.0\n",
            "162    50.0\n",
            "161    50.0\n",
            "368    50.0\n",
            "262    48.8\n",
            "203    48.5\n",
            "233    48.3\n",
            "228    46.7\n",
            "282    46.0\n",
            "280    45.4\n",
            "224    44.8\n",
            "256    44.0\n",
            "98     43.8\n",
            "268    43.5\n",
            "261    43.1\n",
            "253    42.8\n",
            "Name: MEDV, dtype: float64\n"
          ]
        }
      ]
    },
    {
      "cell_type": "code",
      "source": [
        "## 1번째~29번째 큰 값들은 41.7로 변경하기\n",
        "data_new.iloc[0:28] = 41.7\n",
        "\n",
        "## 1번째~29번째 큰 값들을 확인하기\n",
        "print(data_new.iloc[0:28])"
      ],
      "metadata": {
        "colab": {
          "base_uri": "https://localhost:8080/"
        },
        "id": "08DLpBBqoi2I",
        "outputId": "470368e4-6702-47a6-8952-de7fcf1f9ac4"
      },
      "execution_count": 44,
      "outputs": [
        {
          "output_type": "stream",
          "name": "stdout",
          "text": [
            "283    41.7\n",
            "225    41.7\n",
            "369    41.7\n",
            "370    41.7\n",
            "371    41.7\n",
            "372    41.7\n",
            "186    41.7\n",
            "204    41.7\n",
            "257    41.7\n",
            "195    41.7\n",
            "166    41.7\n",
            "163    41.7\n",
            "267    41.7\n",
            "162    41.7\n",
            "161    41.7\n",
            "368    41.7\n",
            "262    41.7\n",
            "203    41.7\n",
            "233    41.7\n",
            "228    41.7\n",
            "282    41.7\n",
            "280    41.7\n",
            "224    41.7\n",
            "256    41.7\n",
            "98     41.7\n",
            "268    41.7\n",
            "261    41.7\n",
            "253    41.7\n",
            "Name: MEDV, dtype: float64\n"
          ]
        }
      ]
    },
    {
      "cell_type": "code",
      "source": [
        "## data_new 변수에서 평균값, 중위값, 최솟값, 최댓값 구하기\n",
        "print(data_new.mean(), data_new.median(), data_new.min(), data_new.max())"
      ],
      "metadata": {
        "colab": {
          "base_uri": "https://localhost:8080/"
        },
        "id": "NRW-3C70oxKh",
        "outputId": "1186a1aa-a509-4f7e-fa85-2c7b243189a1"
      },
      "execution_count": 45,
      "outputs": [
        {
          "output_type": "stream",
          "name": "stdout",
          "text": [
            "22.180830039525684 21.2 5.0 42.3\n"
          ]
        }
      ]
    },
    {
      "cell_type": "markdown",
      "source": [
        "##### 최종 제출 코드"
      ],
      "metadata": {
        "id": "SEE6cgIJo9t4"
      }
    },
    {
      "cell_type": "code",
      "source": [
        "import pandas as pd\n",
        "data = pd.read_csv('boston.csv')\n",
        "data_new = data['MEDV'].sort_values(ascending=False)\n",
        "data_new.iloc[0:28] = 41.7\n",
        "print(data_new.mean(), data_new.median(), data_new.min(), data_new.max())"
      ],
      "metadata": {
        "colab": {
          "base_uri": "https://localhost:8080/"
        },
        "id": "unE8ICkBo8wB",
        "outputId": "3159569e-f87a-45b8-f543-964993f8f0da"
      },
      "execution_count": 46,
      "outputs": [
        {
          "output_type": "stream",
          "name": "stdout",
          "text": [
            "22.180830039525684 21.2 5.0 42.3\n"
          ]
        }
      ]
    },
    {
      "cell_type": "code",
      "source": [
        ""
      ],
      "metadata": {
        "id": "Rdw8CekfpQTi"
      },
      "execution_count": 46,
      "outputs": []
    },
    {
      "cell_type": "markdown",
      "source": [
        "## 복잡한 데이터 분석"
      ],
      "metadata": {
        "id": "WCFo4bcbpVMB"
      }
    },
    {
      "cell_type": "markdown",
      "source": [
        "### 2.1 그룹별 집계/요약하기"
      ],
      "metadata": {
        "id": "IgJBRVuEpXIF"
      }
    },
    {
      "cell_type": "markdown",
      "source": [
        "##### boston 데이터 세트의 TAX 칼럼이 TAX 칼럼의 중위값보다 큰 데이터를 대상으로, CHAS 칼럼과 RAD 칼럼 순으로 그룹을 지은 후 각 그룹의 데이터 개수를 구하시오. 단, CHAS, RAD 칼럼별 데이터 개수는 COUNT라는 칼럼으로 출력합니다."
      ],
      "metadata": {
        "id": "vZiG6tuLpcB7"
      }
    },
    {
      "cell_type": "code",
      "source": [
        "import pandas as pd\n",
        "data = pd.read_csv('boston.csv')"
      ],
      "metadata": {
        "id": "4nZOtKb_pWXT"
      },
      "execution_count": 47,
      "outputs": []
    },
    {
      "cell_type": "code",
      "source": [
        "## TAX 칼럼의 중위값 구하기\n",
        "tax_median = data['TAX'].median()\n",
        "\n",
        "## TAX 칼럼의 중위값 확이하기\n",
        "print(tax_median)"
      ],
      "metadata": {
        "colab": {
          "base_uri": "https://localhost:8080/"
        },
        "id": "Ng9WngJqxuPV",
        "outputId": "2f84562e-3d1c-4118-c458-4575208d884e"
      },
      "execution_count": 48,
      "outputs": [
        {
          "output_type": "stream",
          "name": "stdout",
          "text": [
            "330.0\n"
          ]
        }
      ]
    },
    {
      "cell_type": "code",
      "source": [
        "## TAX 칼럼에서 tax_median보다 큰지 여부를 확인하기\n",
        "print(data['TAX'] > tax_median)"
      ],
      "metadata": {
        "colab": {
          "base_uri": "https://localhost:8080/"
        },
        "id": "kvgSzYlKyCVP",
        "outputId": "ecf90ac9-74ae-4140-ce48-3ecbaf19b788"
      },
      "execution_count": 49,
      "outputs": [
        {
          "output_type": "stream",
          "name": "stdout",
          "text": [
            "0      False\n",
            "1      False\n",
            "2      False\n",
            "3      False\n",
            "4      False\n",
            "       ...  \n",
            "501    False\n",
            "502    False\n",
            "503    False\n",
            "504    False\n",
            "505    False\n",
            "Name: TAX, Length: 506, dtype: bool\n"
          ]
        }
      ]
    },
    {
      "cell_type": "code",
      "source": [
        "## TAX 칼럼이 중위값보다 큰 값들만 추출해서 확인하기\n",
        "print(data[data['TAX'] > tax_median])"
      ],
      "metadata": {
        "colab": {
          "base_uri": "https://localhost:8080/"
        },
        "id": "SjBVIXQGyjlu",
        "outputId": "14f0e16b-ae50-43b3-815e-7ef8bfbb6de3"
      },
      "execution_count": 50,
      "outputs": [
        {
          "output_type": "stream",
          "name": "stdout",
          "text": [
            "        CRIM    ZN  INDUS  CHAS    NOX     RM   AGE     DIS  RAD  TAX  \\\n",
            "54   0.01360  75.0   4.00     0  0.410  5.888  47.6  7.3197    3  469   \n",
            "65   0.03584  80.0   3.37     0  0.398  6.290  17.8  6.6115    4  337   \n",
            "66   0.04379  80.0   3.37     0  0.398  5.787  31.1  6.6115    4  337   \n",
            "67   0.05789  12.5   6.07     0  0.409  5.878  21.4  6.4980    4  345   \n",
            "68   0.13554  12.5   6.07     0  0.409  5.594  36.8  6.4980    4  345   \n",
            "..       ...   ...    ...   ...    ...    ...   ...     ...  ...  ...   \n",
            "496  0.28960   0.0   9.69     0  0.585  5.390  72.9  2.7986    6  391   \n",
            "497  0.26838   0.0   9.69     0  0.585    NaN  70.6  2.8927    6  391   \n",
            "498  0.23912   0.0   9.69     0  0.585  6.019  65.3  2.4091    6  391   \n",
            "499  0.17783   0.0   9.69     0  0.585  5.569  73.5  2.3999    6  391   \n",
            "500  0.22438   0.0   9.69     0  0.585  6.027  79.7  2.4982    6  391   \n",
            "\n",
            "     PTRATIO       B  LSTAT  MEDV  \n",
            "54      21.1  396.90  14.80  18.9  \n",
            "65      16.1  396.90   4.67  23.5  \n",
            "66      16.1  396.90  10.24  19.4  \n",
            "67      18.9  396.21   8.10  22.0  \n",
            "68      18.9  396.90  13.09  17.4  \n",
            "..       ...     ...    ...   ...  \n",
            "496     19.2  396.90  21.14  19.7  \n",
            "497     19.2  396.90  14.10  18.3  \n",
            "498     19.2  396.90  12.92  21.2  \n",
            "499     19.2  395.77  15.10  17.5  \n",
            "500     19.2  396.90  14.33  16.8  \n",
            "\n",
            "[250 rows x 14 columns]\n"
          ]
        }
      ]
    },
    {
      "cell_type": "code",
      "source": [
        "## TAX 칼럼에서 중위값보다 큰 값을 기준으로 CHAS 칼럼과 RAD 칼럼만 추출하기\n",
        "print(data[data['TAX'] > tax_median][['CHAS', 'RAD']])"
      ],
      "metadata": {
        "colab": {
          "base_uri": "https://localhost:8080/"
        },
        "id": "zc2ulM8myzmZ",
        "outputId": "cfb20535-185e-4a84-c162-91f100ae36e6"
      },
      "execution_count": 51,
      "outputs": [
        {
          "output_type": "stream",
          "name": "stdout",
          "text": [
            "     CHAS  RAD\n",
            "54      0    3\n",
            "65      0    4\n",
            "66      0    4\n",
            "67      0    4\n",
            "68      0    4\n",
            "..    ...  ...\n",
            "496     0    6\n",
            "497     0    6\n",
            "498     0    6\n",
            "499     0    6\n",
            "500     0    6\n",
            "\n",
            "[250 rows x 2 columns]\n"
          ]
        }
      ]
    },
    {
      "cell_type": "code",
      "source": [
        "## 앞선 결과를 data_new 변수에 저장하기\n",
        "data_new = data[data['TAX'] > tax_median][['CHAS', 'RAD']]"
      ],
      "metadata": {
        "id": "8-p3yC6rzA1n"
      },
      "execution_count": 52,
      "outputs": []
    },
    {
      "cell_type": "code",
      "source": [
        "## CHAS 칼럼에 들어있는 값 종류를 확인하기\n",
        "print(data_new['CHAS'].unique())\n",
        "\n",
        "## RAD 칼럼에 들어있는 값 종류를 확인하기\n",
        "print(data_new['RAD'].unique())"
      ],
      "metadata": {
        "colab": {
          "base_uri": "https://localhost:8080/"
        },
        "id": "GHsnXtQMzKct",
        "outputId": "1c742246-7b67-43c4-c3f7-60f5ad938e57"
      },
      "execution_count": 53,
      "outputs": [
        {
          "output_type": "stream",
          "name": "stdout",
          "text": [
            "[0 1]\n",
            "[ 3  4  5  6  2  1 24]\n"
          ]
        }
      ]
    },
    {
      "cell_type": "code",
      "source": [
        "## CHAS, RAD 칼럼 순으로 그룹을 짓고, 그룹 안에 속한 RAD 칼럼 값을 센 변수 만들기\n",
        "data_new2 = data_new.groupby(['CHAS', 'RAD'])['RAD'].count()\n",
        "\n",
        "## data_new 변수의 결과 확인하기\n",
        "print(data_new2)"
      ],
      "metadata": {
        "colab": {
          "base_uri": "https://localhost:8080/"
        },
        "id": "z-luk0mrzY5j",
        "outputId": "a6a284bf-9455-4957-bacf-4c815c6b75ac"
      },
      "execution_count": 54,
      "outputs": [
        {
          "output_type": "stream",
          "name": "stdout",
          "text": [
            "CHAS  RAD\n",
            "0     1        3\n",
            "      2        2\n",
            "      3        5\n",
            "      4       33\n",
            "      5       51\n",
            "      6       17\n",
            "      24     124\n",
            "1     5        7\n",
            "      24       8\n",
            "Name: RAD, dtype: int64\n"
          ]
        }
      ]
    },
    {
      "cell_type": "code",
      "source": [
        "## data_new2 변수의 데이터 타입 확인하기\n",
        "print(type(data_new2))\n",
        "\n",
        "## data_new2 변수를 데이터프레임 타입으로 변경하고, data_new3 변수에 저장하기\n",
        "data_new3 = pd.DataFrame(data_new2)\n",
        "\n",
        "## data_new2 변수에서 카운트 연산을 수행한 결과 칼럼 이름은 COUNT로 설정하기\n",
        "data_new3.columns = ['COUNT']\n",
        "\n",
        "## 최종 제출 가능한 data_new 값을 확인하기\n",
        "print(data_new3)"
      ],
      "metadata": {
        "colab": {
          "base_uri": "https://localhost:8080/"
        },
        "id": "adSN5YIt0Rl0",
        "outputId": "d8bf4c1d-389b-4c6c-8bd8-5f02c7c65186"
      },
      "execution_count": 55,
      "outputs": [
        {
          "output_type": "stream",
          "name": "stdout",
          "text": [
            "<class 'pandas.core.series.Series'>\n",
            "          COUNT\n",
            "CHAS RAD       \n",
            "0    1        3\n",
            "     2        2\n",
            "     3        5\n",
            "     4       33\n",
            "     5       51\n",
            "     6       17\n",
            "     24     124\n",
            "1    5        7\n",
            "     24       8\n"
          ]
        }
      ]
    },
    {
      "cell_type": "markdown",
      "source": [
        "##### 최종 제출 코드"
      ],
      "metadata": {
        "id": "fuX3EuHy1Wpe"
      }
    },
    {
      "cell_type": "code",
      "source": [
        "import pandas as pd\n",
        "data = pd.read_csv('boston.csv')\n",
        "tax_median = data['TAX'].median()\n",
        "data_new = data[data['TAX'] > tax_median][['CHAS', 'RAD']]\n",
        "data_new2 = data_new.groupby(['CHAS', 'RAD'])['RAD'].count()\n",
        "data_new3 = pd.DataFrame(data_new2)\n",
        "data_new3.columns = ['COUNT']\n",
        "print(data_new3)"
      ],
      "metadata": {
        "colab": {
          "base_uri": "https://localhost:8080/"
        },
        "id": "TO36_CAD1SV9",
        "outputId": "cdab88ca-12f8-45f2-baa3-0eb9ac5608a2"
      },
      "execution_count": 56,
      "outputs": [
        {
          "output_type": "stream",
          "name": "stdout",
          "text": [
            "          COUNT\n",
            "CHAS RAD       \n",
            "0    1        3\n",
            "     2        2\n",
            "     3        5\n",
            "     4       33\n",
            "     5       51\n",
            "     6       17\n",
            "     24     124\n",
            "1    5        7\n",
            "     24       8\n"
          ]
        }
      ]
    },
    {
      "cell_type": "markdown",
      "source": [
        "### 2.2 오름차순/내림차순 정렬하기"
      ],
      "metadata": {
        "id": "Ftw3wbp-3nYI"
      }
    },
    {
      "cell_type": "markdown",
      "source": [
        "##### boston 데이터 세트의 TAX 칼럼을 오름차순으로 정렬한 결과와 내림차순으로 정렬한 결과를 각각 구한다. 그리고 각 순번에 맞는 오름차순 값과 내림차순 값의 차이를 구하여 분산 값을 출력하시오."
      ],
      "metadata": {
        "id": "MR9vKjEO3rg7"
      }
    },
    {
      "cell_type": "code",
      "source": [
        "import pandas as pd\n",
        "data = pd.read_csv('boston.csv')"
      ],
      "metadata": {
        "id": "DiG6IUMi2e05"
      },
      "execution_count": 57,
      "outputs": []
    },
    {
      "cell_type": "code",
      "source": [
        "## TAX 칼럼을 추출하여 data_asc 변수에 저장하기\n",
        "data_asc = data['TAX'].copy()\n",
        "\n",
        "## TAX 칼럼을 추출하여 data_desc 변수에 저장하기\n",
        "data_desc = data['TAX'].copy()"
      ],
      "metadata": {
        "id": "5oGZpOO_4iXe"
      },
      "execution_count": 58,
      "outputs": []
    },
    {
      "cell_type": "code",
      "source": [
        "## data_asc 변수를 오름차순으로 정렬하기\n",
        "print(data_asc.sort_values(ascending=True))"
      ],
      "metadata": {
        "colab": {
          "base_uri": "https://localhost:8080/"
        },
        "id": "ltQQHTMA4sgn",
        "outputId": "78e9c3cb-58a7-424b-b0aa-24bde3f23c02"
      },
      "execution_count": 59,
      "outputs": [
        {
          "output_type": "stream",
          "name": "stdout",
          "text": [
            "353    187\n",
            "123    188\n",
            "122    188\n",
            "126    188\n",
            "125    188\n",
            "      ... \n",
            "492    711\n",
            "491    711\n",
            "490    711\n",
            "489    711\n",
            "488    711\n",
            "Name: TAX, Length: 506, dtype: int64\n"
          ]
        }
      ]
    },
    {
      "cell_type": "code",
      "source": [
        "## data_asc 변수를 오름차순으로 정렬하고, 정렬된 데이터를 data_asc 변수에 저장하기\n",
        "data_asc.sort_values(inplace=True)\n",
        "\n",
        "## data_asc 변수를 확인하기\n",
        "print(data_asc)"
      ],
      "metadata": {
        "colab": {
          "base_uri": "https://localhost:8080/"
        },
        "id": "j7piJ6f840lh",
        "outputId": "08e2e231-f7b2-48b6-d1fa-32355d4b0253"
      },
      "execution_count": 60,
      "outputs": [
        {
          "output_type": "stream",
          "name": "stdout",
          "text": [
            "353    187\n",
            "123    188\n",
            "122    188\n",
            "126    188\n",
            "125    188\n",
            "      ... \n",
            "492    711\n",
            "491    711\n",
            "490    711\n",
            "489    711\n",
            "488    711\n",
            "Name: TAX, Length: 506, dtype: int64\n"
          ]
        }
      ]
    },
    {
      "cell_type": "code",
      "source": [
        "## data_desc 변수를 내림차순으로 정렬하기\n",
        "print(data_desc.sort_values(ascending=False))"
      ],
      "metadata": {
        "colab": {
          "base_uri": "https://localhost:8080/"
        },
        "id": "rz7UXyE85Cbq",
        "outputId": "cc9b0917-e967-4b7c-fff8-9c164b035af8"
      },
      "execution_count": 61,
      "outputs": [
        {
          "output_type": "stream",
          "name": "stdout",
          "text": [
            "492    711\n",
            "491    711\n",
            "490    711\n",
            "489    711\n",
            "488    711\n",
            "      ... \n",
            "121    188\n",
            "120    188\n",
            "125    188\n",
            "124    188\n",
            "353    187\n",
            "Name: TAX, Length: 506, dtype: int64\n"
          ]
        }
      ]
    },
    {
      "cell_type": "code",
      "source": [
        "## data_desc 변수를 내림차순으로 정렬하고, 정렬된 데이터를 data_desc 변수에 저장하기\n",
        "data_desc.sort_values(ascending=False, inplace=True)\n",
        "\n",
        "## data_desc 변수를 확인하기\n",
        "print(data_desc)"
      ],
      "metadata": {
        "colab": {
          "base_uri": "https://localhost:8080/"
        },
        "id": "okfgh3Ou5Jtx",
        "outputId": "65535279-76c8-40ad-8d25-7cf73e98c999"
      },
      "execution_count": 62,
      "outputs": [
        {
          "output_type": "stream",
          "name": "stdout",
          "text": [
            "492    711\n",
            "491    711\n",
            "490    711\n",
            "489    711\n",
            "488    711\n",
            "      ... \n",
            "121    188\n",
            "120    188\n",
            "125    188\n",
            "124    188\n",
            "353    187\n",
            "Name: TAX, Length: 506, dtype: int64\n"
          ]
        }
      ]
    },
    {
      "cell_type": "code",
      "source": [
        "## data_asc 변수의 인덱스를 재설정하기\n",
        "data_asc.reset_index(drop=True, inplace=True)\n",
        "\n",
        "## data_asc 변수를 확인하기\n",
        "print(data_asc)"
      ],
      "metadata": {
        "colab": {
          "base_uri": "https://localhost:8080/"
        },
        "id": "o1-Pbk7F5sVQ",
        "outputId": "3081e7d8-c40c-449b-dae2-46278998097d"
      },
      "execution_count": 63,
      "outputs": [
        {
          "output_type": "stream",
          "name": "stdout",
          "text": [
            "0      187\n",
            "1      188\n",
            "2      188\n",
            "3      188\n",
            "4      188\n",
            "      ... \n",
            "501    711\n",
            "502    711\n",
            "503    711\n",
            "504    711\n",
            "505    711\n",
            "Name: TAX, Length: 506, dtype: int64\n"
          ]
        }
      ]
    },
    {
      "cell_type": "code",
      "source": [
        "## data_desc 변수의 인덱스를 재설정하기\n",
        "data_desc.reset_index(drop=True, inplace=True)"
      ],
      "metadata": {
        "id": "HnRfgrNR5_fx"
      },
      "execution_count": 64,
      "outputs": []
    },
    {
      "cell_type": "code",
      "source": [
        "## data_asc, data_desc 변수를 칼럼 기준으로 통합한 후, data_concat 변수에 저장하기\n",
        "data_concat = pd.concat([data_asc, data_desc], axis=1)\n",
        "\n",
        "## data_concat 변수 확인하기\n",
        "print(data_concat)"
      ],
      "metadata": {
        "colab": {
          "base_uri": "https://localhost:8080/"
        },
        "id": "ukOoFBvo6P_Z",
        "outputId": "54df4398-af15-46a6-9a9f-fa78112417d6"
      },
      "execution_count": 65,
      "outputs": [
        {
          "output_type": "stream",
          "name": "stdout",
          "text": [
            "     TAX  TAX\n",
            "0    187  711\n",
            "1    188  711\n",
            "2    188  711\n",
            "3    188  711\n",
            "4    188  711\n",
            "..   ...  ...\n",
            "501  711  188\n",
            "502  711  188\n",
            "503  711  188\n",
            "504  711  188\n",
            "505  711  187\n",
            "\n",
            "[506 rows x 2 columns]\n"
          ]
        }
      ]
    },
    {
      "cell_type": "code",
      "source": [
        "## data_concat 변수에서 첫 번째 칼럼을 추출하기\n",
        "print(data_concat.iloc[:,0])"
      ],
      "metadata": {
        "colab": {
          "base_uri": "https://localhost:8080/"
        },
        "id": "KUAFl21B6fj3",
        "outputId": "4a7e2f3b-d71e-4e10-dd2f-6ad21f0924c8"
      },
      "execution_count": 66,
      "outputs": [
        {
          "output_type": "stream",
          "name": "stdout",
          "text": [
            "0      187\n",
            "1      188\n",
            "2      188\n",
            "3      188\n",
            "4      188\n",
            "      ... \n",
            "501    711\n",
            "502    711\n",
            "503    711\n",
            "504    711\n",
            "505    711\n",
            "Name: TAX, Length: 506, dtype: int64\n"
          ]
        }
      ]
    },
    {
      "cell_type": "code",
      "source": [
        "## data_concat 변수에서 두 번째 칼럼을 추출하기\n",
        "print(data_concat.iloc[:,1])"
      ],
      "metadata": {
        "colab": {
          "base_uri": "https://localhost:8080/"
        },
        "id": "Sb20hjt-7AKB",
        "outputId": "f4e4b594-77bc-4e17-cbda-494f3f0b79b4"
      },
      "execution_count": 67,
      "outputs": [
        {
          "output_type": "stream",
          "name": "stdout",
          "text": [
            "0      711\n",
            "1      711\n",
            "2      711\n",
            "3      711\n",
            "4      711\n",
            "      ... \n",
            "501    188\n",
            "502    188\n",
            "503    188\n",
            "504    188\n",
            "505    187\n",
            "Name: TAX, Length: 506, dtype: int64\n"
          ]
        }
      ]
    },
    {
      "cell_type": "code",
      "source": [
        "## (첫번째 칼럼 - 두번째 칼럼)에 절댓값을 취한 후, data_concat 변수의 diff에 저장하기\n",
        "data_concat['diff'] = abs(data_concat.iloc[:,0] - data_concat.iloc[:,1])\n",
        "\n",
        "## diff 칼럼이 추가된 data_concat 변수 확인하기\n",
        "print(data_concat)"
      ],
      "metadata": {
        "colab": {
          "base_uri": "https://localhost:8080/"
        },
        "id": "P0c_N9XD7Kww",
        "outputId": "d99e7f6f-d011-479e-fb96-d707bd8b2e8b"
      },
      "execution_count": 68,
      "outputs": [
        {
          "output_type": "stream",
          "name": "stdout",
          "text": [
            "     TAX  TAX  diff\n",
            "0    187  711   524\n",
            "1    188  711   523\n",
            "2    188  711   523\n",
            "3    188  711   523\n",
            "4    188  711   523\n",
            "..   ...  ...   ...\n",
            "501  711  188   523\n",
            "502  711  188   523\n",
            "503  711  188   523\n",
            "504  711  188   523\n",
            "505  711  187   524\n",
            "\n",
            "[506 rows x 3 columns]\n"
          ]
        }
      ]
    },
    {
      "cell_type": "code",
      "source": [
        "## diff 칼럼의 분산 구하기\n",
        "print(data_concat['diff'].var())"
      ],
      "metadata": {
        "colab": {
          "base_uri": "https://localhost:8080/"
        },
        "id": "YGPz5bq27lUE",
        "outputId": "ed81e3fe-9edb-422d-d239-317d04989687"
      },
      "execution_count": 69,
      "outputs": [
        {
          "output_type": "stream",
          "name": "stdout",
          "text": [
            "28490.5986459515\n"
          ]
        }
      ]
    },
    {
      "cell_type": "markdown",
      "source": [
        "##### 최종 제출 코드"
      ],
      "metadata": {
        "id": "RE_OqXXI7rxj"
      }
    },
    {
      "cell_type": "code",
      "source": [
        "import pandas as pd\n",
        "data = pd.read_csv('boston.csv')\n",
        "data_asc = data['TAX'].copy()\n",
        "data_desc = data['TAX'].copy()\n",
        "data_asc.sort_values(ascending=True, inplace=True)\n",
        "data_desc.sort_values(ascending=False, inplace=True)\n",
        "data_asc.reset_index(drop=True, inplace=True)\n",
        "data_desc.reset_index(drop=True, inplace=True)\n",
        "data_concat = pd.concat([data_asc, data_desc], axis=1)\n",
        "data_concat['diff'] = abs(data_concat.iloc[:,0] - data_concat.iloc[:,1])\n",
        "print(data_concat['diff'].var())"
      ],
      "metadata": {
        "colab": {
          "base_uri": "https://localhost:8080/"
        },
        "id": "hmiACdZy7qph",
        "outputId": "28550fa3-2f16-4248-c85c-818dfe62a1e8"
      },
      "execution_count": 70,
      "outputs": [
        {
          "output_type": "stream",
          "name": "stdout",
          "text": [
            "28490.5986459515\n"
          ]
        }
      ]
    },
    {
      "cell_type": "markdown",
      "source": [
        "### 2.3 최소최대 변환하기 MinMaxScaler"
      ],
      "metadata": {
        "id": "TtjR-5CRwf5N"
      }
    },
    {
      "cell_type": "markdown",
      "source": [
        "##### boston 데이터 세트의 MEDV 칼럼을 최소최대 척도(Min Max Scale)로 변환한 후 0.5보다 큰 값을 가지는 레코드 수를 구하시오. "
      ],
      "metadata": {
        "id": "5XJzbhJZwlKL"
      }
    },
    {
      "cell_type": "code",
      "source": [
        "import pandas as pd\n",
        "data = pd.read_csv('boston.csv')\n",
        "\n",
        "## sklearn 라이브러리의 preprocessing 모듈에서 MinMaxScaler 함수를 가져오기\n",
        "from sklearn.preprocessing import MinMaxScaler"
      ],
      "metadata": {
        "id": "64IxkHq181d-"
      },
      "execution_count": 71,
      "outputs": []
    },
    {
      "cell_type": "code",
      "source": [
        "## MinMaxScaler() 함수를 수행할 빈 박스 생성하기\n",
        "scaler = MinMaxScaler()"
      ],
      "metadata": {
        "id": "Pw1lZ7zQw-0G"
      },
      "execution_count": 72,
      "outputs": []
    },
    {
      "cell_type": "code",
      "source": [
        "## 최소최대 척도로 변환하기\n",
        "data_minmax = scaler.fit_transform(data)"
      ],
      "metadata": {
        "id": "Xs0AkbPrxI3t"
      },
      "execution_count": 73,
      "outputs": []
    },
    {
      "cell_type": "code",
      "source": [
        "## data_minmax 변수의 데이터 타입 확인하기\n",
        "print(type(data_minmax))"
      ],
      "metadata": {
        "colab": {
          "base_uri": "https://localhost:8080/"
        },
        "id": "dfiHSmuUxP4t",
        "outputId": "a0320fd1-89cf-4cf0-f643-f4b2a4be3e42"
      },
      "execution_count": 74,
      "outputs": [
        {
          "output_type": "stream",
          "name": "stdout",
          "text": [
            "<class 'numpy.ndarray'>\n"
          ]
        }
      ]
    },
    {
      "cell_type": "code",
      "source": [
        "## data_minmax 변수를 데이터 프레임으로 변환하기\n",
        "data_minmax = pd.DataFrame(data_minmax, columns=data.columns)\n",
        "\n",
        "## data_minmax 변수의 상위 3개 행을 출력하기\n",
        "print(data_minmax.head(3))"
      ],
      "metadata": {
        "colab": {
          "base_uri": "https://localhost:8080/"
        },
        "id": "o76qAACRxgQe",
        "outputId": "f5e63e0c-3dd3-4fc8-83eb-99f8e18ffe53"
      },
      "execution_count": 75,
      "outputs": [
        {
          "output_type": "stream",
          "name": "stdout",
          "text": [
            "       CRIM    ZN     INDUS  CHAS       NOX        RM       AGE       DIS  \\\n",
            "0  0.000000  0.18  0.067815   0.0  0.314815  0.577505  0.641607  0.269203   \n",
            "1  0.000236  0.00  0.242302   0.0  0.172840  0.547998  0.782698  0.348962   \n",
            "2  0.000236  0.00  0.242302   0.0  0.172840  0.694386  0.599382  0.348962   \n",
            "\n",
            "        RAD       TAX   PTRATIO         B     LSTAT      MEDV  \n",
            "0  0.000000  0.208015  0.287234  1.000000  0.089680  0.422222  \n",
            "1  0.043478  0.104962  0.553191  1.000000  0.204470  0.368889  \n",
            "2  0.043478  0.104962  0.553191  0.989737  0.063466  0.660000  \n"
          ]
        }
      ]
    },
    {
      "cell_type": "code",
      "source": [
        "## data_minmax 변수의 MEDV 칼럼에 대한 기초 통계량 구하기\n",
        "print(data_minmax['MEDV'].describe())"
      ],
      "metadata": {
        "colab": {
          "base_uri": "https://localhost:8080/"
        },
        "id": "gtpupnmQx6hQ",
        "outputId": "9e1c7bb6-3d6b-4577-9132-f0781557bebe"
      },
      "execution_count": 76,
      "outputs": [
        {
          "output_type": "stream",
          "name": "stdout",
          "text": [
            "count    506.000000\n",
            "mean       0.389618\n",
            "std        0.204380\n",
            "min        0.000000\n",
            "25%        0.267222\n",
            "50%        0.360000\n",
            "75%        0.444444\n",
            "max        1.000000\n",
            "Name: MEDV, dtype: float64\n"
          ]
        }
      ]
    },
    {
      "cell_type": "code",
      "source": [
        "## MEDV 칼럼의 값이 0.5보다 큰지를 확인하기\n",
        "print(data_minmax['MEDV'] > 0.5)"
      ],
      "metadata": {
        "colab": {
          "base_uri": "https://localhost:8080/"
        },
        "id": "TSQR2JVDyQcO",
        "outputId": "ab7a63ed-a38b-4f90-be4e-e10000e6907e"
      },
      "execution_count": 77,
      "outputs": [
        {
          "output_type": "stream",
          "name": "stdout",
          "text": [
            "0      False\n",
            "1      False\n",
            "2       True\n",
            "3       True\n",
            "4       True\n",
            "       ...  \n",
            "501    False\n",
            "502    False\n",
            "503    False\n",
            "504    False\n",
            "505    False\n",
            "Name: MEDV, Length: 506, dtype: bool\n"
          ]
        }
      ]
    },
    {
      "cell_type": "code",
      "source": [
        "## data_minmax 변수의 MEDV 칼럼에서 0.5를 초과하는 전체 값을 출력하기\n",
        "print(data_minmax[data_minmax['MEDV'] > 0.5])"
      ],
      "metadata": {
        "colab": {
          "base_uri": "https://localhost:8080/"
        },
        "id": "YPuKHiLGyY5S",
        "outputId": "5fc28923-dcaf-4b5b-c3c4-05c909793596"
      },
      "execution_count": 78,
      "outputs": [
        {
          "output_type": "stream",
          "name": "stdout",
          "text": [
            "         CRIM    ZN     INDUS  CHAS       NOX        RM       AGE       DIS  \\\n",
            "2    0.000236  0.00  0.242302   0.0  0.172840  0.694386  0.599382  0.348962   \n",
            "3    0.000293  0.00  0.063050   0.0  0.150206  0.658555  0.441813  0.448545   \n",
            "4    0.000705  0.00  0.063050   0.0  0.150206  0.687105  0.528321  0.448545   \n",
            "5    0.000264  0.00  0.063050   0.0  0.150206  0.549722  0.574665  0.448545   \n",
            "39   0.000240  0.75  0.091276   0.0  0.088477  0.581337  0.194645  0.388428   \n",
            "..        ...   ...       ...   ...       ...       ...       ...       ...   \n",
            "370  0.073423  0.00  0.646628   1.0  0.506173  0.662004  0.974253  0.006620   \n",
            "371  0.103698  0.00  0.646628   0.0  0.506173  0.508718  1.000000  0.003592   \n",
            "372  0.092851  0.00  0.646628   1.0  0.582305  0.443380  0.892894  0.000000   \n",
            "407  0.134256  0.00  0.646628   0.0  0.563786  0.392221  1.000000  0.014149   \n",
            "473  0.052159  0.00  0.646628   0.0  0.471193  0.655106  0.666323  0.127609   \n",
            "\n",
            "          RAD       TAX   PTRATIO         B     LSTAT      MEDV  \n",
            "2    0.043478  0.104962  0.553191  0.989737  0.063466  0.660000  \n",
            "3    0.086957  0.066794  0.648936  0.994276  0.033389  0.631111  \n",
            "4    0.086957  0.066794  0.648936  1.000000  0.099338  0.693333  \n",
            "5    0.086957  0.066794  0.648936  0.992990  0.096026  0.526667  \n",
            "39   0.086957  0.124046  0.606383  0.996798  0.071468  0.573333  \n",
            "..        ...       ...       ...       ...       ...       ...  \n",
            "370  1.000000  0.914122  0.808511  0.987770  0.033940  1.000000  \n",
            "371  1.000000  0.914122  0.808511  0.922462  0.215232  1.000000  \n",
            "372  1.000000  0.914122  0.808511  0.876393  0.197296  1.000000  \n",
            "407  1.000000  0.914122  0.808511  0.836578  0.286976  0.508889  \n",
            "473  1.000000  0.914122  0.808511  0.943971  0.274007  0.551111  \n",
            "\n",
            "[106 rows x 14 columns]\n"
          ]
        }
      ]
    },
    {
      "cell_type": "code",
      "source": [
        "## data_minmax 변수의 MEDV 칼럼에서 0.5를 초과하는 MEDV 값만 출력하기\n",
        "print(data_minmax[data_minmax['MEDV'] > 0.5]['MEDV'])\n",
        "\n",
        "## data_minmax 변수의 MEDV 칼럼에서 0.5를 초과하는 MEDV 값의 개수 세기\n",
        "print(data_minmax[data_minmax['MEDV'] > 0.5]['MEDV'].count())"
      ],
      "metadata": {
        "colab": {
          "base_uri": "https://localhost:8080/"
        },
        "id": "_ZumPuJfyikT",
        "outputId": "255bb2da-b386-414c-b221-3cf3066d97a1"
      },
      "execution_count": 79,
      "outputs": [
        {
          "output_type": "stream",
          "name": "stdout",
          "text": [
            "2      0.660000\n",
            "3      0.631111\n",
            "4      0.693333\n",
            "5      0.526667\n",
            "39     0.573333\n",
            "         ...   \n",
            "370    1.000000\n",
            "371    1.000000\n",
            "372    1.000000\n",
            "407    0.508889\n",
            "473    0.551111\n",
            "Name: MEDV, Length: 106, dtype: float64\n",
            "106\n"
          ]
        }
      ]
    },
    {
      "cell_type": "markdown",
      "source": [
        "##### 최종 제출 코드"
      ],
      "metadata": {
        "id": "KiNrNuAiy9eV"
      }
    },
    {
      "cell_type": "code",
      "source": [
        "import pandas as pd\n",
        "from sklearn.preprocessing import MinMaxScaler\n",
        "data = pd.read_csv('boston.csv')\n",
        "scaler = MinMaxScaler()\n",
        "data_minmax = scaler.fit_transform(data)\n",
        "data_minmax = pd.DataFrame(data_minmax, columns=data.columns)\n",
        "print(data_minmax[data_minmax['MEDV'] > 0.5]['MEDV'].count())"
      ],
      "metadata": {
        "colab": {
          "base_uri": "https://localhost:8080/"
        },
        "id": "Z0_zUM-Ry7ng",
        "outputId": "39508861-83b2-405b-b32b-74bd0f20d03a"
      },
      "execution_count": 80,
      "outputs": [
        {
          "output_type": "stream",
          "name": "stdout",
          "text": [
            "106\n"
          ]
        }
      ]
    },
    {
      "cell_type": "markdown",
      "source": [
        "### 2.4 빈도값 구하기"
      ],
      "metadata": {
        "id": "dBaEd04azXod"
      }
    },
    {
      "cell_type": "markdown",
      "source": [
        "##### boston 데이터 세트의 AGE 칼럼을 소수점 첫 번째 자리에서 반올림하고, 가장 많은 비중을 차지하는 AGE 값과 그 개수를 차례대로 출력하시오. AGE 칼럼의 최빈값과 그 개수를 출력하시오."
      ],
      "metadata": {
        "id": "XfdHxx7izaSw"
      }
    },
    {
      "cell_type": "code",
      "source": [
        "import pandas as pd\n",
        "data = pd.read_csv('boston.csv')"
      ],
      "metadata": {
        "id": "o0q2MWxlzUOS"
      },
      "execution_count": 81,
      "outputs": []
    },
    {
      "cell_type": "code",
      "source": [
        "## data 변수의 AGE 칼럼 확인하기\n",
        "print(data['AGE'])"
      ],
      "metadata": {
        "colab": {
          "base_uri": "https://localhost:8080/"
        },
        "id": "XFA3v5cMz45a",
        "outputId": "072d557c-b1aa-493e-f893-139e84555b2d"
      },
      "execution_count": 82,
      "outputs": [
        {
          "output_type": "stream",
          "name": "stdout",
          "text": [
            "0      65.2\n",
            "1      78.9\n",
            "2      61.1\n",
            "3      45.8\n",
            "4      54.2\n",
            "       ... \n",
            "501    69.1\n",
            "502    76.7\n",
            "503    91.0\n",
            "504    89.3\n",
            "505    80.8\n",
            "Name: AGE, Length: 506, dtype: float64\n"
          ]
        }
      ]
    },
    {
      "cell_type": "code",
      "source": [
        "## data 변수의 AGE 칼럼을 반올림해서 일의 자리로 만들기\n",
        "print(round(data['AGE'],0))"
      ],
      "metadata": {
        "colab": {
          "base_uri": "https://localhost:8080/"
        },
        "id": "ZNXXmF6Zz-m7",
        "outputId": "9822fb96-5ea6-4658-da28-1540e3a5e98a"
      },
      "execution_count": 83,
      "outputs": [
        {
          "output_type": "stream",
          "name": "stdout",
          "text": [
            "0      65.0\n",
            "1      79.0\n",
            "2      61.0\n",
            "3      46.0\n",
            "4      54.0\n",
            "       ... \n",
            "501    69.0\n",
            "502    77.0\n",
            "503    91.0\n",
            "504    89.0\n",
            "505    81.0\n",
            "Name: AGE, Length: 506, dtype: float64\n"
          ]
        }
      ]
    },
    {
      "cell_type": "code",
      "source": [
        "## 반올림한 값들을 data2 변수에 저장하기\n",
        "data2 = round(data['AGE'], 0)"
      ],
      "metadata": {
        "id": "JZqMNooR0GcD"
      },
      "execution_count": 84,
      "outputs": []
    },
    {
      "cell_type": "code",
      "source": [
        "## 시리즈인 data2 변수를 데이터 프레임으로 변환하여 data2에 다시 저장하기\n",
        "data2 = pd.DataFrame(data2)\n",
        "\n",
        "## data2 변수에 AGE 칼럼으로 그룹화하고, 그룹별 AGE 칼럼의 개수 세기\n",
        "print(data2.groupby(['AGE'])['AGE'].count())"
      ],
      "metadata": {
        "colab": {
          "base_uri": "https://localhost:8080/"
        },
        "id": "oe5RBiny0MZK",
        "outputId": "41fb32ce-a5d7-45ee-bdbb-7bb23423815d"
      },
      "execution_count": 85,
      "outputs": [
        {
          "output_type": "stream",
          "name": "stdout",
          "text": [
            "AGE\n",
            "3.0       1\n",
            "6.0       3\n",
            "7.0       3\n",
            "8.0       3\n",
            "9.0       1\n",
            "         ..\n",
            "96.0     15\n",
            "97.0     17\n",
            "98.0     19\n",
            "99.0     10\n",
            "100.0    43\n",
            "Name: AGE, Length: 91, dtype: int64\n"
          ]
        }
      ]
    },
    {
      "cell_type": "code",
      "source": [
        "## 그룹화 결과를 data3 변수에 저장하기\n",
        "data3 = data2.groupby(['AGE'])['AGE'].count()\n",
        "\n",
        "## data3 변수 확인하기\n",
        "print(data3)"
      ],
      "metadata": {
        "colab": {
          "base_uri": "https://localhost:8080/"
        },
        "id": "OZq2mNpKwaap",
        "outputId": "8c7c1fc1-0cd4-4d26-f777-e306cab75da0"
      },
      "execution_count": 86,
      "outputs": [
        {
          "output_type": "stream",
          "name": "stdout",
          "text": [
            "AGE\n",
            "3.0       1\n",
            "6.0       3\n",
            "7.0       3\n",
            "8.0       3\n",
            "9.0       1\n",
            "         ..\n",
            "96.0     15\n",
            "97.0     17\n",
            "98.0     19\n",
            "99.0     10\n",
            "100.0    43\n",
            "Name: AGE, Length: 91, dtype: int64\n"
          ]
        }
      ]
    },
    {
      "cell_type": "code",
      "source": [
        "## data3 변수의 데이터 타입 확인하기\n",
        "print(type(data3))\n",
        "\n",
        "## data 변수를 데이터 프레임 타입으로 변환하기\n",
        "data3 = pd.DataFrame(data3)"
      ],
      "metadata": {
        "colab": {
          "base_uri": "https://localhost:8080/"
        },
        "id": "GRsNuMPRwoKJ",
        "outputId": "e6e4b9a5-9fa5-415a-e7fd-0ec4addd162b"
      },
      "execution_count": 87,
      "outputs": [
        {
          "output_type": "stream",
          "name": "stdout",
          "text": [
            "<class 'pandas.core.series.Series'>\n"
          ]
        }
      ]
    },
    {
      "cell_type": "code",
      "source": [
        "## data3 변수의 데이터 타입 확인하기\n",
        "print(type(data3))"
      ],
      "metadata": {
        "colab": {
          "base_uri": "https://localhost:8080/"
        },
        "id": "h4Pt73Q8w4nR",
        "outputId": "6efd352b-1193-47e0-dd21-12dc3744383d"
      },
      "execution_count": 88,
      "outputs": [
        {
          "output_type": "stream",
          "name": "stdout",
          "text": [
            "<class 'pandas.core.frame.DataFrame'>\n"
          ]
        }
      ]
    },
    {
      "cell_type": "code",
      "source": [
        "## data3 변수의 칼럼 이름 확인하기\n",
        "print(data3.columns)\n",
        "\n",
        "## data3 변수의 유일한 칼럼은 COUNT로 설정하기\n",
        "data3.columns = ['COUNT']\n",
        "\n",
        "## data3 변수의 상위 3개 데이터 확인하기\n",
        "print(data3.head(3))"
      ],
      "metadata": {
        "colab": {
          "base_uri": "https://localhost:8080/"
        },
        "id": "9qdRWa1SxAOl",
        "outputId": "a84a1bbd-3da5-46cb-d28a-57037df7f21c"
      },
      "execution_count": 89,
      "outputs": [
        {
          "output_type": "stream",
          "name": "stdout",
          "text": [
            "Index(['AGE'], dtype='object')\n",
            "     COUNT\n",
            "AGE       \n",
            "3.0      1\n",
            "6.0      3\n",
            "7.0      3\n"
          ]
        }
      ]
    },
    {
      "cell_type": "code",
      "source": [
        "## data3 변수의 기존 인덱스는 칼럼으로 사용하고, 일련번호를 새로운 인덱스로 저장하기\n",
        "data3.reset_index(drop=False, inplace=True)\n",
        "\n",
        "## data3 변수의 상위 3개 데이터 확인하기\n",
        "print(data3.head(3))"
      ],
      "metadata": {
        "colab": {
          "base_uri": "https://localhost:8080/"
        },
        "id": "qvpIEXoRxUgC",
        "outputId": "c5eb1345-06cf-420f-d269-78d5952a7e8b"
      },
      "execution_count": 90,
      "outputs": [
        {
          "output_type": "stream",
          "name": "stdout",
          "text": [
            "   AGE  COUNT\n",
            "0  3.0      1\n",
            "1  6.0      3\n",
            "2  7.0      3\n"
          ]
        }
      ]
    },
    {
      "cell_type": "code",
      "source": [
        "## data3 변수의 COUNT 칼럼 기준으로 내림차순 정렬하기\n",
        "data3.sort_values(by='COUNT', ascending=False, inplace=True)\n",
        "\n",
        "## data3 변수의 상위 3개 데이터 확인하기\n",
        "print(data3.head(3))"
      ],
      "metadata": {
        "colab": {
          "base_uri": "https://localhost:8080/"
        },
        "id": "XPvVxtHvxnpf",
        "outputId": "7a3b4c16-6af5-4e05-887a-3f2f302aadd3"
      },
      "execution_count": 91,
      "outputs": [
        {
          "output_type": "stream",
          "name": "stdout",
          "text": [
            "      AGE  COUNT\n",
            "90  100.0     43\n",
            "88   98.0     19\n",
            "87   97.0     17\n"
          ]
        }
      ]
    },
    {
      "cell_type": "code",
      "source": [
        "## data3 변수의 AGE 칼럼에서 최빈값과 그 개수를 출력하기\n",
        "print(data3.iloc[0,0], data3.iloc[0,1])"
      ],
      "metadata": {
        "colab": {
          "base_uri": "https://localhost:8080/"
        },
        "id": "2nPhikf-x4Iv",
        "outputId": "58fc1e96-ec3d-4b97-825b-a014347d1a21"
      },
      "execution_count": 92,
      "outputs": [
        {
          "output_type": "stream",
          "name": "stdout",
          "text": [
            "100.0 43\n"
          ]
        }
      ]
    },
    {
      "cell_type": "markdown",
      "source": [
        "##### 두 번째 방법(scipy 라이브러리 mode() 함수 사용)"
      ],
      "metadata": {
        "id": "ev8YltuiyMoD"
      }
    },
    {
      "cell_type": "code",
      "source": [
        "## scipy 라이브러리의 stats 모듈에서 mode 함수 가져오기\n",
        "from scipy.stats import mode"
      ],
      "metadata": {
        "id": "KBSF3d5DyDb8"
      },
      "execution_count": 93,
      "outputs": []
    },
    {
      "cell_type": "code",
      "source": [
        "## data2 변수의 최빈값과 개수 구하기\n",
        "print(mode(data2))"
      ],
      "metadata": {
        "colab": {
          "base_uri": "https://localhost:8080/"
        },
        "id": "9mUTx-SKylyj",
        "outputId": "3bccc2d4-67a9-471e-cc53-eda83edfb4a6"
      },
      "execution_count": 94,
      "outputs": [
        {
          "output_type": "stream",
          "name": "stdout",
          "text": [
            "ModeResult(mode=array([[100.]]), count=array([[43]]))\n"
          ]
        }
      ]
    },
    {
      "cell_type": "code",
      "source": [
        "## data2 변수의 최빈값만 추출하기\n",
        "print(mode(data2)[0])\n",
        "\n",
        "## data2 변수의 최빈값 개수만 출력하기\n",
        "print(mode(data2)[1])"
      ],
      "metadata": {
        "colab": {
          "base_uri": "https://localhost:8080/"
        },
        "id": "5ksSU0tnyqTO",
        "outputId": "6767054a-d5b3-4c75-898c-0aed0443ca0c"
      },
      "execution_count": 95,
      "outputs": [
        {
          "output_type": "stream",
          "name": "stdout",
          "text": [
            "[[100.]]\n",
            "[[43]]\n"
          ]
        }
      ]
    },
    {
      "cell_type": "code",
      "source": [
        "## 최빈값을 정수형으로 변환하기\n",
        "print(int(mode(data2)[0]))\n",
        "\n",
        "## 최빈값 개수를 정수형으로 변환하기\n",
        "print(int(mode(data2)[1]))\n",
        "\n",
        "## 각 코드를 통합하여 최종 출력하기\n",
        "print(int(mode(data2)[0]), int(mode(data2)[1]))"
      ],
      "metadata": {
        "colab": {
          "base_uri": "https://localhost:8080/"
        },
        "id": "wtmBA4plyznz",
        "outputId": "280b83cd-a1cf-4116-b2b6-71de7604b230"
      },
      "execution_count": 96,
      "outputs": [
        {
          "output_type": "stream",
          "name": "stdout",
          "text": [
            "100\n",
            "43\n",
            "100 43\n"
          ]
        }
      ]
    },
    {
      "cell_type": "markdown",
      "source": [
        "##### 최종 제출 코드"
      ],
      "metadata": {
        "id": "NAXv10lHzE51"
      }
    },
    {
      "cell_type": "code",
      "source": [
        "import pandas as pd\n",
        "data = pd.read_csv('boston.csv')\n",
        "from scipy.stats import mode\n",
        "print(int(mode(round(data2['AGE'],0))[0]), int(mode(round(data2['AGE'],0))[1]))"
      ],
      "metadata": {
        "colab": {
          "base_uri": "https://localhost:8080/"
        },
        "id": "OZD0DwdczDRP",
        "outputId": "ab878334-9577-4bc0-d931-2fd2ea528e7a"
      },
      "execution_count": 97,
      "outputs": [
        {
          "output_type": "stream",
          "name": "stdout",
          "text": [
            "100 43\n"
          ]
        }
      ]
    },
    {
      "cell_type": "markdown",
      "source": [
        "### 2.5 표준 반환하기 StandardScaler"
      ],
      "metadata": {
        "id": "FemZBUOs2252"
      }
    },
    {
      "cell_type": "markdown",
      "source": [
        "##### boston 데이터 세트의 DIS 칼럼을 표준화 척도(StandardScale)로 변환한 후, 0.4보다 크면서 0.6보다 작은 값들에 대한 평균을 구하시오. 단, 소수점 셋째 자리에서 반올림하여 소수점 둘째 자리까지 출력하시오."
      ],
      "metadata": {
        "id": "WEyIiX3W26wR"
      }
    },
    {
      "cell_type": "code",
      "source": [
        "import pandas as pd\n",
        "data = pd.read_csv('boston.csv')\n",
        "\n",
        "## sklearn 라이브러리에서 preprocessing 모듈에서 StandardScaler 함수를 가져오기\n",
        "from sklearn.preprocessing import StandardScaler"
      ],
      "metadata": {
        "id": "tgXxrOXDzccQ"
      },
      "execution_count": 98,
      "outputs": []
    },
    {
      "cell_type": "code",
      "source": [
        "## StandardScaler 함수를 수행할 빈 박스 수행하기\n",
        "scaler = StandardScaler()"
      ],
      "metadata": {
        "id": "ajzTnIc43aCT"
      },
      "execution_count": 99,
      "outputs": []
    },
    {
      "cell_type": "code",
      "source": [
        "## 표준화 척도로 변환하기\n",
        "data_stdd = scaler.fit_transform(data)"
      ],
      "metadata": {
        "id": "zwKq7ZZR3fzs"
      },
      "execution_count": 100,
      "outputs": []
    },
    {
      "cell_type": "code",
      "source": [
        "## data_stdd 변수의 데이터 타입 확인하기\n",
        "print(type(data_stdd))"
      ],
      "metadata": {
        "colab": {
          "base_uri": "https://localhost:8080/"
        },
        "id": "JRxGF8JN3kQh",
        "outputId": "4d7f0b8c-c017-4210-b475-3858a8fb0a32"
      },
      "execution_count": 101,
      "outputs": [
        {
          "output_type": "stream",
          "name": "stdout",
          "text": [
            "<class 'numpy.ndarray'>\n"
          ]
        }
      ]
    },
    {
      "cell_type": "code",
      "source": [
        "## data_stdd 변수를 데이터 프레임으로 변환하기\n",
        "data_stdd = pd.DataFrame(data_stdd, columns=data.columns)"
      ],
      "metadata": {
        "id": "HUaCWqjf37L-"
      },
      "execution_count": 102,
      "outputs": []
    },
    {
      "cell_type": "code",
      "source": [
        "## DIS 칼럼의 값이 0.4보다 크고 0.6보다 작은지를 확인하기\n",
        "print((data_stdd['DIS'] > 0.4) & (data_stdd['DIS'] < 0.6))"
      ],
      "metadata": {
        "colab": {
          "base_uri": "https://localhost:8080/"
        },
        "id": "m-dedkz_4Elf",
        "outputId": "e0ffadd6-73af-46f5-876e-8f490666f1e0"
      },
      "execution_count": 103,
      "outputs": [
        {
          "output_type": "stream",
          "name": "stdout",
          "text": [
            "0      False\n",
            "1       True\n",
            "2       True\n",
            "3      False\n",
            "4      False\n",
            "       ...  \n",
            "501    False\n",
            "502    False\n",
            "503    False\n",
            "504    False\n",
            "505    False\n",
            "Name: DIS, Length: 506, dtype: bool\n"
          ]
        }
      ]
    },
    {
      "cell_type": "code",
      "source": [
        "## data_stdd 변수의 DIS 칼럼이 0.4~0.6 사이에 있는 전체 값을 출력하기\n",
        "print(data_stdd[(data_stdd['DIS'] > 0.4) & (data_stdd['DIS'] < 0.6)])\n",
        "\n",
        "## 간소화 목적으로 앞의 결과 데이터를 data_stdd 변수에 다시 저장하기\n",
        "data_stdd = data_stdd[(data_stdd['DIS'] > 0.4) & (data_stdd['DIS'] < 0.6)]"
      ],
      "metadata": {
        "colab": {
          "base_uri": "https://localhost:8080/"
        },
        "id": "Xo2-8zOM4cEu",
        "outputId": "93aecc21-fff5-49df-e5bc-05d5b18ea6e8"
      },
      "execution_count": 104,
      "outputs": [
        {
          "output_type": "stream",
          "name": "stdout",
          "text": [
            "         CRIM        ZN     INDUS      CHAS       NOX        RM       AGE  \\\n",
            "1   -0.417339 -0.487722 -0.593381 -0.272599 -0.740262  0.192116  0.367166   \n",
            "2   -0.417342 -0.487722 -0.593381 -0.272599 -0.740262  1.272167 -0.265812   \n",
            "13  -0.347230 -0.487722 -0.437258 -0.272599 -0.144217 -0.475140 -0.240919   \n",
            "26  -0.342325 -0.487722 -0.437258 -0.272599 -0.144217 -0.667400  0.772557   \n",
            "78  -0.413947 -0.487722  0.247057 -0.272599 -1.016689 -0.075069 -0.528960   \n",
            "84  -0.414630 -0.487722 -0.969827 -0.272599 -0.913029  0.146879 -0.731655   \n",
            "276 -0.408334  1.229060 -0.689681  3.668398 -0.930305  1.388089 -0.696095   \n",
            "277 -0.413387  1.229060 -0.689681  3.668398 -0.930305  0.764656 -1.457091   \n",
            "280 -0.416354  0.370669 -1.139082 -0.272599 -0.965723  2.169853 -0.144906   \n",
            "322 -0.379654 -0.487722 -0.548149 -0.272599 -0.532942 -0.345082 -0.664090   \n",
            "323 -0.387477 -0.487722 -0.548149 -0.272599 -0.532942 -0.815837  0.203588   \n",
            "324 -0.380824 -0.487722 -0.548149 -0.272599 -0.532942  0.183634 -1.012584   \n",
            "338 -0.416670 -0.487722 -0.867691 -0.272599 -0.342899 -0.319635 -1.112153   \n",
            "339 -0.414120 -0.487722 -0.867691 -0.272599 -0.342899 -0.424248 -0.824113   \n",
            "340 -0.413359 -0.487722 -0.867691 -0.272599 -0.342899 -0.448280 -0.358269   \n",
            "\n",
            "          DIS       RAD       TAX   PTRATIO         B     LSTAT      MEDV  \n",
            "1    0.557160 -0.867883 -0.987329 -0.303094  0.441052 -0.492439 -0.101524  \n",
            "2    0.557160 -0.867883 -0.987329 -0.303094  0.396427 -1.208727  1.324247  \n",
            "13   0.433754 -0.637962 -0.601276  1.176466  0.441052 -0.615792 -0.232129  \n",
            "26   0.421632 -0.637962 -0.601276  1.176466  0.221545  0.302346 -0.645712  \n",
            "78   0.579502 -0.523001 -0.060801  0.113032  0.325926 -0.043883 -0.145059  \n",
            "84   0.467933 -0.752922 -0.957633  0.020560  0.441052 -0.425156  0.148802  \n",
            "276  0.471641 -0.637962 -0.916058 -0.395567  0.357175 -0.925576  1.160990  \n",
            "277  0.507579 -0.637962 -0.916058 -0.395567  0.403225 -1.190505  1.150107  \n",
            "280  0.427669 -0.523001 -1.141751 -1.643945  0.335904 -1.246574  2.488808  \n",
            "322  0.440219 -0.523001 -0.720062  0.529158  0.441052 -0.694290 -0.232129  \n",
            "323  0.440219 -0.523001 -0.720062  0.529158  0.377788 -0.127988 -0.438920  \n",
            "324  0.440219 -0.523001 -0.720062  0.529158  0.441052 -0.915764  0.268523  \n",
            "338  0.483525 -0.523001 -1.094237  0.806576  0.432719 -0.580749 -0.210362  \n",
            "339  0.483525 -0.523001 -1.094237  0.806576  0.441052 -0.408335 -0.384502  \n",
            "340  0.483525 -0.523001 -1.094237  0.806576  0.441052 -0.471413 -0.417153  \n"
          ]
        }
      ]
    },
    {
      "cell_type": "code",
      "source": [
        "## data_stdd 변수의 DIS 칼럼만 추출하기\n",
        "print(data_stdd['DIS'])"
      ],
      "metadata": {
        "colab": {
          "base_uri": "https://localhost:8080/"
        },
        "id": "peNmniM55f3h",
        "outputId": "321469db-b87b-4fea-b061-bffdf5e0ac64"
      },
      "execution_count": 105,
      "outputs": [
        {
          "output_type": "stream",
          "name": "stdout",
          "text": [
            "1      0.557160\n",
            "2      0.557160\n",
            "13     0.433754\n",
            "26     0.421632\n",
            "78     0.579502\n",
            "84     0.467933\n",
            "276    0.471641\n",
            "277    0.507579\n",
            "280    0.427669\n",
            "322    0.440219\n",
            "323    0.440219\n",
            "324    0.440219\n",
            "338    0.483525\n",
            "339    0.483525\n",
            "340    0.483525\n",
            "Name: DIS, dtype: float64\n"
          ]
        }
      ]
    },
    {
      "cell_type": "code",
      "source": [
        "## DIS 칼럼의 평균값 구하기\n",
        "print(data_stdd['DIS'].mean())\n",
        "\n",
        "## DIS 칼럼의 평균값을 소수점 셋째 자리에서 반올림하기\n",
        "print(round(data_stdd['DIS'].mean(), 2))"
      ],
      "metadata": {
        "colab": {
          "base_uri": "https://localhost:8080/"
        },
        "id": "yILsvd7R5mx9",
        "outputId": "74186504-cab6-459b-b280-b5029440914d"
      },
      "execution_count": 106,
      "outputs": [
        {
          "output_type": "stream",
          "name": "stdout",
          "text": [
            "0.479684212855197\n",
            "0.48\n"
          ]
        }
      ]
    },
    {
      "cell_type": "markdown",
      "source": [
        "##### 최종제출코드"
      ],
      "metadata": {
        "id": "5_O53yCp6C6A"
      }
    },
    {
      "cell_type": "code",
      "source": [
        "import pandas as pd\n",
        "from sklearn.preprocessing import StandardScaler\n",
        "data = pd.read_csv('boston.csv')\n",
        "scaler = StandardScaler()\n",
        "data_stdd = scaler.fit_transform(data)\n",
        "data_stdd = pd.DataFrame(data_stdd, columns=data.columns)\n",
        "data_stdd = data_stdd[(data_stdd['DIS'] > 0.4) & (data_stdd['DIS'] < 0.6)]\n",
        "print(round(data_stdd['DIS'].mean(), 2))"
      ],
      "metadata": {
        "colab": {
          "base_uri": "https://localhost:8080/"
        },
        "id": "fXffe8Ib6Aqh",
        "outputId": "e399ddc7-9090-44be-af49-056a02ec2643"
      },
      "execution_count": 107,
      "outputs": [
        {
          "output_type": "stream",
          "name": "stdout",
          "text": [
            "0.48\n"
          ]
        }
      ]
    },
    {
      "cell_type": "markdown",
      "source": [
        "### 2.6 유니크한 값 구하기"
      ],
      "metadata": {
        "id": "GLJa8Yzx68U5"
      }
    },
    {
      "cell_type": "markdown",
      "source": [
        "##### boston 데이터 세트의 전체 칼럼에 대해서 중복을 제거한 유니크한 값을 구한 후, 칼럼별로 유니크한 값의 개수를 기준으로 평균값을 구하시오."
      ],
      "metadata": {
        "id": "u6fXBMSP6-8Q"
      }
    },
    {
      "cell_type": "code",
      "source": [
        "import pandas as pd\n",
        "data = pd.read_csv('boston.csv')"
      ],
      "metadata": {
        "id": "19vT5Drs6i9h"
      },
      "execution_count": 108,
      "outputs": []
    },
    {
      "cell_type": "code",
      "source": [
        "## data 변수의 칼럼 목록 확인하기\n",
        "print(data.columns)\n",
        "\n",
        "## data 변수에 칼럼 목록을 data_col 변수에 저장하기\n",
        "data_col = data.columns\n",
        "\n",
        "## data_col 변수 안의 개수 구하기\n",
        "print(data_col.size)"
      ],
      "metadata": {
        "colab": {
          "base_uri": "https://localhost:8080/"
        },
        "id": "Rc8yNF467PfF",
        "outputId": "2644ef01-7783-4f37-a01b-b0d63fc95ff8"
      },
      "execution_count": 109,
      "outputs": [
        {
          "output_type": "stream",
          "name": "stdout",
          "text": [
            "Index(['CRIM', 'ZN', 'INDUS', 'CHAS', 'NOX', 'RM', 'AGE', 'DIS', 'RAD', 'TAX',\n",
            "       'PTRATIO', 'B', 'LSTAT', 'MEDV'],\n",
            "      dtype='object')\n",
            "14\n"
          ]
        }
      ]
    },
    {
      "cell_type": "code",
      "source": [
        "## CHAS 칼럼에서 유일한 값들의 목록 확인하기\n",
        "print(data['CHAS'].unique())"
      ],
      "metadata": {
        "colab": {
          "base_uri": "https://localhost:8080/"
        },
        "id": "zhygoiSH7Z88",
        "outputId": "a036a5d6-3f38-48d9-b799-d5440a19037f"
      },
      "execution_count": 110,
      "outputs": [
        {
          "output_type": "stream",
          "name": "stdout",
          "text": [
            "[0 1]\n"
          ]
        }
      ]
    },
    {
      "cell_type": "code",
      "source": [
        "## 데이터 프레임 타입으로 변환하기\n",
        "print(pd.DataFrame(data['CHAS'].unique()))\n",
        "\n",
        "## 결과 건수를 계산하기\n",
        "print(pd.DataFrame(data['CHAS'].unique()).count())"
      ],
      "metadata": {
        "colab": {
          "base_uri": "https://localhost:8080/"
        },
        "id": "l56Ts5_n8Dte",
        "outputId": "5f23b453-bcda-488c-f2a2-3ef12b2f8d2b"
      },
      "execution_count": 111,
      "outputs": [
        {
          "output_type": "stream",
          "name": "stdout",
          "text": [
            "   0\n",
            "0  0\n",
            "1  1\n",
            "0    2\n",
            "dtype: int64\n"
          ]
        }
      ]
    },
    {
      "cell_type": "code",
      "source": [
        "## CHAS 칼럼의 유니크한 값 개수를 정수형으로 변환해 출력하기\n",
        "print(int(pd.DataFrame(data['CHAS'].unique()).count()))"
      ],
      "metadata": {
        "colab": {
          "base_uri": "https://localhost:8080/"
        },
        "id": "ICzHE2nu8P4A",
        "outputId": "57f1933d-24ce-4687-bfcb-b80f69fb6f82"
      },
      "execution_count": 112,
      "outputs": [
        {
          "output_type": "stream",
          "name": "stdout",
          "text": [
            "2\n"
          ]
        }
      ]
    },
    {
      "cell_type": "code",
      "source": [
        "## data 변수의 각 칼럼에 대해서 유니크한 값을 구한 후, 평균값 구하기\n",
        "print(\n",
        "    ( int(pd.DataFrame(data['CRIM'].unique()).count()) + \n",
        "     int(pd.DataFrame(data['ZN'].unique()).count()) + \n",
        "     int(pd.DataFrame(data['INDUS'].unique()).count()) + \n",
        "     int(pd.DataFrame(data['CHAS'].unique()).count()) + \n",
        "     int(pd.DataFrame(data['NOX'].unique()).count())+\n",
        "     int(pd.DataFrame(data['RM'].unique()).count())+\n",
        "     int(pd.DataFrame(data['AGE'].unique()).count())+\n",
        "     int(pd.DataFrame(data['DIS'].unique()).count())+\n",
        "     int(pd.DataFrame(data['RAD'].unique()).count())+\n",
        "     int(pd.DataFrame(data['TAX'].unique()).count())+\n",
        "     int(pd.DataFrame(data['PTRATIO'].unique()).count())+\n",
        "     int(pd.DataFrame(data['B'].unique()).count())+\n",
        "     int(pd.DataFrame(data['LSTAT'].unique()).count())+\n",
        "     int(pd.DataFrame(data['MEDV'].unique()).count())\n",
        "     ) / data_col.size\n",
        ")"
      ],
      "metadata": {
        "colab": {
          "base_uri": "https://localhost:8080/"
        },
        "id": "XE41KO0z8cDl",
        "outputId": "11d6d1bc-410b-469f-8c28-844e3042b374"
      },
      "execution_count": 114,
      "outputs": [
        {
          "output_type": "stream",
          "name": "stdout",
          "text": [
            "218.0\n"
          ]
        }
      ]
    },
    {
      "cell_type": "markdown",
      "source": [
        "##### 두 번째 방법"
      ],
      "metadata": {
        "id": "GzChMBVX9YPk"
      }
    },
    {
      "cell_type": "code",
      "source": [
        "## 최초 합계는 0으로 설정하기\n",
        "sum = 0\n",
        "\n",
        "## data 변수의 칼럼별로 유니크한 값 개수를 구한 후, sum 변수에 더하는 for 문 만들기\n",
        "for 한개씩 in data_col:\n",
        "    sum = sum + int(pd.DataFrame(data[한개씩].unique()).count()[0])"
      ],
      "metadata": {
        "id": "-GJJ-6vY9XBD"
      },
      "execution_count": 115,
      "outputs": []
    },
    {
      "cell_type": "code",
      "source": [
        "## sum 변수 확인하기\n",
        "print(sum)"
      ],
      "metadata": {
        "colab": {
          "base_uri": "https://localhost:8080/"
        },
        "id": "QZbjgjw49ukE",
        "outputId": "c516f6fc-4a2b-4075-aaf2-9944f49b8941"
      },
      "execution_count": 116,
      "outputs": [
        {
          "output_type": "stream",
          "name": "stdout",
          "text": [
            "3052\n"
          ]
        }
      ]
    },
    {
      "cell_type": "code",
      "source": [
        "## data_col 변수의 사이즈 확인하기\n",
        "print(data_col.size)\n",
        "\n",
        "## sum 변수에 data_col.size 값을 나누기\n",
        "print(sum / data_col.size )"
      ],
      "metadata": {
        "colab": {
          "base_uri": "https://localhost:8080/"
        },
        "id": "z6CFX9Q69ypl",
        "outputId": "cc81043d-4a07-496b-f7b8-347db340643e"
      },
      "execution_count": 117,
      "outputs": [
        {
          "output_type": "stream",
          "name": "stdout",
          "text": [
            "14\n",
            "218.0\n"
          ]
        }
      ]
    },
    {
      "cell_type": "markdown",
      "source": [
        "##### 최종 제출 코드\n",
        "\n",
        "\n",
        "\n"
      ],
      "metadata": {
        "id": "U8ixg-wG-Ka2"
      }
    },
    {
      "cell_type": "code",
      "source": [
        "import pandas as pd\n",
        "data = pd.read_csv('boston.csv')\n",
        "data_col = data.columns\n",
        "sum = 0\n",
        "for 한개씩 in data_col:\n",
        "    sum += int(pd.DataFrame(data[한개씩].unique()).count()[0])\n",
        "print(sum / data_col.size) "
      ],
      "metadata": {
        "colab": {
          "base_uri": "https://localhost:8080/"
        },
        "id": "dr2RPqrN-JHr",
        "outputId": "b1ae89ba-665b-46e3-9622-8d42ab5a6948"
      },
      "execution_count": 119,
      "outputs": [
        {
          "output_type": "stream",
          "name": "stdout",
          "text": [
            "218.0\n"
          ]
        }
      ]
    },
    {
      "cell_type": "code",
      "source": [
        ""
      ],
      "metadata": {
        "id": "Oy76EKEP-dcr"
      },
      "execution_count": null,
      "outputs": []
    }
  ]
}