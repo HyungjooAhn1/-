{
  "nbformat": 4,
  "nbformat_minor": 0,
  "metadata": {
    "colab": {
      "name": "빅데이터분석기사 실기 Part3",
      "provenance": [],
      "collapsed_sections": [],
      "authorship_tag": "ABX9TyNPsj01lLwEeOlH15lAXcej",
      "include_colab_link": true
    },
    "kernelspec": {
      "name": "python3",
      "display_name": "Python 3"
    },
    "language_info": {
      "name": "python"
    },
    "accelerator": "GPU"
  },
  "cells": [
    {
      "cell_type": "markdown",
      "metadata": {
        "id": "view-in-github",
        "colab_type": "text"
      },
      "source": [
        "<a href=\"https://colab.research.google.com/github/HyungjooAhn1/-/blob/main/%EB%B9%85%EB%8D%B0%EC%9D%B4%ED%84%B0%EB%B6%84%EC%84%9D%EA%B8%B0%EC%82%AC_%EC%8B%A4%EA%B8%B0_Part3.ipynb\" target=\"_parent\"><img src=\"https://colab.research.google.com/assets/colab-badge.svg\" alt=\"Open In Colab\"/></a>"
      ]
    },
    {
      "cell_type": "markdown",
      "source": [
        "## 데이터 분석 절차 체득하기"
      ],
      "metadata": {
        "id": "20CosRna_j61"
      }
    },
    {
      "cell_type": "code",
      "execution_count": 1,
      "metadata": {
        "colab": {
          "base_uri": "https://localhost:8080/"
        },
        "id": "iurB1PJUFukg",
        "outputId": "e5c60b9a-41a6-4c13-add2-fdeb9a562e6b"
      },
      "outputs": [
        {
          "output_type": "stream",
          "name": "stdout",
          "text": [
            "             Unnamed: 0   mpg   cyl   disp   hp  drat     wt    qsec  vs  \\\n",
            "0             Mazda RX4  21.0   6.0  160.0  110  3.90  2.620   16.46   0   \n",
            "1         Mazda RX4 Wag  21.0   6.0  160.0  110  3.90  2.875   17.02   0   \n",
            "2            Datsun 710  22.8   4.0  108.0   93  3.85  2.320   18.61   1   \n",
            "3        Hornet 4 Drive  21.4   6.0  258.0  110  3.08  3.215    0.10   1   \n",
            "4     Hornet Sportabout  18.7   8.0  360.0  175  3.15  3.440   17.02   0   \n",
            "5               Valiant  18.1   6.0  225.0  105  2.76  3.460   20.22   1   \n",
            "6            Duster 360  14.3   8.0  360.0  245  3.21  3.570   15.84   0   \n",
            "7             Merc 240D  24.4   NaN  146.7   62  3.69  3.190   20.00   1   \n",
            "8              Merc 230  22.8   4.0  140.8   95  3.92  3.150   22.90   1   \n",
            "9              Merc 280  19.2   6.0  167.6  123  3.92  3.440   18.30   1   \n",
            "10            Merc 280C  17.8   6.0  167.6  123  3.92  3.440     NaN   1   \n",
            "11           Merc 450SE  16.4   8.0  275.8  180  3.07  4.070   17.40   0   \n",
            "12           Merc 450SL  17.3   8.0  275.8  180  3.07  3.730   17.60   0   \n",
            "13          Merc 450SLC  15.2   8.0  275.8  180  3.07  3.780   18.00   0   \n",
            "14   Cadillac Fleetwood  10.4  50.0  472.0  205  2.93  5.250   17.98   0   \n",
            "15  Lincoln Continental  10.4   8.0  460.0  215  3.00  5.424   17.82   0   \n",
            "16    Chrysler Imperial  14.7   8.0  440.0  230  3.23  5.345   17.42   0   \n",
            "17             Fiat 128  32.4   4.0   78.7   66  4.08  2.200   19.47   1   \n",
            "18          Honda Civic  30.4   4.0   75.7   52  4.93  1.615   18.52   1   \n",
            "19       Toyota Corolla  33.9   4.0   71.1   65  4.22  1.835   19.90   1   \n",
            "20        Toyota Corona  21.5   4.0  120.1   97  3.70  2.465   20.01   1   \n",
            "21     Dodge Challenger  15.5   8.0  318.0  150  2.76  3.520   16.87   0   \n",
            "22          AMC Javelin  15.2   8.0  304.0  150  3.15  3.435   17.30   0   \n",
            "23           Camaro Z28  13.3   8.0  350.0  245  3.73  3.840   15.41   0   \n",
            "24     Pontiac Firebird  19.2   NaN  400.0  175  3.08  3.845  100.00   0   \n",
            "25            Fiat X1-9  27.3   4.0   79.0   66  4.08  1.935   18.90   1   \n",
            "26        Porsche 914-2  26.0   4.0  120.3   91  4.43  2.140   16.70   0   \n",
            "27         Lotus Europa  30.4   4.0   95.1  113  3.77  1.513   16.90   1   \n",
            "28       Ford Pantera L  15.8   8.0  351.0  264  4.22  3.170   14.50   0   \n",
            "29         Ferrari Dino  19.7   6.0  145.0  175  3.62  2.770   15.50   0   \n",
            "30        Maserati Bora  15.0   8.0  301.0  335  3.54  3.570   14.60   0   \n",
            "31           Volvo 142E  21.4   4.0  121.0  109  4.11  2.780   18.60   1   \n",
            "\n",
            "        am gear  carb  \n",
            "0   manual    4     4  \n",
            "1   manual    4     4  \n",
            "2   manual    4     1  \n",
            "3     auto    3     1  \n",
            "4     auto    3     2  \n",
            "5     auto    3     1  \n",
            "6     auto    3     4  \n",
            "7     auto    4     2  \n",
            "8     auto    4     2  \n",
            "9     auto    4     4  \n",
            "10    auto    4     4  \n",
            "11    auto    3     3  \n",
            "12    auto   *3     3  \n",
            "13    auto    3     3  \n",
            "14    auto    3     4  \n",
            "15    auto    3     4  \n",
            "16    auto    3     4  \n",
            "17  manual    4     1  \n",
            "18  manual    4     2  \n",
            "19  manual    4     1  \n",
            "20    auto    3     1  \n",
            "21    auto    3     2  \n",
            "22    auto    3     2  \n",
            "23    auto    3     4  \n",
            "24    auto    3     2  \n",
            "25  manual    4     1  \n",
            "26  manual    5     2  \n",
            "27  manual    5     2  \n",
            "28  manual   *5     4  \n",
            "29  manual    5     6  \n",
            "30  manual    5     8  \n",
            "31  manual    4     2  \n"
          ]
        }
      ],
      "source": [
        "import pandas as pd\n",
        "data = pd.read_csv('mtcars.csv')\n",
        "print(data)"
      ]
    },
    {
      "cell_type": "code",
      "source": [
        "print(data.head())"
      ],
      "metadata": {
        "colab": {
          "base_uri": "https://localhost:8080/"
        },
        "id": "0ACnJjyrF_rQ",
        "outputId": "772cc226-ac61-45a5-8059-5f316dfb6376"
      },
      "execution_count": 2,
      "outputs": [
        {
          "output_type": "stream",
          "name": "stdout",
          "text": [
            "          Unnamed: 0   mpg  cyl   disp   hp  drat     wt   qsec  vs      am  \\\n",
            "0          Mazda RX4  21.0  6.0  160.0  110  3.90  2.620  16.46   0  manual   \n",
            "1      Mazda RX4 Wag  21.0  6.0  160.0  110  3.90  2.875  17.02   0  manual   \n",
            "2         Datsun 710  22.8  4.0  108.0   93  3.85  2.320  18.61   1  manual   \n",
            "3     Hornet 4 Drive  21.4  6.0  258.0  110  3.08  3.215   0.10   1    auto   \n",
            "4  Hornet Sportabout  18.7  8.0  360.0  175  3.15  3.440  17.02   0    auto   \n",
            "\n",
            "  gear  carb  \n",
            "0    4     4  \n",
            "1    4     4  \n",
            "2    4     1  \n",
            "3    3     1  \n",
            "4    3     2  \n"
          ]
        }
      ]
    },
    {
      "cell_type": "code",
      "source": [
        "## 데이터 모양 확인하기\n",
        "print(data.shape)"
      ],
      "metadata": {
        "colab": {
          "base_uri": "https://localhost:8080/"
        },
        "id": "lCXFf0frGui3",
        "outputId": "00cb0794-3cf7-4c0e-8c08-7aaba1734621"
      },
      "execution_count": 3,
      "outputs": [
        {
          "output_type": "stream",
          "name": "stdout",
          "text": [
            "(32, 12)\n"
          ]
        }
      ]
    },
    {
      "cell_type": "code",
      "source": [
        "## 데이터 타입 확인하기\n",
        "print(type(data))"
      ],
      "metadata": {
        "colab": {
          "base_uri": "https://localhost:8080/"
        },
        "id": "0nY872NdG3iP",
        "outputId": "84d26d81-97d6-42ef-d1f1-e9a740d7f636"
      },
      "execution_count": 4,
      "outputs": [
        {
          "output_type": "stream",
          "name": "stdout",
          "text": [
            "<class 'pandas.core.frame.DataFrame'>\n"
          ]
        }
      ]
    },
    {
      "cell_type": "code",
      "source": [
        "## 데이터 열 확인하기\n",
        "print(data.columns)"
      ],
      "metadata": {
        "colab": {
          "base_uri": "https://localhost:8080/"
        },
        "id": "mwir3v1IG8h6",
        "outputId": "592ddc0a-56f5-47f9-a147-fa586832eb3b"
      },
      "execution_count": 5,
      "outputs": [
        {
          "output_type": "stream",
          "name": "stdout",
          "text": [
            "Index(['Unnamed: 0', 'mpg', 'cyl', 'disp', 'hp', 'drat', 'wt', 'qsec', 'vs',\n",
            "       'am', 'gear', 'carb'],\n",
            "      dtype='object')\n"
          ]
        }
      ]
    },
    {
      "cell_type": "code",
      "source": [
        "## 기초 통계량 구하기\n",
        "print(data.describe())"
      ],
      "metadata": {
        "colab": {
          "base_uri": "https://localhost:8080/"
        },
        "id": "0qwd5rXwHQw8",
        "outputId": "1df4cd2b-2776-4c11-b592-62a1b855d0da"
      },
      "execution_count": 6,
      "outputs": [
        {
          "output_type": "stream",
          "name": "stdout",
          "text": [
            "             mpg        cyl        disp          hp       drat         wt  \\\n",
            "count  32.000000  30.000000   32.000000   32.000000  32.000000  32.000000   \n",
            "mean   20.090625   7.600000  230.721875  146.687500   3.596563   3.217250   \n",
            "std     6.026948   8.194195  123.938694   68.562868   0.534679   0.978457   \n",
            "min    10.400000   4.000000   71.100000   52.000000   2.760000   1.513000   \n",
            "25%    15.425000   4.000000  120.825000   96.500000   3.080000   2.581250   \n",
            "50%    19.200000   6.000000  196.300000  123.000000   3.695000   3.325000   \n",
            "75%    22.800000   8.000000  326.000000  180.000000   3.920000   3.610000   \n",
            "max    33.900000  50.000000  472.000000  335.000000   4.930000   5.424000   \n",
            "\n",
            "             qsec         vs     carb  \n",
            "count   31.000000  32.000000  32.0000  \n",
            "mean    19.866774   0.437500   2.8125  \n",
            "std     15.310469   0.504016   1.6152  \n",
            "min      0.100000   0.000000   1.0000  \n",
            "25%     16.785000   0.000000   2.0000  \n",
            "50%     17.600000   0.000000   2.0000  \n",
            "75%     18.755000   1.000000   4.0000  \n",
            "max    100.000000   1.000000   8.0000  \n"
          ]
        }
      ]
    },
    {
      "cell_type": "code",
      "source": [
        "print(data['hp'].describe())"
      ],
      "metadata": {
        "colab": {
          "base_uri": "https://localhost:8080/"
        },
        "id": "RVD7IuIJHXlQ",
        "outputId": "a7dca58c-6091-4e16-a805-5a665903bdef"
      },
      "execution_count": 7,
      "outputs": [
        {
          "output_type": "stream",
          "name": "stdout",
          "text": [
            "count     32.000000\n",
            "mean     146.687500\n",
            "std       68.562868\n",
            "min       52.000000\n",
            "25%       96.500000\n",
            "50%      123.000000\n",
            "75%      180.000000\n",
            "max      335.000000\n",
            "Name: hp, dtype: float64\n"
          ]
        }
      ]
    },
    {
      "cell_type": "code",
      "source": [
        "## 데이터 중복을 제거하기\n",
        "print(data['am'].unique())\n",
        "print(data['gear'].unique())\n",
        "print(data['vs'].unique())"
      ],
      "metadata": {
        "colab": {
          "base_uri": "https://localhost:8080/"
        },
        "id": "cU3Sk5UyHiWG",
        "outputId": "f260daeb-cccf-4a77-8c02-33a1913a5181"
      },
      "execution_count": 8,
      "outputs": [
        {
          "output_type": "stream",
          "name": "stdout",
          "text": [
            "['manual' 'auto']\n",
            "['4' '3' '*3' '5' '*5']\n",
            "[0 1]\n"
          ]
        }
      ]
    },
    {
      "cell_type": "code",
      "source": [
        "## 요약정보 확인하기\n",
        "print(data.info())"
      ],
      "metadata": {
        "colab": {
          "base_uri": "https://localhost:8080/"
        },
        "id": "gJXJOcTQIZ6L",
        "outputId": "578f28ce-174c-46d3-bd9e-75ca16146c7a"
      },
      "execution_count": 9,
      "outputs": [
        {
          "output_type": "stream",
          "name": "stdout",
          "text": [
            "<class 'pandas.core.frame.DataFrame'>\n",
            "RangeIndex: 32 entries, 0 to 31\n",
            "Data columns (total 12 columns):\n",
            " #   Column      Non-Null Count  Dtype  \n",
            "---  ------      --------------  -----  \n",
            " 0   Unnamed: 0  32 non-null     object \n",
            " 1   mpg         32 non-null     float64\n",
            " 2   cyl         30 non-null     float64\n",
            " 3   disp        32 non-null     float64\n",
            " 4   hp          32 non-null     int64  \n",
            " 5   drat        32 non-null     float64\n",
            " 6   wt          32 non-null     float64\n",
            " 7   qsec        31 non-null     float64\n",
            " 8   vs          32 non-null     int64  \n",
            " 9   am          32 non-null     object \n",
            " 10  gear        32 non-null     object \n",
            " 11  carb        32 non-null     int64  \n",
            "dtypes: float64(6), int64(3), object(3)\n",
            "memory usage: 3.1+ KB\n",
            "None\n"
          ]
        }
      ]
    },
    {
      "cell_type": "code",
      "source": [
        "## 상관관계 구하기\n",
        "print(data.corr())"
      ],
      "metadata": {
        "id": "uxaElxH2InR_",
        "colab": {
          "base_uri": "https://localhost:8080/"
        },
        "outputId": "b487723e-80fe-498d-e6c4-5d45faf6a83c"
      },
      "execution_count": 10,
      "outputs": [
        {
          "output_type": "stream",
          "name": "stdout",
          "text": [
            "           mpg       cyl      disp        hp      drat        wt      qsec  \\\n",
            "mpg   1.000000 -0.460227 -0.847551 -0.776168  0.681172 -0.867659  0.013668   \n",
            "cyl  -0.460227  1.000000  0.544876  0.323293 -0.372671  0.533690 -0.012755   \n",
            "disp -0.847551  0.544876  1.000000  0.790949 -0.710214  0.887980  0.181810   \n",
            "hp   -0.776168  0.323293  0.790949  1.000000 -0.448759  0.658748  0.010807   \n",
            "drat  0.681172 -0.372671 -0.710214 -0.448759  1.000000 -0.712441 -0.120283   \n",
            "wt   -0.867659  0.533690  0.887980  0.658748 -0.712441  1.000000  0.093900   \n",
            "qsec  0.013668 -0.012755  0.181810  0.010807 -0.120283  0.093900  1.000000   \n",
            "vs    0.664039 -0.323960 -0.710416 -0.723097  0.440278 -0.554916 -0.112146   \n",
            "carb -0.550925  0.239980  0.394977  0.749812 -0.090790  0.427606 -0.120312   \n",
            "\n",
            "            vs      carb  \n",
            "mpg   0.664039 -0.550925  \n",
            "cyl  -0.323960  0.239980  \n",
            "disp -0.710416  0.394977  \n",
            "hp   -0.723097  0.749812  \n",
            "drat  0.440278 -0.090790  \n",
            "wt   -0.554916  0.427606  \n",
            "qsec -0.112146 -0.120312  \n",
            "vs    1.000000 -0.569607  \n",
            "carb -0.569607  1.000000  \n"
          ]
        }
      ]
    },
    {
      "cell_type": "markdown",
      "source": [
        "#### 종속변수와 독립변수 분리하기"
      ],
      "metadata": {
        "id": "-SPlaFccL0c6"
      }
    },
    {
      "cell_type": "code",
      "source": [
        "X = data.drop(columns = 'mpg') ## 독립변수\n",
        "Y = data['mpg'] ## 종속변수"
      ],
      "metadata": {
        "id": "ugiUGLpiJdd0"
      },
      "execution_count": 11,
      "outputs": []
    },
    {
      "cell_type": "code",
      "source": [
        "print(X.head())"
      ],
      "metadata": {
        "colab": {
          "base_uri": "https://localhost:8080/"
        },
        "id": "LxT2xt1iMXxg",
        "outputId": "66acf740-a0e3-40d6-d91c-9e1735b40c5a"
      },
      "execution_count": 12,
      "outputs": [
        {
          "output_type": "stream",
          "name": "stdout",
          "text": [
            "          Unnamed: 0  cyl   disp   hp  drat     wt   qsec  vs      am gear  \\\n",
            "0          Mazda RX4  6.0  160.0  110  3.90  2.620  16.46   0  manual    4   \n",
            "1      Mazda RX4 Wag  6.0  160.0  110  3.90  2.875  17.02   0  manual    4   \n",
            "2         Datsun 710  4.0  108.0   93  3.85  2.320  18.61   1  manual    4   \n",
            "3     Hornet 4 Drive  6.0  258.0  110  3.08  3.215   0.10   1    auto    3   \n",
            "4  Hornet Sportabout  8.0  360.0  175  3.15  3.440  17.02   0    auto    3   \n",
            "\n",
            "   carb  \n",
            "0     4  \n",
            "1     4  \n",
            "2     1  \n",
            "3     1  \n",
            "4     2  \n"
          ]
        }
      ]
    },
    {
      "cell_type": "code",
      "source": [
        "print(X.columns)"
      ],
      "metadata": {
        "colab": {
          "base_uri": "https://localhost:8080/"
        },
        "id": "bytj36ukMeOC",
        "outputId": "59b5d022-96bc-4971-bac2-08c17a089973"
      },
      "execution_count": 13,
      "outputs": [
        {
          "output_type": "stream",
          "name": "stdout",
          "text": [
            "Index(['Unnamed: 0', 'cyl', 'disp', 'hp', 'drat', 'wt', 'qsec', 'vs', 'am',\n",
            "       'gear', 'carb'],\n",
            "      dtype='object')\n"
          ]
        }
      ]
    },
    {
      "cell_type": "code",
      "source": [
        "print(Y.head())"
      ],
      "metadata": {
        "colab": {
          "base_uri": "https://localhost:8080/"
        },
        "id": "SQX2UInXMgzR",
        "outputId": "b855b66f-c1b1-4aa8-a457-93ed2db49ac1"
      },
      "execution_count": 14,
      "outputs": [
        {
          "output_type": "stream",
          "name": "stdout",
          "text": [
            "0    21.0\n",
            "1    21.0\n",
            "2    22.8\n",
            "3    21.4\n",
            "4    18.7\n",
            "Name: mpg, dtype: float64\n"
          ]
        }
      ]
    },
    {
      "cell_type": "markdown",
      "source": [
        "### 데이터를 관찰하고 가공하기 : 전처리(preprocessing)"
      ],
      "metadata": {
        "id": "8ESeJ2OhNJI5"
      }
    },
    {
      "cell_type": "markdown",
      "source": [
        "#### 불필요한 열 삭제하기"
      ],
      "metadata": {
        "id": "cSMVpec8Okko"
      }
    },
    {
      "cell_type": "code",
      "source": [
        "print(X.head())"
      ],
      "metadata": {
        "colab": {
          "base_uri": "https://localhost:8080/"
        },
        "id": "bmDrS7ExNCec",
        "outputId": "944d9130-5bb0-4319-fd4d-cdc078fe8186"
      },
      "execution_count": 15,
      "outputs": [
        {
          "output_type": "stream",
          "name": "stdout",
          "text": [
            "          Unnamed: 0  cyl   disp   hp  drat     wt   qsec  vs      am gear  \\\n",
            "0          Mazda RX4  6.0  160.0  110  3.90  2.620  16.46   0  manual    4   \n",
            "1      Mazda RX4 Wag  6.0  160.0  110  3.90  2.875  17.02   0  manual    4   \n",
            "2         Datsun 710  4.0  108.0   93  3.85  2.320  18.61   1  manual    4   \n",
            "3     Hornet 4 Drive  6.0  258.0  110  3.08  3.215   0.10   1    auto    3   \n",
            "4  Hornet Sportabout  8.0  360.0  175  3.15  3.440  17.02   0    auto    3   \n",
            "\n",
            "   carb  \n",
            "0     4  \n",
            "1     4  \n",
            "2     1  \n",
            "3     1  \n",
            "4     2  \n"
          ]
        }
      ]
    },
    {
      "cell_type": "code",
      "source": [
        "## X변수의 전체 행과 1번 열~맨끝 열까지 추출한 후, X 변수에 다시 저장하기\n",
        "X = X.iloc[:,1:]\n",
        "print(X.head())"
      ],
      "metadata": {
        "colab": {
          "base_uri": "https://localhost:8080/"
        },
        "id": "z_DqBxz2OpuG",
        "outputId": "0bfcf749-94a4-4027-e356-77cc173f555b"
      },
      "execution_count": 16,
      "outputs": [
        {
          "output_type": "stream",
          "name": "stdout",
          "text": [
            "   cyl   disp   hp  drat     wt   qsec  vs      am gear  carb\n",
            "0  6.0  160.0  110  3.90  2.620  16.46   0  manual    4     4\n",
            "1  6.0  160.0  110  3.90  2.875  17.02   0  manual    4     4\n",
            "2  4.0  108.0   93  3.85  2.320  18.61   1  manual    4     1\n",
            "3  6.0  258.0  110  3.08  3.215   0.10   1    auto    3     1\n",
            "4  8.0  360.0  175  3.15  3.440  17.02   0    auto    3     2\n"
          ]
        }
      ]
    },
    {
      "cell_type": "markdown",
      "source": [
        "#### 결측값 처리하기"
      ],
      "metadata": {
        "id": "UwVw4ufgO7nm"
      }
    },
    {
      "cell_type": "code",
      "source": [
        "## 결측치 여부 확인하기\n",
        "X.isnull().head()"
      ],
      "metadata": {
        "colab": {
          "base_uri": "https://localhost:8080/",
          "height": 206
        },
        "id": "aXn6klzaO5AE",
        "outputId": "3df51fb1-52e6-43be-b128-3ab45425b05e"
      },
      "execution_count": 17,
      "outputs": [
        {
          "output_type": "execute_result",
          "data": {
            "text/plain": [
              "     cyl   disp     hp   drat     wt   qsec     vs     am   gear   carb\n",
              "0  False  False  False  False  False  False  False  False  False  False\n",
              "1  False  False  False  False  False  False  False  False  False  False\n",
              "2  False  False  False  False  False  False  False  False  False  False\n",
              "3  False  False  False  False  False  False  False  False  False  False\n",
              "4  False  False  False  False  False  False  False  False  False  False"
            ],
            "text/html": [
              "\n",
              "  <div id=\"df-74b1c08b-3121-4a12-b4c5-a4eb7c755f26\">\n",
              "    <div class=\"colab-df-container\">\n",
              "      <div>\n",
              "<style scoped>\n",
              "    .dataframe tbody tr th:only-of-type {\n",
              "        vertical-align: middle;\n",
              "    }\n",
              "\n",
              "    .dataframe tbody tr th {\n",
              "        vertical-align: top;\n",
              "    }\n",
              "\n",
              "    .dataframe thead th {\n",
              "        text-align: right;\n",
              "    }\n",
              "</style>\n",
              "<table border=\"1\" class=\"dataframe\">\n",
              "  <thead>\n",
              "    <tr style=\"text-align: right;\">\n",
              "      <th></th>\n",
              "      <th>cyl</th>\n",
              "      <th>disp</th>\n",
              "      <th>hp</th>\n",
              "      <th>drat</th>\n",
              "      <th>wt</th>\n",
              "      <th>qsec</th>\n",
              "      <th>vs</th>\n",
              "      <th>am</th>\n",
              "      <th>gear</th>\n",
              "      <th>carb</th>\n",
              "    </tr>\n",
              "  </thead>\n",
              "  <tbody>\n",
              "    <tr>\n",
              "      <th>0</th>\n",
              "      <td>False</td>\n",
              "      <td>False</td>\n",
              "      <td>False</td>\n",
              "      <td>False</td>\n",
              "      <td>False</td>\n",
              "      <td>False</td>\n",
              "      <td>False</td>\n",
              "      <td>False</td>\n",
              "      <td>False</td>\n",
              "      <td>False</td>\n",
              "    </tr>\n",
              "    <tr>\n",
              "      <th>1</th>\n",
              "      <td>False</td>\n",
              "      <td>False</td>\n",
              "      <td>False</td>\n",
              "      <td>False</td>\n",
              "      <td>False</td>\n",
              "      <td>False</td>\n",
              "      <td>False</td>\n",
              "      <td>False</td>\n",
              "      <td>False</td>\n",
              "      <td>False</td>\n",
              "    </tr>\n",
              "    <tr>\n",
              "      <th>2</th>\n",
              "      <td>False</td>\n",
              "      <td>False</td>\n",
              "      <td>False</td>\n",
              "      <td>False</td>\n",
              "      <td>False</td>\n",
              "      <td>False</td>\n",
              "      <td>False</td>\n",
              "      <td>False</td>\n",
              "      <td>False</td>\n",
              "      <td>False</td>\n",
              "    </tr>\n",
              "    <tr>\n",
              "      <th>3</th>\n",
              "      <td>False</td>\n",
              "      <td>False</td>\n",
              "      <td>False</td>\n",
              "      <td>False</td>\n",
              "      <td>False</td>\n",
              "      <td>False</td>\n",
              "      <td>False</td>\n",
              "      <td>False</td>\n",
              "      <td>False</td>\n",
              "      <td>False</td>\n",
              "    </tr>\n",
              "    <tr>\n",
              "      <th>4</th>\n",
              "      <td>False</td>\n",
              "      <td>False</td>\n",
              "      <td>False</td>\n",
              "      <td>False</td>\n",
              "      <td>False</td>\n",
              "      <td>False</td>\n",
              "      <td>False</td>\n",
              "      <td>False</td>\n",
              "      <td>False</td>\n",
              "      <td>False</td>\n",
              "    </tr>\n",
              "  </tbody>\n",
              "</table>\n",
              "</div>\n",
              "      <button class=\"colab-df-convert\" onclick=\"convertToInteractive('df-74b1c08b-3121-4a12-b4c5-a4eb7c755f26')\"\n",
              "              title=\"Convert this dataframe to an interactive table.\"\n",
              "              style=\"display:none;\">\n",
              "        \n",
              "  <svg xmlns=\"http://www.w3.org/2000/svg\" height=\"24px\"viewBox=\"0 0 24 24\"\n",
              "       width=\"24px\">\n",
              "    <path d=\"M0 0h24v24H0V0z\" fill=\"none\"/>\n",
              "    <path d=\"M18.56 5.44l.94 2.06.94-2.06 2.06-.94-2.06-.94-.94-2.06-.94 2.06-2.06.94zm-11 1L8.5 8.5l.94-2.06 2.06-.94-2.06-.94L8.5 2.5l-.94 2.06-2.06.94zm10 10l.94 2.06.94-2.06 2.06-.94-2.06-.94-.94-2.06-.94 2.06-2.06.94z\"/><path d=\"M17.41 7.96l-1.37-1.37c-.4-.4-.92-.59-1.43-.59-.52 0-1.04.2-1.43.59L10.3 9.45l-7.72 7.72c-.78.78-.78 2.05 0 2.83L4 21.41c.39.39.9.59 1.41.59.51 0 1.02-.2 1.41-.59l7.78-7.78 2.81-2.81c.8-.78.8-2.07 0-2.86zM5.41 20L4 18.59l7.72-7.72 1.47 1.35L5.41 20z\"/>\n",
              "  </svg>\n",
              "      </button>\n",
              "      \n",
              "  <style>\n",
              "    .colab-df-container {\n",
              "      display:flex;\n",
              "      flex-wrap:wrap;\n",
              "      gap: 12px;\n",
              "    }\n",
              "\n",
              "    .colab-df-convert {\n",
              "      background-color: #E8F0FE;\n",
              "      border: none;\n",
              "      border-radius: 50%;\n",
              "      cursor: pointer;\n",
              "      display: none;\n",
              "      fill: #1967D2;\n",
              "      height: 32px;\n",
              "      padding: 0 0 0 0;\n",
              "      width: 32px;\n",
              "    }\n",
              "\n",
              "    .colab-df-convert:hover {\n",
              "      background-color: #E2EBFA;\n",
              "      box-shadow: 0px 1px 2px rgba(60, 64, 67, 0.3), 0px 1px 3px 1px rgba(60, 64, 67, 0.15);\n",
              "      fill: #174EA6;\n",
              "    }\n",
              "\n",
              "    [theme=dark] .colab-df-convert {\n",
              "      background-color: #3B4455;\n",
              "      fill: #D2E3FC;\n",
              "    }\n",
              "\n",
              "    [theme=dark] .colab-df-convert:hover {\n",
              "      background-color: #434B5C;\n",
              "      box-shadow: 0px 1px 3px 1px rgba(0, 0, 0, 0.15);\n",
              "      filter: drop-shadow(0px 1px 2px rgba(0, 0, 0, 0.3));\n",
              "      fill: #FFFFFF;\n",
              "    }\n",
              "  </style>\n",
              "\n",
              "      <script>\n",
              "        const buttonEl =\n",
              "          document.querySelector('#df-74b1c08b-3121-4a12-b4c5-a4eb7c755f26 button.colab-df-convert');\n",
              "        buttonEl.style.display =\n",
              "          google.colab.kernel.accessAllowed ? 'block' : 'none';\n",
              "\n",
              "        async function convertToInteractive(key) {\n",
              "          const element = document.querySelector('#df-74b1c08b-3121-4a12-b4c5-a4eb7c755f26');\n",
              "          const dataTable =\n",
              "            await google.colab.kernel.invokeFunction('convertToInteractive',\n",
              "                                                     [key], {});\n",
              "          if (!dataTable) return;\n",
              "\n",
              "          const docLinkHtml = 'Like what you see? Visit the ' +\n",
              "            '<a target=\"_blank\" href=https://colab.research.google.com/notebooks/data_table.ipynb>data table notebook</a>'\n",
              "            + ' to learn more about interactive tables.';\n",
              "          element.innerHTML = '';\n",
              "          dataTable['output_type'] = 'display_data';\n",
              "          await google.colab.output.renderOutput(dataTable, element);\n",
              "          const docLink = document.createElement('div');\n",
              "          docLink.innerHTML = docLinkHtml;\n",
              "          element.appendChild(docLink);\n",
              "        }\n",
              "      </script>\n",
              "    </div>\n",
              "  </div>\n",
              "  "
            ]
          },
          "metadata": {},
          "execution_count": 17
        }
      ]
    },
    {
      "cell_type": "code",
      "source": [
        "print(X.isnull().sum())"
      ],
      "metadata": {
        "colab": {
          "base_uri": "https://localhost:8080/"
        },
        "id": "WjZVGfZIPJsE",
        "outputId": "42790f92-0848-43b6-a628-a2c9a02eab14"
      },
      "execution_count": 18,
      "outputs": [
        {
          "output_type": "stream",
          "name": "stdout",
          "text": [
            "cyl     2\n",
            "disp    0\n",
            "hp      0\n",
            "drat    0\n",
            "wt      0\n",
            "qsec    1\n",
            "vs      0\n",
            "am      0\n",
            "gear    0\n",
            "carb    0\n",
            "dtype: int64\n"
          ]
        }
      ]
    },
    {
      "cell_type": "code",
      "source": [
        "## 평균값으로 대치하기\n",
        "X_cyl_mean = X['cyl'].mean()\n",
        "\n",
        "print(X_cyl_mean)"
      ],
      "metadata": {
        "colab": {
          "base_uri": "https://localhost:8080/"
        },
        "id": "s3Ww_yb5PPek",
        "outputId": "c5607338-6bcd-4fe3-c04d-a2aff5f647dd"
      },
      "execution_count": 19,
      "outputs": [
        {
          "output_type": "stream",
          "name": "stdout",
          "text": [
            "7.6\n"
          ]
        }
      ]
    },
    {
      "cell_type": "code",
      "source": [
        "## fillna() 함수 사용\n",
        "X['cyl'] = X['cyl'].fillna(X_cyl_mean)\n",
        "print(X.isnull().sum())"
      ],
      "metadata": {
        "colab": {
          "base_uri": "https://localhost:8080/"
        },
        "id": "9stGJpkfPiYU",
        "outputId": "bb168189-6ba8-40bc-dbd7-e4056760c3a6"
      },
      "execution_count": 20,
      "outputs": [
        {
          "output_type": "stream",
          "name": "stdout",
          "text": [
            "cyl     0\n",
            "disp    0\n",
            "hp      0\n",
            "drat    0\n",
            "wt      0\n",
            "qsec    1\n",
            "vs      0\n",
            "am      0\n",
            "gear    0\n",
            "carb    0\n",
            "dtype: int64\n"
          ]
        }
      ]
    },
    {
      "cell_type": "code",
      "source": [
        "## 중위값으로 대치하기\n",
        "X_qsec_median = X['qsec'].median()\n",
        "\n",
        "print(X_qsec_median)"
      ],
      "metadata": {
        "colab": {
          "base_uri": "https://localhost:8080/"
        },
        "id": "SYDBq67MPx_u",
        "outputId": "eba71839-e331-4ec6-8305-e725830d7216"
      },
      "execution_count": 21,
      "outputs": [
        {
          "output_type": "stream",
          "name": "stdout",
          "text": [
            "17.6\n"
          ]
        }
      ]
    },
    {
      "cell_type": "code",
      "source": [
        "X['qsec'] = X['qsec'].fillna(X_qsec_median)\n",
        "print(X['qsec'].isnull().sum())"
      ],
      "metadata": {
        "colab": {
          "base_uri": "https://localhost:8080/"
        },
        "id": "3BlAt2UFSZlR",
        "outputId": "8540b9f3-2995-415b-f59a-a5b014400e37"
      },
      "execution_count": 22,
      "outputs": [
        {
          "output_type": "stream",
          "name": "stdout",
          "text": [
            "0\n"
          ]
        }
      ]
    },
    {
      "cell_type": "markdown",
      "source": [
        "#### 잘못된 값을 올바르게 바꾸기"
      ],
      "metadata": {
        "id": "BJcY4WprSy6s"
      }
    },
    {
      "cell_type": "code",
      "source": [
        "print(X['gear'].unique())"
      ],
      "metadata": {
        "colab": {
          "base_uri": "https://localhost:8080/"
        },
        "id": "GuWqQUFYSip3",
        "outputId": "991ed277-0e7c-4e9e-fbb8-2213bbccc5c1"
      },
      "execution_count": 23,
      "outputs": [
        {
          "output_type": "stream",
          "name": "stdout",
          "text": [
            "['4' '3' '*3' '5' '*5']\n"
          ]
        }
      ]
    },
    {
      "cell_type": "code",
      "source": [
        "print(X['gear'].replace('*3', '3').replace('*5', '5'))"
      ],
      "metadata": {
        "colab": {
          "base_uri": "https://localhost:8080/"
        },
        "id": "12dbcmhYS8ap",
        "outputId": "363e56b2-2f6a-4920-e152-ab45a1074ada"
      },
      "execution_count": 24,
      "outputs": [
        {
          "output_type": "stream",
          "name": "stdout",
          "text": [
            "0     4\n",
            "1     4\n",
            "2     4\n",
            "3     3\n",
            "4     3\n",
            "5     3\n",
            "6     3\n",
            "7     4\n",
            "8     4\n",
            "9     4\n",
            "10    4\n",
            "11    3\n",
            "12    3\n",
            "13    3\n",
            "14    3\n",
            "15    3\n",
            "16    3\n",
            "17    4\n",
            "18    4\n",
            "19    4\n",
            "20    3\n",
            "21    3\n",
            "22    3\n",
            "23    3\n",
            "24    3\n",
            "25    4\n",
            "26    5\n",
            "27    5\n",
            "28    5\n",
            "29    5\n",
            "30    5\n",
            "31    4\n",
            "Name: gear, dtype: object\n"
          ]
        }
      ]
    },
    {
      "cell_type": "code",
      "source": [
        "X['gear'] = X['gear'].replace('*3', '3').replace('*5', '5')"
      ],
      "metadata": {
        "id": "VueFzfh4UUrq"
      },
      "execution_count": 25,
      "outputs": []
    },
    {
      "cell_type": "code",
      "source": [
        "print(X['gear'].unique())"
      ],
      "metadata": {
        "colab": {
          "base_uri": "https://localhost:8080/"
        },
        "id": "1_micKr-UbQY",
        "outputId": "b45fcf33-867a-4a1c-cdb7-f74b473bd0e0"
      },
      "execution_count": 26,
      "outputs": [
        {
          "output_type": "stream",
          "name": "stdout",
          "text": [
            "['4' '3' '5']\n"
          ]
        }
      ]
    },
    {
      "cell_type": "markdown",
      "source": [
        "#### 이상값(outlier) 처리하기"
      ],
      "metadata": {
        "id": "RWMVQwaFUik0"
      }
    },
    {
      "cell_type": "code",
      "source": [
        "## 사분범위(IQR) 활용하기\n",
        "\n",
        "X_describe = X.describe()\n",
        "print(X_describe)"
      ],
      "metadata": {
        "colab": {
          "base_uri": "https://localhost:8080/"
        },
        "id": "MX4G3UgcUgOt",
        "outputId": "1700b4cd-0aef-4028-9b82-e05d313b9d40"
      },
      "execution_count": 27,
      "outputs": [
        {
          "output_type": "stream",
          "name": "stdout",
          "text": [
            "             cyl        disp          hp       drat         wt        qsec  \\\n",
            "count  32.000000   32.000000   32.000000  32.000000  32.000000   32.000000   \n",
            "mean    7.600000  230.721875  146.687500   3.596563   3.217250   19.795938   \n",
            "std     7.925459  123.938694   68.562868   0.534679   0.978457   15.066831   \n",
            "min     4.000000   71.100000   52.000000   2.760000   1.513000    0.100000   \n",
            "25%     4.000000  120.825000   96.500000   3.080000   2.581250   16.827500   \n",
            "50%     6.000000  196.300000  123.000000   3.695000   3.325000   17.600000   \n",
            "75%     8.000000  326.000000  180.000000   3.920000   3.610000   18.682500   \n",
            "max    50.000000  472.000000  335.000000   4.930000   5.424000  100.000000   \n",
            "\n",
            "              vs     carb  \n",
            "count  32.000000  32.0000  \n",
            "mean    0.437500   2.8125  \n",
            "std     0.504016   1.6152  \n",
            "min     0.000000   1.0000  \n",
            "25%     0.000000   2.0000  \n",
            "50%     0.000000   2.0000  \n",
            "75%     1.000000   4.0000  \n",
            "max     1.000000   8.0000  \n"
          ]
        }
      ]
    },
    {
      "cell_type": "code",
      "source": [
        "print(X_describe.loc['75%'], X_describe.loc['25%'])"
      ],
      "metadata": {
        "colab": {
          "base_uri": "https://localhost:8080/"
        },
        "id": "I88HxMm3V42M",
        "outputId": "691dbf60-739f-4e7a-9b23-85059bf0efc1"
      },
      "execution_count": 28,
      "outputs": [
        {
          "output_type": "stream",
          "name": "stdout",
          "text": [
            "cyl       8.0000\n",
            "disp    326.0000\n",
            "hp      180.0000\n",
            "drat      3.9200\n",
            "wt        3.6100\n",
            "qsec     18.6825\n",
            "vs        1.0000\n",
            "carb      4.0000\n",
            "Name: 75%, dtype: float64 cyl       4.00000\n",
            "disp    120.82500\n",
            "hp       96.50000\n",
            "drat      3.08000\n",
            "wt        2.58125\n",
            "qsec     16.82750\n",
            "vs        0.00000\n",
            "carb      2.00000\n",
            "Name: 25%, dtype: float64\n"
          ]
        }
      ]
    },
    {
      "cell_type": "code",
      "source": [
        "## IQR을 계산한 후, X_iqr 변수에 저장하기\n",
        "X_iqr = X_describe.loc['75%'] - X_describe.loc['25%']\n",
        "print(X_iqr)"
      ],
      "metadata": {
        "colab": {
          "base_uri": "https://localhost:8080/"
        },
        "id": "83jB-4oOWEAc",
        "outputId": "8192c92e-80ee-4cc7-9fb2-0f8654d8bd8a"
      },
      "execution_count": 29,
      "outputs": [
        {
          "output_type": "stream",
          "name": "stdout",
          "text": [
            "cyl       4.00000\n",
            "disp    205.17500\n",
            "hp       83.50000\n",
            "drat      0.84000\n",
            "wt        1.02875\n",
            "qsec      1.85500\n",
            "vs        1.00000\n",
            "carb      2.00000\n",
            "dtype: float64\n"
          ]
        }
      ]
    },
    {
      "cell_type": "code",
      "source": [
        "## 각 열의 3사분위수 + 1.5*IQR 값을 계산하기\n",
        "print(X_describe.loc['75%'] + 1.5*X_iqr)"
      ],
      "metadata": {
        "colab": {
          "base_uri": "https://localhost:8080/"
        },
        "id": "P6pCoP2SWW5z",
        "outputId": "f81c487e-f1e8-4b4d-d53d-ec32cb09a059"
      },
      "execution_count": 30,
      "outputs": [
        {
          "output_type": "stream",
          "name": "stdout",
          "text": [
            "cyl      14.000000\n",
            "disp    633.762500\n",
            "hp      305.250000\n",
            "drat      5.180000\n",
            "wt        5.153125\n",
            "qsec     21.465000\n",
            "vs        2.500000\n",
            "carb      7.000000\n",
            "dtype: float64\n"
          ]
        }
      ]
    },
    {
      "cell_type": "code",
      "source": [
        "print(X_describe.loc['max'])"
      ],
      "metadata": {
        "colab": {
          "base_uri": "https://localhost:8080/"
        },
        "id": "9W5HXhRaWjJY",
        "outputId": "a61ca42f-3cf0-4270-ad65-49f669ba2d4c"
      },
      "execution_count": 31,
      "outputs": [
        {
          "output_type": "stream",
          "name": "stdout",
          "text": [
            "cyl      50.000\n",
            "disp    472.000\n",
            "hp      335.000\n",
            "drat      4.930\n",
            "wt        5.424\n",
            "qsec    100.000\n",
            "vs        1.000\n",
            "carb      8.000\n",
            "Name: max, dtype: float64\n"
          ]
        }
      ]
    },
    {
      "cell_type": "code",
      "source": [
        "## cyl 열 값이 14를 초과하는 값 추출하기\n",
        "print(X.loc[X['cyl'] > 14])"
      ],
      "metadata": {
        "colab": {
          "base_uri": "https://localhost:8080/"
        },
        "id": "H-QXW3SVWvk7",
        "outputId": "a0e59442-a86b-4d50-e06a-3a39ad40ee6e"
      },
      "execution_count": 32,
      "outputs": [
        {
          "output_type": "stream",
          "name": "stdout",
          "text": [
            "     cyl   disp   hp  drat    wt   qsec  vs    am gear  carb\n",
            "14  50.0  472.0  205  2.93  5.25  17.98   0  auto    3     4\n"
          ]
        }
      ]
    },
    {
      "cell_type": "code",
      "source": [
        "X.loc[14, 'cyl'] = 14\n",
        "\n",
        "X.loc[14, 'cyl']"
      ],
      "metadata": {
        "colab": {
          "base_uri": "https://localhost:8080/"
        },
        "id": "o3xU1izCXCno",
        "outputId": "656039ce-6eee-4f45-dbdf-a25e75da77d6"
      },
      "execution_count": 33,
      "outputs": [
        {
          "output_type": "execute_result",
          "data": {
            "text/plain": [
              "14.0"
            ]
          },
          "metadata": {},
          "execution_count": 33
        }
      ]
    },
    {
      "cell_type": "code",
      "source": [
        "## hp 열 값이 305.25를 초과하는 값 추출하기\n",
        "print(X.loc[X['hp'] > 305.25]) "
      ],
      "metadata": {
        "colab": {
          "base_uri": "https://localhost:8080/"
        },
        "id": "QVrMsWNgXMNB",
        "outputId": "e8c00d9b-e42d-4b8b-f945-6f6cdb078836"
      },
      "execution_count": 34,
      "outputs": [
        {
          "output_type": "stream",
          "name": "stdout",
          "text": [
            "    cyl   disp   hp  drat    wt  qsec  vs      am gear  carb\n",
            "30  8.0  301.0  335  3.54  3.57  14.6   0  manual    5     8\n"
          ]
        }
      ]
    },
    {
      "cell_type": "code",
      "source": [
        "X.loc[30, 'hp'] = 305.25\n",
        "print(X.loc[30, 'hp'])"
      ],
      "metadata": {
        "colab": {
          "base_uri": "https://localhost:8080/"
        },
        "id": "LoObHVjNYXck",
        "outputId": "e00b17cb-7ae8-4f59-f966-e74e77b97b87"
      },
      "execution_count": 35,
      "outputs": [
        {
          "output_type": "stream",
          "name": "stdout",
          "text": [
            "305.25\n"
          ]
        }
      ]
    },
    {
      "cell_type": "code",
      "source": [
        "## 각 열의 1사분위수 - 1.5 * IQR 값을 계산하기\n",
        "print(X_describe.loc['25%'] - X_iqr * 1.5)"
      ],
      "metadata": {
        "colab": {
          "base_uri": "https://localhost:8080/"
        },
        "id": "fnzl9Xf5YfLZ",
        "outputId": "3a13a11d-6868-4d64-e901-54532041101a"
      },
      "execution_count": 36,
      "outputs": [
        {
          "output_type": "stream",
          "name": "stdout",
          "text": [
            "cyl      -2.000000\n",
            "disp   -186.937500\n",
            "hp      -28.750000\n",
            "drat      1.820000\n",
            "wt        1.038125\n",
            "qsec     14.045000\n",
            "vs       -1.500000\n",
            "carb     -1.000000\n",
            "dtype: float64\n"
          ]
        }
      ]
    },
    {
      "cell_type": "code",
      "source": [
        "print(X_describe.loc['min'])"
      ],
      "metadata": {
        "colab": {
          "base_uri": "https://localhost:8080/"
        },
        "id": "374DDbBmYv_2",
        "outputId": "bb976383-d394-4903-ca02-f124003d3877"
      },
      "execution_count": 37,
      "outputs": [
        {
          "output_type": "stream",
          "name": "stdout",
          "text": [
            "cyl      4.000\n",
            "disp    71.100\n",
            "hp      52.000\n",
            "drat     2.760\n",
            "wt       1.513\n",
            "qsec     0.100\n",
            "vs       0.000\n",
            "carb     1.000\n",
            "Name: min, dtype: float64\n"
          ]
        }
      ]
    },
    {
      "cell_type": "code",
      "source": [
        "## 평균과 표준편차 활용하기\n",
        "\n",
        "## 데이터와 열을 전달하면 이상값 정보가 출력되는 outlier() 함수 만들기\n",
        "def outlier(data, column):\n",
        "    mean = data[column].mean()\n",
        "    std = data[column].std()\n",
        "    lowest = mean - 1.5 * std\n",
        "    highest = mean + 1.5 * std\n",
        "    print('최소 경계값:', lowest, '최대 경계값:', highest)\n",
        "    outlier_index = data[column][ (data[column] < lowest) | (data[column] > highest) ].index\n",
        "    return outlier_index"
      ],
      "metadata": {
        "id": "BZ8KlttVY030"
      },
      "execution_count": 38,
      "outputs": []
    },
    {
      "cell_type": "code",
      "source": [
        "print(outlier(X, 'qsec'))"
      ],
      "metadata": {
        "colab": {
          "base_uri": "https://localhost:8080/"
        },
        "id": "Nu64x3U5bakt",
        "outputId": "9907a512-ab5e-4943-ff13-485de4309f9c"
      },
      "execution_count": 39,
      "outputs": [
        {
          "output_type": "stream",
          "name": "stdout",
          "text": [
            "최소 경계값: -2.8043094560577657 최대 경계값: 42.39618445605777\n",
            "Int64Index([24], dtype='int64')\n"
          ]
        }
      ]
    },
    {
      "cell_type": "code",
      "source": [
        "print(X.loc[24, 'qsec'])"
      ],
      "metadata": {
        "colab": {
          "base_uri": "https://localhost:8080/"
        },
        "id": "tRlsoXsGbdk1",
        "outputId": "41cc5eef-6e90-4a19-c4df-e8126861d437"
      },
      "execution_count": 40,
      "outputs": [
        {
          "output_type": "stream",
          "name": "stdout",
          "text": [
            "100.0\n"
          ]
        }
      ]
    },
    {
      "cell_type": "code",
      "source": [
        "X.loc[24, 'qsec'] = 42.4\n",
        "\n",
        "X.loc[24, 'qsec']"
      ],
      "metadata": {
        "colab": {
          "base_uri": "https://localhost:8080/"
        },
        "id": "AgH6e2njbm2K",
        "outputId": "918904e9-cb33-44dd-ba0a-f2ad067cbb8a"
      },
      "execution_count": 41,
      "outputs": [
        {
          "output_type": "execute_result",
          "data": {
            "text/plain": [
              "42.4"
            ]
          },
          "metadata": {},
          "execution_count": 41
        }
      ]
    },
    {
      "cell_type": "code",
      "source": [
        "print(outlier(X, 'carb'))"
      ],
      "metadata": {
        "colab": {
          "base_uri": "https://localhost:8080/"
        },
        "id": "y5aKtL-jb2fu",
        "outputId": "041b5446-fc88-4b8d-b600-1e2888d6732e"
      },
      "execution_count": 42,
      "outputs": [
        {
          "output_type": "stream",
          "name": "stdout",
          "text": [
            "최소 경계값: 0.3897000335522218 최대 경계값: 5.235299966447778\n",
            "Int64Index([29, 30], dtype='int64')\n"
          ]
        }
      ]
    },
    {
      "cell_type": "code",
      "source": [
        "print(X.loc[[29,30], 'carb'])"
      ],
      "metadata": {
        "colab": {
          "base_uri": "https://localhost:8080/"
        },
        "id": "VaRIdv4jb65L",
        "outputId": "b39c536e-fded-4b11-c222-87f31287aa12"
      },
      "execution_count": 43,
      "outputs": [
        {
          "output_type": "stream",
          "name": "stdout",
          "text": [
            "29    6\n",
            "30    8\n",
            "Name: carb, dtype: int64\n"
          ]
        }
      ]
    },
    {
      "cell_type": "code",
      "source": [
        "X.loc[[29,30], 'carb'] = 5.235\n",
        "X.loc[[29,30], 'carb']"
      ],
      "metadata": {
        "colab": {
          "base_uri": "https://localhost:8080/"
        },
        "id": "4lAiG9u9cBr8",
        "outputId": "9c07ea89-a792-445f-d8e2-b7ded10455ac"
      },
      "execution_count": 44,
      "outputs": [
        {
          "output_type": "execute_result",
          "data": {
            "text/plain": [
              "29    5.235\n",
              "30    5.235\n",
              "Name: carb, dtype: float64"
            ]
          },
          "metadata": {},
          "execution_count": 44
        }
      ]
    },
    {
      "cell_type": "markdown",
      "source": [
        "### 데이터를 동일한 범위로 맞추기 : 데이터 스케일링(Data Scaling)"
      ],
      "metadata": {
        "id": "bnGHn1vrZmzN"
      }
    },
    {
      "cell_type": "markdown",
      "source": [
        "#### 표준크기변환 : StandardScaler\n",
        "    평균값이 0, 표준편차가 1인 정규분포로 변환\n",
        "    종속변수가 범주형 형태인 분류 문제에 활용"
      ],
      "metadata": {
        "id": "8dPq84D6ajDd"
      }
    },
    {
      "cell_type": "code",
      "source": [
        "## sklearn 패키지의 preprocessing 모듈에서 StandardScaler 함수를 가져오기\n",
        "from sklearn.preprocessing import StandardScaler\n",
        "\n",
        "## X 변수에서 qsec 열만 추출한 후, temp 변수에 저장하기\n",
        "temp = X[['qsec']]"
      ],
      "metadata": {
        "id": "8K0WgJyJcKB4"
      },
      "execution_count": 45,
      "outputs": []
    },
    {
      "cell_type": "code",
      "source": [
        "## StandardScaler 함수 호출하여 표준 크기변환 기능을 갖는 scaler라는 객체 만들기\n",
        "scaler = StandardScaler()\n",
        "\n",
        "## 표준 크기변환하는 scaler에게 fit_transform 명령으로 temp 변수의 크기변환 요청하기\n",
        "print(scaler.fit_transform(temp))"
      ],
      "metadata": {
        "colab": {
          "base_uri": "https://localhost:8080/"
        },
        "id": "so3kYl_IZu33",
        "outputId": "24532c8a-7184-4011-8b2c-d4aed5113358"
      },
      "execution_count": 46,
      "outputs": [
        {
          "output_type": "stream",
          "name": "stdout",
          "text": [
            "[[-2.73141413e-01]\n",
            " [-1.73554554e-01]\n",
            " [ 1.09200992e-01]\n",
            " [-3.18250037e+00]\n",
            " [-1.73554554e-01]\n",
            " [ 3.95513212e-01]\n",
            " [-3.83398293e-01]\n",
            " [ 3.56389804e-01]\n",
            " [ 8.72107467e-01]\n",
            " [ 5.40725524e-02]\n",
            " [-7.04110215e-02]\n",
            " [-1.05977757e-01]\n",
            " [-7.04110215e-02]\n",
            " [ 7.22449313e-04]\n",
            " [-2.83422423e-03]\n",
            " [-3.12876126e-02]\n",
            " [-1.02421083e-01]\n",
            " [ 2.62137955e-01]\n",
            " [ 9.31959614e-02]\n",
            " [ 3.38606436e-01]\n",
            " [ 3.58168140e-01]\n",
            " [-2.00229606e-01]\n",
            " [-1.23761125e-01]\n",
            " [-4.59866774e-01]\n",
            " [ 4.33986417e+00]\n",
            " [ 1.60772759e-01]\n",
            " [-2.30461331e-01]\n",
            " [-1.94894596e-01]\n",
            " [-6.21695421e-01]\n",
            " [-4.43861743e-01]\n",
            " [-6.03912053e-01]\n",
            " [ 1.07422656e-01]]\n"
          ]
        }
      ]
    },
    {
      "cell_type": "code",
      "source": [
        "## 표준 크기변환을 수행한 결과를 qsec_s_scaler 변수에 저장하기\n",
        "qsec_s_scaler = pd.DataFrame(scaler.fit_transform(temp))\n",
        "\n",
        "## qsec_s_scaler 변수의 기초통계량 확인하기\n",
        "print(qsec_s_scaler.describe())"
      ],
      "metadata": {
        "colab": {
          "base_uri": "https://localhost:8080/"
        },
        "id": "j1jH7j8Ccg5M",
        "outputId": "db65b21b-e357-46b1-d225-84c209457959"
      },
      "execution_count": 47,
      "outputs": [
        {
          "output_type": "stream",
          "name": "stdout",
          "text": [
            "                  0\n",
            "count  3.200000e+01\n",
            "mean  -6.461845e-16\n",
            "std    1.016001e+00\n",
            "min   -3.182500e+00\n",
            "25%   -2.077875e-01\n",
            "50%   -7.041102e-02\n",
            "75%    1.220939e-01\n",
            "max    4.339864e+00\n"
          ]
        }
      ]
    },
    {
      "cell_type": "markdown",
      "source": [
        "#### 최소-최대 크기변환 : MinMaxScaler\n",
        "    최솟값을 0으로, 최댓값을 1의 분포로 변환시키는 방법\n",
        "    종속변수가 연속형 범주인 회귀 문제에 활용\n",
        "\n"
      ],
      "metadata": {
        "id": "UHZLynnhc-hs"
      }
    },
    {
      "cell_type": "code",
      "source": [
        "## sklearn 패키지의 preprocessing 모듈에서 MinMaxScaler 함수를 가져오기\n",
        "from sklearn.preprocessing import MinMaxScaler\n",
        "\n",
        "## X 변수에서 qsec 열만 추출한 후, temp 변수에 저장하기\n",
        "temp = X[['qsec']]"
      ],
      "metadata": {
        "id": "k5AQ-sZjc2mF"
      },
      "execution_count": 48,
      "outputs": []
    },
    {
      "cell_type": "code",
      "source": [
        "## MinMaxScaler 함수를 호출하여 최소-최대 크기변환 기능을 갖는 scaler 객체 만들기\n",
        "scaler = MinMaxScaler()\n",
        "\n",
        "## 최소최대 크기변환 기능이 있는 scaler에게 temp 변수의 크기변환을 요청하고 반환 결과는 qsec_m_scaler 변수에 저장하기\n",
        "qsec_m_scaler = pd.DataFrame(scaler.fit_transform(temp))\n",
        "\n",
        "## 최소최대 크기변환 결과인 qsec_m_scaler 변수 확인하기\n",
        "print(qsec_m_scaler)"
      ],
      "metadata": {
        "colab": {
          "base_uri": "https://localhost:8080/"
        },
        "id": "6SOYdtIVejOs",
        "outputId": "7c2f6224-dc42-4c55-a36c-d2420ce8ec54"
      },
      "execution_count": 49,
      "outputs": [
        {
          "output_type": "stream",
          "name": "stdout",
          "text": [
            "           0\n",
            "0   0.386761\n",
            "1   0.400000\n",
            "2   0.437589\n",
            "3   0.000000\n",
            "4   0.400000\n",
            "5   0.475650\n",
            "6   0.372104\n",
            "7   0.470449\n",
            "8   0.539007\n",
            "9   0.430260\n",
            "10  0.413712\n",
            "11  0.408983\n",
            "12  0.413712\n",
            "13  0.423168\n",
            "14  0.422695\n",
            "15  0.418913\n",
            "16  0.409456\n",
            "17  0.457920\n",
            "18  0.435461\n",
            "19  0.468085\n",
            "20  0.470686\n",
            "21  0.396454\n",
            "22  0.406619\n",
            "23  0.361939\n",
            "24  1.000000\n",
            "25  0.444444\n",
            "26  0.392435\n",
            "27  0.397163\n",
            "28  0.340426\n",
            "29  0.364066\n",
            "30  0.342790\n",
            "31  0.437352\n"
          ]
        }
      ]
    },
    {
      "cell_type": "code",
      "source": [
        "## qsec_m_scaler 변수의 기초통계량 확인하기\n",
        "print(qsec_m_scaler.describe())"
      ],
      "metadata": {
        "colab": {
          "base_uri": "https://localhost:8080/"
        },
        "id": "bMM6KvJPfBIm",
        "outputId": "72eb9854-ee20-4491-ccba-8f32dd87ab2c"
      },
      "execution_count": 50,
      "outputs": [
        {
          "output_type": "stream",
          "name": "stdout",
          "text": [
            "               0\n",
            "count  32.000000\n",
            "mean    0.423072\n",
            "std     0.135064\n",
            "min     0.000000\n",
            "25%     0.395449\n",
            "50%     0.413712\n",
            "75%     0.439303\n",
            "max     1.000000\n"
          ]
        }
      ]
    },
    {
      "cell_type": "markdown",
      "source": [
        "#### 로버스트 크기변환 : RobustScaler\n",
        "    중앙값이 0, 사분범위(IQR)가 1인 분포로 변환\n",
        "    이상값 영향 잘 받지 않아 일반적으로 활용"
      ],
      "metadata": {
        "id": "2Py5he5efMtO"
      }
    },
    {
      "cell_type": "code",
      "source": [
        "## sklearn 패키지의 preprocessing 모듈에서 RobustScaler 함수를 가져오기\n",
        "from sklearn.preprocessing import RobustScaler\n",
        "\n",
        "## X 변수에서 qsec 열만 추출한 후, temp 변수에 저장하기\n",
        "temp = X[['qsec']]"
      ],
      "metadata": {
        "id": "lBXzjIDWfKwA"
      },
      "execution_count": 51,
      "outputs": []
    },
    {
      "cell_type": "code",
      "source": [
        "## RobustScaler 함수를 호출하여 로버스트 크기변환 기능을 갖는 scaler 객체 만들기\n",
        "scaler = RobustScaler()\n",
        "\n",
        "## 로버스트 크기변환 기능이 있는 scaler에게 temp 변수의 크기변환을 요청하고 반환 결과는 qsec_r_scaler 변수에 저장하기\n",
        "qsec_r_scaler = pd.DataFrame(scaler.fit_transform(temp))\n",
        "\n",
        "## 로버스트 크기변환 결과인 qsec_r_scaler 변수 확인하기\n",
        "print(qsec_r_scaler)"
      ],
      "metadata": {
        "colab": {
          "base_uri": "https://localhost:8080/"
        },
        "id": "lTfkEcolf0j8",
        "outputId": "2a147a3e-426c-4bff-f501-008a7b443acb"
      },
      "execution_count": 52,
      "outputs": [
        {
          "output_type": "stream",
          "name": "stdout",
          "text": [
            "            0\n",
            "0   -0.614555\n",
            "1   -0.312668\n",
            "2    0.544474\n",
            "3   -9.433962\n",
            "4   -0.312668\n",
            "5    1.412399\n",
            "6   -0.948787\n",
            "7    1.293801\n",
            "8    2.857143\n",
            "9    0.377358\n",
            "10   0.000000\n",
            "11  -0.107817\n",
            "12   0.000000\n",
            "13   0.215633\n",
            "14   0.204852\n",
            "15   0.118598\n",
            "16  -0.097035\n",
            "17   1.008086\n",
            "18   0.495957\n",
            "19   1.239892\n",
            "20   1.299191\n",
            "21  -0.393531\n",
            "22  -0.161725\n",
            "23  -1.180593\n",
            "24  13.369272\n",
            "25   0.700809\n",
            "26  -0.485175\n",
            "27  -0.377358\n",
            "28  -1.671159\n",
            "29  -1.132075\n",
            "30  -1.617251\n",
            "31   0.539084\n"
          ]
        }
      ]
    },
    {
      "cell_type": "code",
      "source": [
        "## qsec_r_scaler 변수의 기초통계량 확인하기\n",
        "print(qsec_r_scaler.describe())"
      ],
      "metadata": {
        "colab": {
          "base_uri": "https://localhost:8080/"
        },
        "id": "8A7XLU0RgWaJ",
        "outputId": "4ca1bd8f-b8cb-413a-83cc-dc0ef14a12ea"
      },
      "execution_count": 53,
      "outputs": [
        {
          "output_type": "stream",
          "name": "stdout",
          "text": [
            "               0\n",
            "count  32.000000\n",
            "mean    0.213443\n",
            "std     3.079897\n",
            "min    -9.433962\n",
            "25%    -0.416442\n",
            "50%     0.000000\n",
            "75%     0.583558\n",
            "max    13.369272\n"
          ]
        }
      ]
    },
    {
      "cell_type": "markdown",
      "source": [
        "### 데이터 타입 변경하기"
      ],
      "metadata": {
        "id": "06ahBuazgsBh"
      }
    },
    {
      "cell_type": "code",
      "source": [
        "## X 변수의 요약정보를 확인하기\n",
        "print(X.info())"
      ],
      "metadata": {
        "colab": {
          "base_uri": "https://localhost:8080/"
        },
        "id": "qaRtZT1vgfMW",
        "outputId": "c2f95108-4172-43eb-e036-5613def4d2db"
      },
      "execution_count": 54,
      "outputs": [
        {
          "output_type": "stream",
          "name": "stdout",
          "text": [
            "<class 'pandas.core.frame.DataFrame'>\n",
            "RangeIndex: 32 entries, 0 to 31\n",
            "Data columns (total 10 columns):\n",
            " #   Column  Non-Null Count  Dtype  \n",
            "---  ------  --------------  -----  \n",
            " 0   cyl     32 non-null     float64\n",
            " 1   disp    32 non-null     float64\n",
            " 2   hp      32 non-null     float64\n",
            " 3   drat    32 non-null     float64\n",
            " 4   wt      32 non-null     float64\n",
            " 5   qsec    32 non-null     float64\n",
            " 6   vs      32 non-null     int64  \n",
            " 7   am      32 non-null     object \n",
            " 8   gear    32 non-null     object \n",
            " 9   carb    32 non-null     float64\n",
            "dtypes: float64(7), int64(1), object(2)\n",
            "memory usage: 2.6+ KB\n",
            "None\n"
          ]
        }
      ]
    },
    {
      "cell_type": "code",
      "source": [
        "## gear 열의 데이터 타입을 int64로 변경한 후, 다시 gear 열에 저장하기\n",
        "X['gear'] = X['gear'].astype('int64')\n",
        "\n",
        "## gear 열의 데이터 타입(dtype) 확인하기\n",
        "X['gear'].dtype"
      ],
      "metadata": {
        "colab": {
          "base_uri": "https://localhost:8080/"
        },
        "id": "8BEnv33lg1Sg",
        "outputId": "3907469a-9964-4983-f43d-f0a92de09eed"
      },
      "execution_count": 55,
      "outputs": [
        {
          "output_type": "execute_result",
          "data": {
            "text/plain": [
              "dtype('int64')"
            ]
          },
          "metadata": {},
          "execution_count": 55
        }
      ]
    },
    {
      "cell_type": "markdown",
      "source": [
        "### 범주형을 수치형으로 변경하기 : 인코딩(Encoding)"
      ],
      "metadata": {
        "id": "js7ImGpiiqqW"
      }
    },
    {
      "cell_type": "markdown",
      "source": [
        "#### 원핫 인코딩 : One-Hot Encoding"
      ],
      "metadata": {
        "id": "tEXvJWNhjd_p"
      }
    },
    {
      "cell_type": "code",
      "source": [
        "## X 변수의 상위 5개 행 확인하기\n",
        "print(X.head())\n",
        "\n",
        "## am 열에서 중복 제거한 값들을 확인하기\n",
        "print(X['am'].unique())"
      ],
      "metadata": {
        "colab": {
          "base_uri": "https://localhost:8080/"
        },
        "id": "fbi6PyLIikDy",
        "outputId": "cc8f5ffa-b94c-469f-a6db-a369d83e4625"
      },
      "execution_count": 56,
      "outputs": [
        {
          "output_type": "stream",
          "name": "stdout",
          "text": [
            "   cyl   disp     hp  drat     wt   qsec  vs      am  gear  carb\n",
            "0  6.0  160.0  110.0  3.90  2.620  16.46   0  manual     4   4.0\n",
            "1  6.0  160.0  110.0  3.90  2.875  17.02   0  manual     4   4.0\n",
            "2  4.0  108.0   93.0  3.85  2.320  18.61   1  manual     4   1.0\n",
            "3  6.0  258.0  110.0  3.08  3.215   0.10   1    auto     3   1.0\n",
            "4  8.0  360.0  175.0  3.15  3.440  17.02   0    auto     3   2.0\n",
            "['manual' 'auto']\n"
          ]
        }
      ]
    },
    {
      "cell_type": "code",
      "source": [
        "## X 변수의 am 열에 대해서 원핫 인코딩 수행하기\n",
        "print(pd.get_dummies(X['am']))"
      ],
      "metadata": {
        "colab": {
          "base_uri": "https://localhost:8080/"
        },
        "id": "50I8kDhPj3Qz",
        "outputId": "2a61d146-d46d-492e-a38e-d4c4bb9f49cb"
      },
      "execution_count": 57,
      "outputs": [
        {
          "output_type": "stream",
          "name": "stdout",
          "text": [
            "    auto  manual\n",
            "0      0       1\n",
            "1      0       1\n",
            "2      0       1\n",
            "3      1       0\n",
            "4      1       0\n",
            "5      1       0\n",
            "6      1       0\n",
            "7      1       0\n",
            "8      1       0\n",
            "9      1       0\n",
            "10     1       0\n",
            "11     1       0\n",
            "12     1       0\n",
            "13     1       0\n",
            "14     1       0\n",
            "15     1       0\n",
            "16     1       0\n",
            "17     0       1\n",
            "18     0       1\n",
            "19     0       1\n",
            "20     1       0\n",
            "21     1       0\n",
            "22     1       0\n",
            "23     1       0\n",
            "24     1       0\n",
            "25     0       1\n",
            "26     0       1\n",
            "27     0       1\n",
            "28     0       1\n",
            "29     0       1\n",
            "30     0       1\n",
            "31     0       1\n"
          ]
        }
      ]
    },
    {
      "cell_type": "code",
      "source": [
        "## X 변수의 am 열에 원핫 인코딩 수행하기. 단, 생성된 첫 번째 열은 삭제하기\n",
        "print(pd.get_dummies(X['am'], drop_first = True))"
      ],
      "metadata": {
        "colab": {
          "base_uri": "https://localhost:8080/"
        },
        "id": "QZ45Qv1LkWZv",
        "outputId": "263ce713-9244-46a9-c984-0b9525e8cf34"
      },
      "execution_count": 58,
      "outputs": [
        {
          "output_type": "stream",
          "name": "stdout",
          "text": [
            "    manual\n",
            "0        1\n",
            "1        1\n",
            "2        1\n",
            "3        0\n",
            "4        0\n",
            "5        0\n",
            "6        0\n",
            "7        0\n",
            "8        0\n",
            "9        0\n",
            "10       0\n",
            "11       0\n",
            "12       0\n",
            "13       0\n",
            "14       0\n",
            "15       0\n",
            "16       0\n",
            "17       1\n",
            "18       1\n",
            "19       1\n",
            "20       0\n",
            "21       0\n",
            "22       0\n",
            "23       0\n",
            "24       0\n",
            "25       1\n",
            "26       1\n",
            "27       1\n",
            "28       1\n",
            "29       1\n",
            "30       1\n",
            "31       1\n"
          ]
        }
      ]
    },
    {
      "cell_type": "code",
      "source": [
        "## X 변수의 전체 열을 대상으로 원핫 인코딩 수행하기\n",
        "print(pd.get_dummies(X, drop_first = True))"
      ],
      "metadata": {
        "colab": {
          "base_uri": "https://localhost:8080/"
        },
        "id": "Dh8rY5SLkows",
        "outputId": "46653d0b-ac98-4952-a9b7-91c246c31a8b"
      },
      "execution_count": 59,
      "outputs": [
        {
          "output_type": "stream",
          "name": "stdout",
          "text": [
            "     cyl   disp      hp  drat     wt   qsec  vs  gear   carb  am_manual\n",
            "0    6.0  160.0  110.00  3.90  2.620  16.46   0     4  4.000          1\n",
            "1    6.0  160.0  110.00  3.90  2.875  17.02   0     4  4.000          1\n",
            "2    4.0  108.0   93.00  3.85  2.320  18.61   1     4  1.000          1\n",
            "3    6.0  258.0  110.00  3.08  3.215   0.10   1     3  1.000          0\n",
            "4    8.0  360.0  175.00  3.15  3.440  17.02   0     3  2.000          0\n",
            "5    6.0  225.0  105.00  2.76  3.460  20.22   1     3  1.000          0\n",
            "6    8.0  360.0  245.00  3.21  3.570  15.84   0     3  4.000          0\n",
            "7    7.6  146.7   62.00  3.69  3.190  20.00   1     4  2.000          0\n",
            "8    4.0  140.8   95.00  3.92  3.150  22.90   1     4  2.000          0\n",
            "9    6.0  167.6  123.00  3.92  3.440  18.30   1     4  4.000          0\n",
            "10   6.0  167.6  123.00  3.92  3.440  17.60   1     4  4.000          0\n",
            "11   8.0  275.8  180.00  3.07  4.070  17.40   0     3  3.000          0\n",
            "12   8.0  275.8  180.00  3.07  3.730  17.60   0     3  3.000          0\n",
            "13   8.0  275.8  180.00  3.07  3.780  18.00   0     3  3.000          0\n",
            "14  14.0  472.0  205.00  2.93  5.250  17.98   0     3  4.000          0\n",
            "15   8.0  460.0  215.00  3.00  5.424  17.82   0     3  4.000          0\n",
            "16   8.0  440.0  230.00  3.23  5.345  17.42   0     3  4.000          0\n",
            "17   4.0   78.7   66.00  4.08  2.200  19.47   1     4  1.000          1\n",
            "18   4.0   75.7   52.00  4.93  1.615  18.52   1     4  2.000          1\n",
            "19   4.0   71.1   65.00  4.22  1.835  19.90   1     4  1.000          1\n",
            "20   4.0  120.1   97.00  3.70  2.465  20.01   1     3  1.000          0\n",
            "21   8.0  318.0  150.00  2.76  3.520  16.87   0     3  2.000          0\n",
            "22   8.0  304.0  150.00  3.15  3.435  17.30   0     3  2.000          0\n",
            "23   8.0  350.0  245.00  3.73  3.840  15.41   0     3  4.000          0\n",
            "24   7.6  400.0  175.00  3.08  3.845  42.40   0     3  2.000          0\n",
            "25   4.0   79.0   66.00  4.08  1.935  18.90   1     4  1.000          1\n",
            "26   4.0  120.3   91.00  4.43  2.140  16.70   0     5  2.000          1\n",
            "27   4.0   95.1  113.00  3.77  1.513  16.90   1     5  2.000          1\n",
            "28   8.0  351.0  264.00  4.22  3.170  14.50   0     5  4.000          1\n",
            "29   6.0  145.0  175.00  3.62  2.770  15.50   0     5  5.235          1\n",
            "30   8.0  301.0  305.25  3.54  3.570  14.60   0     5  5.235          1\n",
            "31   4.0  121.0  109.00  4.11  2.780  18.60   1     4  2.000          1\n"
          ]
        }
      ]
    },
    {
      "cell_type": "code",
      "source": [
        "## sklearn에서 제공하는 OneHotEncoder() 함수는 범주형 변수 외에 연속형 변수까지 모두 인코딩 수행"
      ],
      "metadata": {
        "id": "ZDA6ipXPlELp"
      },
      "execution_count": 60,
      "outputs": []
    },
    {
      "cell_type": "markdown",
      "source": [
        "#### 라벨 인코딩 : Label Encoding\n",
        "    범주형 변수를 일련번호를 부여하는 방식의 연속형 변수로 변환\n",
        "    트리 계열의 데이터 분석에만 제약적으로 사용"
      ],
      "metadata": {
        "id": "cpQK2qZJmBYP"
      }
    },
    {
      "cell_type": "code",
      "source": [
        "## am 열의 상위 5개 행을 확인하기\n",
        "print(X['am'].head())"
      ],
      "metadata": {
        "colab": {
          "base_uri": "https://localhost:8080/"
        },
        "id": "d4OX6MHrl-kM",
        "outputId": "143ddfac-6b65-4564-ea76-cdbfc5ba125e"
      },
      "execution_count": 61,
      "outputs": [
        {
          "output_type": "stream",
          "name": "stdout",
          "text": [
            "0    manual\n",
            "1    manual\n",
            "2    manual\n",
            "3      auto\n",
            "4      auto\n",
            "Name: am, dtype: object\n"
          ]
        }
      ]
    },
    {
      "cell_type": "code",
      "source": [
        "## sklearn 라이브러리에서 LabelEncoder 함수를 가져오기\n",
        "from sklearn.preprocessing import LabelEncoder\n",
        "\n",
        "## LabelEncoder 호출을 통해, 인코딩 기능을 갖는 encoder 변수를 만들기\n",
        "encoder = LabelEncoder()"
      ],
      "metadata": {
        "id": "jdaZeLB5nCHx"
      },
      "execution_count": 62,
      "outputs": []
    },
    {
      "cell_type": "code",
      "source": [
        "## encoder를 통해 am 열에 값에 대해 라벨 인코딩 수행하기\n",
        "print(encoder.fit_transform(X['am'])) ## 인코더에 'am'값을 넣어서 변환하기"
      ],
      "metadata": {
        "colab": {
          "base_uri": "https://localhost:8080/"
        },
        "id": "xL4M7ONanflX",
        "outputId": "a8b2d089-6a1a-48d3-cda4-d86f7aac8bac"
      },
      "execution_count": 63,
      "outputs": [
        {
          "output_type": "stream",
          "name": "stdout",
          "text": [
            "[1 1 1 0 0 0 0 0 0 0 0 0 0 0 0 0 0 1 1 1 0 0 0 0 0 1 1 1 1 1 1 1]\n"
          ]
        }
      ]
    },
    {
      "cell_type": "code",
      "source": [
        "## 3가지 과일이 들어 있는 fruit 변수 만들기\n",
        "fruit = ['apple', 'banana', 'grape']\n",
        "\n",
        "## LabelEncoder 호출을 통해 라벨 인코딩 기능을 갖는 encoder 변수 만들기\n",
        "encoder = LabelEncoder()\n",
        "\n",
        "## encoder를 통해 fruit 변수에 대한 라벨 인코딩 수행 후, 결과는 fruit_new에 저장하기\n",
        "fruit_new = encoder.fit_transform(fruit)\n",
        "\n",
        "## 기존의 fruit 변수와 라벨 인코딩한 fruit_new 변수를 비교해보기\n",
        "print(fruit, fruit_new)"
      ],
      "metadata": {
        "id": "Ye--vUtCnqly",
        "colab": {
          "base_uri": "https://localhost:8080/"
        },
        "outputId": "86e68de6-1c5e-42e1-c44b-9f2115273ee4"
      },
      "execution_count": 64,
      "outputs": [
        {
          "output_type": "stream",
          "name": "stdout",
          "text": [
            "['apple', 'banana', 'grape'] [0 1 2]\n"
          ]
        }
      ]
    },
    {
      "cell_type": "markdown",
      "source": [
        "#### 수동 인코딩 : Replace"
      ],
      "metadata": {
        "id": "f9wfJodW1RWw"
      }
    },
    {
      "cell_type": "code",
      "source": [
        "## am 열에서 manual은 0으로, auto는 1로 변경한 후, 새로운 am_new 열에 저장하기\n",
        "X['am_new'] = X['am'].replace('manual',0).replace('auto',1)\n",
        "\n",
        "## X 변수의 am_new 열을 확인하기\n",
        "print(X.head())"
      ],
      "metadata": {
        "colab": {
          "base_uri": "https://localhost:8080/"
        },
        "id": "EJNWgzKY1KAv",
        "outputId": "5489e921-750d-44ee-b72d-8c2df71ad4dd"
      },
      "execution_count": 65,
      "outputs": [
        {
          "output_type": "stream",
          "name": "stdout",
          "text": [
            "   cyl   disp     hp  drat     wt   qsec  vs      am  gear  carb  am_new\n",
            "0  6.0  160.0  110.0  3.90  2.620  16.46   0  manual     4   4.0       0\n",
            "1  6.0  160.0  110.0  3.90  2.875  17.02   0  manual     4   4.0       0\n",
            "2  4.0  108.0   93.0  3.85  2.320  18.61   1  manual     4   1.0       0\n",
            "3  6.0  258.0  110.0  3.08  3.215   0.10   1    auto     3   1.0       1\n",
            "4  8.0  360.0  175.0  3.15  3.440  17.02   0    auto     3   2.0       1\n"
          ]
        }
      ]
    },
    {
      "cell_type": "code",
      "source": [
        "## X 변수에서 am 열을 삭제한 후, X 변수에 다시 저장하기\n",
        "X = X.drop(columns = ['am'])\n",
        "\n",
        "## X 변수의 상위 5개 행을 확인하기\n",
        "print(X.head())"
      ],
      "metadata": {
        "colab": {
          "base_uri": "https://localhost:8080/"
        },
        "id": "6VjUBajX1mZu",
        "outputId": "7e49c95d-1b6c-4e7e-bb0c-bbc02faa4adc"
      },
      "execution_count": 66,
      "outputs": [
        {
          "output_type": "stream",
          "name": "stdout",
          "text": [
            "   cyl   disp     hp  drat     wt   qsec  vs  gear  carb  am_new\n",
            "0  6.0  160.0  110.0  3.90  2.620  16.46   0     4   4.0       0\n",
            "1  6.0  160.0  110.0  3.90  2.875  17.02   0     4   4.0       0\n",
            "2  4.0  108.0   93.0  3.85  2.320  18.61   1     4   1.0       0\n",
            "3  6.0  258.0  110.0  3.08  3.215   0.10   1     3   1.0       1\n",
            "4  8.0  360.0  175.0  3.15  3.440  17.02   0     3   2.0       1\n"
          ]
        }
      ]
    },
    {
      "cell_type": "markdown",
      "source": [
        "### 파생변수 만들기"
      ],
      "metadata": {
        "id": "BFh9OJzL17Fp"
      }
    },
    {
      "cell_type": "code",
      "source": [
        "## wt 열이 3.3보다 작은지 여부를 확인하기\n",
        "print(X['wt'] < 3.3)"
      ],
      "metadata": {
        "colab": {
          "base_uri": "https://localhost:8080/"
        },
        "id": "xgruVlVQ1wiI",
        "outputId": "b6bf9d08-3c24-4812-9f14-14e32a2de066"
      },
      "execution_count": 67,
      "outputs": [
        {
          "output_type": "stream",
          "name": "stdout",
          "text": [
            "0      True\n",
            "1      True\n",
            "2      True\n",
            "3      True\n",
            "4     False\n",
            "5     False\n",
            "6     False\n",
            "7      True\n",
            "8      True\n",
            "9     False\n",
            "10    False\n",
            "11    False\n",
            "12    False\n",
            "13    False\n",
            "14    False\n",
            "15    False\n",
            "16    False\n",
            "17     True\n",
            "18     True\n",
            "19     True\n",
            "20     True\n",
            "21    False\n",
            "22    False\n",
            "23    False\n",
            "24    False\n",
            "25     True\n",
            "26     True\n",
            "27     True\n",
            "28     True\n",
            "29     True\n",
            "30    False\n",
            "31     True\n",
            "Name: wt, dtype: bool\n"
          ]
        }
      ]
    },
    {
      "cell_type": "code",
      "source": [
        "## wt 열이 3.3보다 작은지 여부의 결과는 condition 변수에 저장하기\n",
        "condition = X['wt'] < 3.3\n",
        "\n",
        "## X 변수가 condition 조건을 만족하면, wt_class 열에 0으로 저장하기\n",
        "X.loc[condition, 'wt_class'] = 0\n",
        "\n",
        "## X 변수가 condition 조건을 만족하지 않으면 wt_class 열에 1로 저장하기\n",
        "X.loc[~condition, 'wt_class'] = 1 ## ~는 아니다라는 의미로 쓰임"
      ],
      "metadata": {
        "id": "jPCdOHSJ2Kyr"
      },
      "execution_count": 68,
      "outputs": []
    },
    {
      "cell_type": "code",
      "source": [
        "## wt 열과 wt_class 열 값을 확인하기\n",
        "print(X[['wt', 'wt_class']])"
      ],
      "metadata": {
        "colab": {
          "base_uri": "https://localhost:8080/"
        },
        "id": "6tPyTNY84XT-",
        "outputId": "0449c081-123f-4dfe-b631-884eefaacd7e"
      },
      "execution_count": 69,
      "outputs": [
        {
          "output_type": "stream",
          "name": "stdout",
          "text": [
            "       wt  wt_class\n",
            "0   2.620       0.0\n",
            "1   2.875       0.0\n",
            "2   2.320       0.0\n",
            "3   3.215       0.0\n",
            "4   3.440       1.0\n",
            "5   3.460       1.0\n",
            "6   3.570       1.0\n",
            "7   3.190       0.0\n",
            "8   3.150       0.0\n",
            "9   3.440       1.0\n",
            "10  3.440       1.0\n",
            "11  4.070       1.0\n",
            "12  3.730       1.0\n",
            "13  3.780       1.0\n",
            "14  5.250       1.0\n",
            "15  5.424       1.0\n",
            "16  5.345       1.0\n",
            "17  2.200       0.0\n",
            "18  1.615       0.0\n",
            "19  1.835       0.0\n",
            "20  2.465       0.0\n",
            "21  3.520       1.0\n",
            "22  3.435       1.0\n",
            "23  3.840       1.0\n",
            "24  3.845       1.0\n",
            "25  1.935       0.0\n",
            "26  2.140       0.0\n",
            "27  1.513       0.0\n",
            "28  3.170       0.0\n",
            "29  2.770       0.0\n",
            "30  3.570       1.0\n",
            "31  2.780       0.0\n"
          ]
        }
      ]
    },
    {
      "cell_type": "code",
      "source": [
        "## X 변수에서 wt열을 삭제한 후, 삭제 결과를 X 변수에 다시 저장하기\n",
        "X = X.drop(columns = ['wt'])\n",
        "\n",
        "## X 변수의 상위 5개 행을 확인하기\n",
        "print(X.head())"
      ],
      "metadata": {
        "colab": {
          "base_uri": "https://localhost:8080/"
        },
        "id": "FHe7GaNp4gVO",
        "outputId": "5b8c1ae7-ddf9-4596-d47f-6ccb0ff96e2e"
      },
      "execution_count": 70,
      "outputs": [
        {
          "output_type": "stream",
          "name": "stdout",
          "text": [
            "   cyl   disp     hp  drat   qsec  vs  gear  carb  am_new  wt_class\n",
            "0  6.0  160.0  110.0  3.90  16.46   0     4   4.0       0       0.0\n",
            "1  6.0  160.0  110.0  3.90  17.02   0     4   4.0       0       0.0\n",
            "2  4.0  108.0   93.0  3.85  18.61   1     4   1.0       0       0.0\n",
            "3  6.0  258.0  110.0  3.08   0.10   1     3   1.0       1       0.0\n",
            "4  8.0  360.0  175.0  3.15  17.02   0     3   2.0       1       1.0\n"
          ]
        }
      ]
    },
    {
      "cell_type": "code",
      "source": [
        "## qsec 열에 4를 곱한 결과를 qsec_4 열에 저장하기\n",
        "X['qsec_4'] = X['qsec'] * 4\n",
        "\n",
        "## qsec 열에 qsec_4 열 값을 확인하기\n",
        "print(X[['qsec', 'qsec_4']])"
      ],
      "metadata": {
        "colab": {
          "base_uri": "https://localhost:8080/"
        },
        "id": "RF9N626S4uk7",
        "outputId": "9468104f-b557-40b7-9854-1fde21fd5e62"
      },
      "execution_count": 71,
      "outputs": [
        {
          "output_type": "stream",
          "name": "stdout",
          "text": [
            "     qsec  qsec_4\n",
            "0   16.46   65.84\n",
            "1   17.02   68.08\n",
            "2   18.61   74.44\n",
            "3    0.10    0.40\n",
            "4   17.02   68.08\n",
            "5   20.22   80.88\n",
            "6   15.84   63.36\n",
            "7   20.00   80.00\n",
            "8   22.90   91.60\n",
            "9   18.30   73.20\n",
            "10  17.60   70.40\n",
            "11  17.40   69.60\n",
            "12  17.60   70.40\n",
            "13  18.00   72.00\n",
            "14  17.98   71.92\n",
            "15  17.82   71.28\n",
            "16  17.42   69.68\n",
            "17  19.47   77.88\n",
            "18  18.52   74.08\n",
            "19  19.90   79.60\n",
            "20  20.01   80.04\n",
            "21  16.87   67.48\n",
            "22  17.30   69.20\n",
            "23  15.41   61.64\n",
            "24  42.40  169.60\n",
            "25  18.90   75.60\n",
            "26  16.70   66.80\n",
            "27  16.90   67.60\n",
            "28  14.50   58.00\n",
            "29  15.50   62.00\n",
            "30  14.60   58.40\n",
            "31  18.60   74.40\n"
          ]
        }
      ]
    },
    {
      "cell_type": "code",
      "source": [
        "## X 변수에서 qsec 열을 삭제한 후, X 변수에 다시 저장하기\n",
        "X = X.drop(columns = ['qsec'])\n",
        "\n",
        "## X 변수의 상위 5개 행을 확인하기\n",
        "print(X.head())"
      ],
      "metadata": {
        "colab": {
          "base_uri": "https://localhost:8080/"
        },
        "id": "Lh0tQCUl5Tg-",
        "outputId": "8a0cd475-8bf0-436f-c58b-925fa02d45a6"
      },
      "execution_count": 72,
      "outputs": [
        {
          "output_type": "stream",
          "name": "stdout",
          "text": [
            "   cyl   disp     hp  drat  vs  gear  carb  am_new  wt_class  qsec_4\n",
            "0  6.0  160.0  110.0  3.90   0     4   4.0       0       0.0   65.84\n",
            "1  6.0  160.0  110.0  3.90   0     4   4.0       0       0.0   68.08\n",
            "2  4.0  108.0   93.0  3.85   1     4   1.0       0       0.0   74.44\n",
            "3  6.0  258.0  110.0  3.08   1     3   1.0       1       0.0    0.40\n",
            "4  8.0  360.0  175.0  3.15   0     3   2.0       1       1.0   68.08\n"
          ]
        }
      ]
    },
    {
      "cell_type": "markdown",
      "source": [
        "## 학습 데이터로 공부하기 : 모델 생성과 모델 검증"
      ],
      "metadata": {
        "id": "XLvl3Uvc5zZc"
      }
    },
    {
      "cell_type": "markdown",
      "source": [
        "### 학습 데이터와 테스트 데이터를 분리하기"
      ],
      "metadata": {
        "id": "FYJi8pTO6kcb"
      }
    },
    {
      "cell_type": "code",
      "source": [
        "## 데이터 분리를 위해 train_test_split 함수를 가져오기\n",
        "from sklearn.model_selection import train_test_split"
      ],
      "metadata": {
        "id": "SFfcKuh_5eBS"
      },
      "execution_count": 73,
      "outputs": []
    },
    {
      "cell_type": "code",
      "source": [
        "## X, Y 변수로 학습 데이터는 70%, 테스트 데이터는 30%로 분리하기\n",
        "x_train, x_test, y_train, y_test = train_test_split(X, Y, test_size=0.3, random_state=10)"
      ],
      "metadata": {
        "id": "2sPfDS-t6tmS"
      },
      "execution_count": 74,
      "outputs": []
    },
    {
      "cell_type": "code",
      "source": [
        "## 독립변수인 학습 데이터의 상위 5개 행 확인하기\n",
        "print(x_train.head())\n",
        "\n",
        "## 종속변수인 학습 데이터의 상위 5개 행 확인하기\n",
        "print(y_train.head())\n",
        "\n",
        "## 독립변수인 테스트 데이터의 상위 5개 행 확인하기\n",
        "print(x_test.head())\n",
        "\n",
        "## 종속변수인 테스트 데이터의 상위 5개 행 확인하기\n",
        "print(y_test.head())"
      ],
      "metadata": {
        "colab": {
          "base_uri": "https://localhost:8080/"
        },
        "id": "aqVWS4Sq8GQ1",
        "outputId": "cb58be19-bdef-455e-af79-3944ccfa0934"
      },
      "execution_count": 75,
      "outputs": [
        {
          "output_type": "stream",
          "name": "stdout",
          "text": [
            "     cyl   disp     hp  drat  vs  gear  carb  am_new  wt_class  qsec_4\n",
            "19   4.0   71.1   65.0  4.22   1     4   1.0       0       0.0   79.60\n",
            "14  14.0  472.0  205.0  2.93   0     3   4.0       1       1.0   71.92\n",
            "18   4.0   75.7   52.0  4.93   1     4   2.0       0       0.0   74.08\n",
            "6    8.0  360.0  245.0  3.21   0     3   4.0       1       1.0   63.36\n",
            "11   8.0  275.8  180.0  3.07   0     3   3.0       1       1.0   69.60\n",
            "19    33.9\n",
            "14    10.4\n",
            "18    30.4\n",
            "6     14.3\n",
            "11    16.4\n",
            "Name: mpg, dtype: float64\n",
            "    cyl   disp     hp  drat  vs  gear  carb  am_new  wt_class  qsec_4\n",
            "20  4.0  120.1   97.0  3.70   1     3   1.0       1       0.0   80.04\n",
            "7   7.6  146.7   62.0  3.69   1     4   2.0       1       0.0   80.00\n",
            "5   6.0  225.0  105.0  2.76   1     3   1.0       1       1.0   80.88\n",
            "2   4.0  108.0   93.0  3.85   1     4   1.0       0       0.0   74.44\n",
            "3   6.0  258.0  110.0  3.08   1     3   1.0       1       0.0    0.40\n",
            "20    21.5\n",
            "7     24.4\n",
            "5     18.1\n",
            "2     22.8\n",
            "3     21.4\n",
            "Name: mpg, dtype: float64\n"
          ]
        }
      ]
    },
    {
      "cell_type": "markdown",
      "source": [
        "### 공부하고 평가하기 : 모델링(modeling)"
      ],
      "metadata": {
        "id": "zkIoo0u68yhw"
      }
    },
    {
      "cell_type": "markdown",
      "source": [
        "#### 예측 모델링 수행"
      ],
      "metadata": {
        "id": "qewD0BEW-D9W"
      }
    },
    {
      "cell_type": "markdown",
      "source": [
        "##### 선형회귀 LinearRegression"
      ],
      "metadata": {
        "id": "nM2cE1uiBdwD"
      }
    },
    {
      "cell_type": "code",
      "source": [
        "## 선형회귀 분석 : linear_model 모듈에서 LinearRegression 모델을 가져오기\n",
        "from sklearn.linear_model import LinearRegression\n",
        "\n",
        "## 선형회귀 분석을 수행할 기본적인 모델(model) 만들기\n",
        "model = LinearRegression()\n",
        "\n",
        "## 생성한 모델에 x_train, y_train을 전달해서 선형회귀 방법으로 공부시키기\n",
        "model.fit(x_train, y_train)\n",
        "\n",
        "## 학습이 완료된 모델에 x_train을 전달하여 y_train 값을 예측하기\n",
        "y_train_predicted = model.predict(x_train)\n",
        "\n",
        "## 학습이 완료된 모델에 x_test를 전달하여 y_test 값을 예측하기\n",
        "y_test_predicted = model.predict(x_test)"
      ],
      "metadata": {
        "id": "RfkgLJBE8S3_"
      },
      "execution_count": 76,
      "outputs": []
    },
    {
      "cell_type": "code",
      "source": [
        "## 선형회귀 모델로 도출된 y 절편 값 구하기\n",
        "print(model.intercept_)\n",
        "\n",
        "## 선형회귀 모델에 포함된 독립변수들의 각 기울기 값 구하기\n",
        "print(model.coef_)"
      ],
      "metadata": {
        "colab": {
          "base_uri": "https://localhost:8080/"
        },
        "id": "v7PA5lzr-xVh",
        "outputId": "6a86ebdd-bb2a-4be2-c441-5de11d8a35b5"
      },
      "execution_count": 77,
      "outputs": [
        {
          "output_type": "stream",
          "name": "stdout",
          "text": [
            "24.270191263129234\n",
            "[-0.13806238 -0.01231223 -0.00409044  0.96664672  1.12302609  0.65737596\n",
            " -1.97459758 -3.57945608  0.01930121  0.0238938 ]\n"
          ]
        }
      ]
    },
    {
      "cell_type": "code",
      "source": [
        "## 선형회귀 분석 model에서 학습 데이터에 대한 결정계수 구하기\n",
        "print(model.score(x_train, y_train))\n",
        "\n",
        "## 선형회귀 분석 model에서 테스트 데이터에 대한 결정계수 구하기\n",
        "print(model.score(x_test, y_test)) ## 테스트 데이터의 결정계수 값 매우 작음 -> 과적합(overfitting) 문제일 가능성이 큼"
      ],
      "metadata": {
        "colab": {
          "base_uri": "https://localhost:8080/"
        },
        "id": "RgmSIifv-8x5",
        "outputId": "9e8206e6-933a-4d9c-fc84-01a4380c1025"
      },
      "execution_count": 78,
      "outputs": [
        {
          "output_type": "stream",
          "name": "stdout",
          "text": [
            "0.9063061004601505\n",
            "0.10181914072571252\n"
          ]
        }
      ]
    },
    {
      "cell_type": "code",
      "source": [
        "## 결정계수를 계산하는 r2_score 함수 가져오기\n",
        "from sklearn.metrics import r2_score\n",
        "\n",
        "## MAE를 계산하는 mean_absolute_error 함수 가져오기\n",
        "from sklearn.metrics import mean_absolute_error\n",
        "\n",
        "## MSE를 계산하는 mean_squared_error 함수 가져오기\n",
        "from sklearn.metrics import mean_squared_error\n",
        "\n",
        "## 제곱근 계산을 위하여 numpy 라이브러리 가져오기\n",
        "import numpy as np"
      ],
      "metadata": {
        "id": "7pqLV2Dx_VTu"
      },
      "execution_count": 79,
      "outputs": []
    },
    {
      "cell_type": "code",
      "source": [
        "## 학습 데이터의 결정계수 구하기\n",
        "print(r2_score(y_train, y_train_predicted))\n",
        "\n",
        "## 테스트 데이터의 결정계수 구하기\n",
        "print(r2_score(y_test, y_test_predicted))\n",
        "\n",
        "## 테스트 데이터의 MSE 지표 구하기\n",
        "print(mean_squared_error(y_test, y_test_predicted))\n",
        "\n",
        "## 테스트 데이터의 RMSE 지표 구하기\n",
        "print(np.sqrt(mean_squared_error(y_test, y_test_predicted)))\n",
        "\n",
        "## 테스트 데이터의 MAE 지표 구하기\n",
        "print(mean_absolute_error(y_test, y_test_predicted))"
      ],
      "metadata": {
        "colab": {
          "base_uri": "https://localhost:8080/"
        },
        "id": "XPZTICVtADaE",
        "outputId": "c16673a1-987c-436e-9355-5062e50f4d3d"
      },
      "execution_count": 80,
      "outputs": [
        {
          "output_type": "stream",
          "name": "stdout",
          "text": [
            "0.9063061004601505\n",
            "0.10181914072571252\n",
            "8.92252865603077\n",
            "2.987060202947167\n",
            "2.3740479285575815\n"
          ]
        }
      ]
    },
    {
      "cell_type": "markdown",
      "source": [
        "##### 랜덤 포레스트 회귀 RandomForestRegressor"
      ],
      "metadata": {
        "id": "jZIrdTrcBiql"
      }
    },
    {
      "cell_type": "code",
      "source": [
        "## 랜덤 포레스트 회귀 분석 : ensemble 모듈에서 RandomForestRegressor 모델을 가져오기\n",
        "from sklearn.ensemble import RandomForestRegressor\n",
        "\n",
        "## 랜덤 포레스트 회귀 분석을 수행할 모델(model) 만들기\n",
        "model = RandomForestRegressor(random_state=10)\n",
        "\n",
        "## 생성한 모델에 x_train, y_train을 전달해서 랜덤포레스트 회귀 분석을 수행하기\n",
        "model.fit(x_train, y_train)\n",
        "\n",
        "## 학습이 완료된 모델에 x_train을 전달하여 y_train 값을 예측하기\n",
        "y_train_predicted = model.predict(x_train)\n",
        "\n",
        "## 학습이 완료된 모델에 x_test를 전달하여 y_test 값을 예측하기\n",
        "y_test_predicted = model.predict(x_test)"
      ],
      "metadata": {
        "id": "ZW7TrITNA314"
      },
      "execution_count": 81,
      "outputs": []
    },
    {
      "cell_type": "code",
      "source": [
        "## 결정계수와 MSE, MAE를 구하는 함수를 일괄로 가져오기\n",
        "from sklearn.metrics import r2_score, mean_squared_error, mean_absolute_error\n",
        "\n",
        "## 학습 데이터의 결정계수 구하기\n",
        "print(r2_score(y_train, y_train_predicted))\n",
        "\n",
        "## 테스트 데이터의 결정계수 구하기\n",
        "print(r2_score(y_test, y_test_predicted))\n",
        "\n",
        "## 테스트 데이터의 MSE 지표 구하기\n",
        "print(mean_squared_error(y_test, y_test_predicted))\n",
        "\n",
        "## 테스트 데이터의 MAE 지표 구하기\n",
        "print(mean_absolute_error(y_test, y_test_predicted))"
      ],
      "metadata": {
        "colab": {
          "base_uri": "https://localhost:8080/"
        },
        "id": "xNRV1Ab_CLWF",
        "outputId": "42682b59-7421-4d51-d560-fea634797ce1"
      },
      "execution_count": 82,
      "outputs": [
        {
          "output_type": "stream",
          "name": "stdout",
          "text": [
            "0.9799238759255713\n",
            "0.379084225890872\n",
            "6.168177300000077\n",
            "1.809100000000011\n"
          ]
        }
      ]
    },
    {
      "cell_type": "code",
      "source": [
        "## 트리 생성은 1000개로, 트리의 분할 기준은 MAE 지표로 분석할 모델 만들기\n",
        "model = RandomForestRegressor(n_estimators=1000, criterion='mae', random_state=10)\n",
        "\n",
        "## 기본적인 정보가 담긴 모델에 학습 데이터를 전달하여 공부시키기\n",
        "model.fit(x_train, y_train)\n",
        "\n",
        "## 학습이 완료된 모델에 x_train을 전달하여 y_train 값을 예측하기\n",
        "y_train_predicted = model.predict(x_train)\n",
        "\n",
        "## 학습이 완료된 모델에 x_test을 전달하여 y_test 값을 예측하기\n",
        "y_test_predicted = model.predict(x_test)"
      ],
      "metadata": {
        "colab": {
          "base_uri": "https://localhost:8080/"
        },
        "id": "vc7kSXNBC8rz",
        "outputId": "516a472d-74c1-410b-c1f5-2f9bf60bbece"
      },
      "execution_count": 83,
      "outputs": [
        {
          "output_type": "stream",
          "name": "stderr",
          "text": [
            "/usr/local/lib/python3.7/dist-packages/sklearn/ensemble/_forest.py:407: FutureWarning: Criterion 'mae' was deprecated in v1.0 and will be removed in version 1.2. Use `criterion='absolute_error'` which is equivalent.\n",
            "  FutureWarning,\n"
          ]
        }
      ]
    },
    {
      "cell_type": "code",
      "source": [
        "## 학습 데이터의 결정계수 구하기\n",
        "print(r2_score(y_train, y_train_predicted))\n",
        "\n",
        "## 테스트 데이터의 결정계수 구하기\n",
        "print(r2_score(y_test, y_test_predicted))\n",
        "\n",
        "## 테스트 데이터의 MSE 지표 구하기\n",
        "print(mean_squared_error(y_test, y_test_predicted))\n",
        "\n",
        "## 테스트 데이터의 MAE 지표 구하기\n",
        "print(mean_absolute_error(y_test, y_test_predicted))"
      ],
      "metadata": {
        "colab": {
          "base_uri": "https://localhost:8080/"
        },
        "id": "kS2txfEUDmc9",
        "outputId": "48e75431-fa0f-4f98-f028-b68ead32781a"
      },
      "execution_count": 84,
      "outputs": [
        {
          "output_type": "stream",
          "name": "stdout",
          "text": [
            "0.9805355759422818\n",
            "0.44313226215521484\n",
            "5.531924107750095\n",
            "1.7446750000000346\n"
          ]
        }
      ]
    },
    {
      "cell_type": "markdown",
      "source": [
        "##### 그레디언트 부스팅 회귀 GradientBoostingRegressor\n",
        "    - 여러 개의 결정나무를 묶어서 강력한 모델을 만드는 앙상블 기법\n",
        "    - 이전 결정나무에서 발생한 오차를 보완하여 새로운 트리를 만듦, 보다 높은 정확도 기대"
      ],
      "metadata": {
        "id": "YLOFB9bGFN2w"
      }
    },
    {
      "cell_type": "code",
      "source": [
        "## 그레디언트 부스팅 회귀 함수를 가져오기\n",
        "from sklearn.ensemble import GradientBoostingRegressor\n",
        "\n",
        "## 하이퍼 파라미터의 기본값으로 모델 만들기\n",
        "model = GradientBoostingRegressor(random_state=10)\n",
        "\n",
        "## 학습 데이터로 모델을 공부시키고, 종속변수를 예측하기\n",
        "model.fit(x_train, y_train)\n",
        "y_train_predicted = model.predict(x_train)\n",
        "y_test_predicted = model.predict(x_test)"
      ],
      "metadata": {
        "id": "snej-ViuE4Kc"
      },
      "execution_count": 85,
      "outputs": []
    },
    {
      "cell_type": "code",
      "source": [
        "## 결정계수와 MSE, MAE를 구하는 함수를 일괄로 가져오기\n",
        "from sklearn.metrics import r2_score, mean_squared_error, mean_absolute_error\n",
        "\n",
        "## 결정계수와 MSE, MAE를 계산하기\n",
        "print(r2_score(y_train, y_train_predicted))\n",
        "\n",
        "print(r2_score(y_test, y_test_predicted))\n",
        "\n",
        "print(mean_squared_error(y_test, y_test_predicted))\n",
        "\n",
        "print(mean_absolute_error(y_test, y_test_predicted))"
      ],
      "metadata": {
        "colab": {
          "base_uri": "https://localhost:8080/"
        },
        "id": "iH7rI4vFGAr8",
        "outputId": "9cadaad3-df4f-4c51-e8ea-cdde0754f9ca"
      },
      "execution_count": 86,
      "outputs": [
        {
          "output_type": "stream",
          "name": "stdout",
          "text": [
            "0.9999908554215274\n",
            "0.1559551191323465\n",
            "8.384741846539269\n",
            "2.1754887773282503\n"
          ]
        }
      ]
    },
    {
      "cell_type": "markdown",
      "source": [
        "##### 익스트림 그레디언트 부스팅 회귀 XGBRegressor(eXtreme Gradient Boosting Regressor)\n",
        "    - 다수의 약한 분류기를 묶어서 정확도 향상\n",
        "    - 병렬처리 기능 지원, 빠른 속도로 결과 도출"
      ],
      "metadata": {
        "id": "9uKpCty_G-NK"
      }
    },
    {
      "cell_type": "code",
      "source": [
        "## xgboost 라이브러리에서 XGBRegressor 함수 가져오기\n",
        "from xgboost import XGBRegressor\n",
        "\n",
        "## XGBRegressor 함수 호출로 학습시킬 모델 만들기\n",
        "model = XGBRegressor(random_state=10)\n",
        "\n",
        "## 학습 데이터로 모델을 공부시키고, 종속변수를 예측하기\n",
        "model.fit(x_train, y_train)\n",
        "y_train_predicted = model.predict(x_train)\n",
        "y_test_predicted = model.predict(x_test)"
      ],
      "metadata": {
        "colab": {
          "base_uri": "https://localhost:8080/"
        },
        "id": "-1VMr2jHGfCH",
        "outputId": "855260c1-50f9-4375-dd3d-4b5dbc2846cc"
      },
      "execution_count": 87,
      "outputs": [
        {
          "output_type": "stream",
          "name": "stdout",
          "text": [
            "[04:42:21] WARNING: /workspace/src/objective/regression_obj.cu:152: reg:linear is now deprecated in favor of reg:squarederror.\n"
          ]
        }
      ]
    },
    {
      "cell_type": "code",
      "source": [
        "## 결정계수와 MSE, MAE를 구하는 함수를 일괄로 가져오기\n",
        "from sklearn.metrics import r2_score, mean_squared_error, mean_absolute_error\n",
        "\n",
        "## 결정계수와 MSE, MAE를 계산하기\n",
        "print(r2_score(y_train, y_train_predicted))\n",
        "\n",
        "print(r2_score(y_test, y_test_predicted))\n",
        "\n",
        "print(mean_squared_error(y_test, y_test_predicted))\n",
        "\n",
        "print(mean_absolute_error(y_test, y_test_predicted))"
      ],
      "metadata": {
        "colab": {
          "base_uri": "https://localhost:8080/"
        },
        "id": "ilDVujUrHxLd",
        "outputId": "f5a63a7c-1a96-4c77-e68b-2f09fa67e09c"
      },
      "execution_count": 88,
      "outputs": [
        {
          "output_type": "stream",
          "name": "stdout",
          "text": [
            "0.9994029070331579\n",
            "0.4476128447475184\n",
            "5.487414000278152\n",
            "2.0459949302673337\n"
          ]
        }
      ]
    },
    {
      "cell_type": "markdown",
      "source": [
        "#### 분류 모델링 수행"
      ],
      "metadata": {
        "id": "KiSznG-GJxrU"
      }
    },
    {
      "cell_type": "code",
      "source": [
        "## x_train 변수에서 종속변수인 am_new 열은 삭제한 후, 결과는 x_train2 변수에 저장하기\n",
        "x_train2 = x_train.drop(columns='am_new')\n",
        "\n",
        "## x_train 변수에서 am_new 열을 추출한 후, 종속변수인 y_train2 변수에 저장하기\n",
        "y_train2 = x_train['am_new']\n",
        "\n",
        "## x_test 변수에서 종속변수인 am_new 열은 삭제한 후, 결과는 x_test2 변수에 저장하기\n",
        "x_test2 = x_test.drop(columns='am_new')\n",
        "\n",
        "## x_test 변수에서 am_new 열을 추출한 후, 종속변수인 y_test2 변수에 저장하기\n",
        "y_test2 = x_test['am_new']"
      ],
      "metadata": {
        "id": "k5IzaBOaIT3j"
      },
      "execution_count": 89,
      "outputs": []
    },
    {
      "cell_type": "code",
      "source": [
        "## 독립변수인 학습 데이터, x_train2 세트의 상위 5개 행 확인하기\n",
        "print(x_train2.head())"
      ],
      "metadata": {
        "colab": {
          "base_uri": "https://localhost:8080/"
        },
        "id": "Q-KQNdNHKf2v",
        "outputId": "b2be5ed5-1e5f-49d0-fc36-b8a498b15ef9"
      },
      "execution_count": 90,
      "outputs": [
        {
          "output_type": "stream",
          "name": "stdout",
          "text": [
            "     cyl   disp     hp  drat  vs  gear  carb  wt_class  qsec_4\n",
            "19   4.0   71.1   65.0  4.22   1     4   1.0       0.0   79.60\n",
            "14  14.0  472.0  205.0  2.93   0     3   4.0       1.0   71.92\n",
            "18   4.0   75.7   52.0  4.93   1     4   2.0       0.0   74.08\n",
            "6    8.0  360.0  245.0  3.21   0     3   4.0       1.0   63.36\n",
            "11   8.0  275.8  180.0  3.07   0     3   3.0       1.0   69.60\n"
          ]
        }
      ]
    },
    {
      "cell_type": "code",
      "source": [
        "## 독립변수인 테스트 데이터, x_test2 세트의 상위 5개 행 확인하기\n",
        "print(x_test2.head())"
      ],
      "metadata": {
        "colab": {
          "base_uri": "https://localhost:8080/"
        },
        "id": "J-23MVM_Kr_W",
        "outputId": "98ac9c02-ee66-43b7-9ea7-b5823cb732b6"
      },
      "execution_count": 91,
      "outputs": [
        {
          "output_type": "stream",
          "name": "stdout",
          "text": [
            "    cyl   disp     hp  drat  vs  gear  carb  wt_class  qsec_4\n",
            "20  4.0  120.1   97.0  3.70   1     3   1.0       0.0   80.04\n",
            "7   7.6  146.7   62.0  3.69   1     4   2.0       0.0   80.00\n",
            "5   6.0  225.0  105.0  2.76   1     3   1.0       1.0   80.88\n",
            "2   4.0  108.0   93.0  3.85   1     4   1.0       0.0   74.44\n",
            "3   6.0  258.0  110.0  3.08   1     3   1.0       0.0    0.40\n"
          ]
        }
      ]
    },
    {
      "cell_type": "code",
      "source": [
        "## 종속변수인 학습 데이터, y_train2 세트의 상위 5개 행 확인하기\n",
        "print(y_train2.head())"
      ],
      "metadata": {
        "colab": {
          "base_uri": "https://localhost:8080/"
        },
        "id": "o-7npjTrKtLa",
        "outputId": "dd9dbd2c-15b4-4179-dc42-8b5cc0a54166"
      },
      "execution_count": 92,
      "outputs": [
        {
          "output_type": "stream",
          "name": "stdout",
          "text": [
            "19    0\n",
            "14    1\n",
            "18    0\n",
            "6     1\n",
            "11    1\n",
            "Name: am_new, dtype: int64\n"
          ]
        }
      ]
    },
    {
      "cell_type": "code",
      "source": [
        "## 종속변수인 테스트 데이터, y_test2 세트의 상위 5개 행 확인하기\n",
        "print(y_test2.head())"
      ],
      "metadata": {
        "colab": {
          "base_uri": "https://localhost:8080/"
        },
        "id": "wdlLNhliKygX",
        "outputId": "11d04bc0-bf56-4368-def9-b2880b61ef79"
      },
      "execution_count": 93,
      "outputs": [
        {
          "output_type": "stream",
          "name": "stdout",
          "text": [
            "20    1\n",
            "7     1\n",
            "5     1\n",
            "2     0\n",
            "3     1\n",
            "Name: am_new, dtype: int64\n"
          ]
        }
      ]
    },
    {
      "cell_type": "markdown",
      "source": [
        "##### 의사결정나무 분류 DecisionTreeClassifier\n",
        "    - 과적합될 가능성이 큰 모델\n",
        "    - 데이터 스케일에 영향을 덜 받음\n",
        "    - 예측(회귀)과 분류 모델에 모두 사용 가능"
      ],
      "metadata": {
        "id": "lBLmv9SJLkE1"
      }
    },
    {
      "cell_type": "code",
      "source": [
        "## tree 모듈에서 제공하는 DecisionTreeClassifier 함수를 가져오기\n",
        "from sklearn.tree import DecisionTreeClassifier\n",
        "\n",
        "## 의사결정나무 분류 분석을 수행할 모델(model) 만들기\n",
        "model = DecisionTreeClassifier()\n",
        "\n",
        "## 생성한 모델에 x_train, y_train을 전달하여 의사결정나무 분류 방식으로 공부시키기\n",
        "model.fit(x_train2, y_train2)\n",
        "\n",
        "## 학습이 완료된 모델에 x_test를 전달하여 그에 대응하는 y_test 값을 예측하기\n",
        "y_test2_predicted = model.predict(x_test2)"
      ],
      "metadata": {
        "id": "PhgLnk-gK33M"
      },
      "execution_count": 97,
      "outputs": []
    },
    {
      "cell_type": "code",
      "source": [
        "## ROC-AUC를 계산하기 위해 metrics 모듈의 함수를 가져오기\n",
        "from sklearn.metrics import roc_auc_score\n",
        "\n",
        "## 정확도, 정밀도, 재현율을 계산하기 위해 각 함수를 가져오기\n",
        "from sklearn.metrics import accuracy_score, precision_score, recall_score"
      ],
      "metadata": {
        "id": "GbLbJNvc1dEO"
      },
      "execution_count": 98,
      "outputs": []
    },
    {
      "cell_type": "code",
      "source": [
        "## 테스트 데이터의 ROC-AUC 구하기\n",
        "print(roc_auc_score(y_test2, y_test2_predicted))\n",
        "\n",
        "## 테스트 데이터의 정확도 구하기\n",
        "print(accuracy_score(y_test2, y_test2_predicted))\n",
        "\n",
        "## 테스트 데이터의 정밀도 구하기\n",
        "print(precision_score(y_test2, y_test2_predicted))\n",
        "\n",
        "## 테스트 데이터의 재현율 구하기\n",
        "print(recall_score(y_test2, y_test2_predicted))"
      ],
      "metadata": {
        "colab": {
          "base_uri": "https://localhost:8080/"
        },
        "id": "y0ivsDUp2KcC",
        "outputId": "e9b909c7-1173-48ac-e68c-cee2f0f7b721"
      },
      "execution_count": 99,
      "outputs": [
        {
          "output_type": "stream",
          "name": "stdout",
          "text": [
            "0.7857142857142857\n",
            "0.7\n",
            "1.0\n",
            "0.5714285714285714\n"
          ]
        }
      ]
    },
    {
      "cell_type": "markdown",
      "source": [
        "##### 랜덤 포레스트 분류 RandomForestClassifier\n",
        "    - 무작위의 다수 트리를 만들어 투표에 의해서 값을 결정하는 방식"
      ],
      "metadata": {
        "id": "YKQVg8tX2kHz"
      }
    },
    {
      "cell_type": "code",
      "source": [
        "## ensemble 모듈에서 제공하는 RandomForestClassifier 함수를 가져오기\n",
        "from sklearn.ensemble import RandomForestClassifier\n",
        "\n",
        "## 랜덤 포레스트 분류 분석을 수행할 모델(model) 만들기\n",
        "model = RandomForestClassifier()\n",
        "\n",
        "## 생성한 모델에 x_train2, y_train2를 전달해서 랜덤 포레스트 분류 분석으로 공부시키기\n",
        "model.fit(x_train2, y_train2)\n",
        "\n",
        "## 학습이 완료된 모델에 x_test2를 전달하여 y_test2 값을 예측하기\n",
        "y_test2_predicted = model.predict(x_test2)"
      ],
      "metadata": {
        "id": "JNrtPByr2d0b"
      },
      "execution_count": 100,
      "outputs": []
    },
    {
      "cell_type": "code",
      "source": [
        "## ROC-AUC를 계산하기 위해 metrics 모듈의 함수를 가져오기\n",
        "from sklearn.metrics import roc_auc_score\n",
        "\n",
        "## 테스트 데이터의 ROC-AUC 구하기\n",
        "print(roc_auc_score(y_test2, y_test2_predicted))"
      ],
      "metadata": {
        "colab": {
          "base_uri": "https://localhost:8080/"
        },
        "id": "0vMMVxhl3oXH",
        "outputId": "69fa11b0-0e11-4c34-bfa1-bbd288a23b82"
      },
      "execution_count": 101,
      "outputs": [
        {
          "output_type": "stream",
          "name": "stdout",
          "text": [
            "0.8571428571428572\n"
          ]
        }
      ]
    },
    {
      "cell_type": "markdown",
      "source": [
        "##### 로지스틱 회귀 LogisticRegression\n",
        "    - 종속변수가 어떤 범주에 속할지 0과 1 사이의 연속적인 확률로 예측하는 회귀 알고리즘"
      ],
      "metadata": {
        "id": "K4rVVt1234Vc"
      }
    },
    {
      "cell_type": "code",
      "source": [
        "## linear_model 모듈에서 제공하는 LogisticRegression 함수를 가져오기\n",
        "from sklearn.linear_model import LogisticRegression\n",
        "\n",
        "## 로지스틱 회귀 분석으로 수행할 모델을 만들고, 공부시키기\n",
        "model = LogisticRegression()\n",
        "model.fit(x_train2, y_train2)\n",
        "\n",
        "## 학습이 완료된 모델을 통해 y_test2를 예측하기\n",
        "y_test2_predicted = model.predict(x_test2)"
      ],
      "metadata": {
        "colab": {
          "base_uri": "https://localhost:8080/"
        },
        "id": "zB1t6YRX30_Z",
        "outputId": "1d569a67-5214-4600-fe58-b7d174856d25"
      },
      "execution_count": 102,
      "outputs": [
        {
          "output_type": "stream",
          "name": "stderr",
          "text": [
            "/usr/local/lib/python3.7/dist-packages/sklearn/linear_model/_logistic.py:818: ConvergenceWarning: lbfgs failed to converge (status=1):\n",
            "STOP: TOTAL NO. of ITERATIONS REACHED LIMIT.\n",
            "\n",
            "Increase the number of iterations (max_iter) or scale the data as shown in:\n",
            "    https://scikit-learn.org/stable/modules/preprocessing.html\n",
            "Please also refer to the documentation for alternative solver options:\n",
            "    https://scikit-learn.org/stable/modules/linear_model.html#logistic-regression\n",
            "  extra_warning_msg=_LOGISTIC_SOLVER_CONVERGENCE_MSG,\n"
          ]
        }
      ]
    },
    {
      "cell_type": "code",
      "source": [
        "## ROC-AUC를 계산하기 위해 metrics 모듈의 함수를 가져오기\n",
        "from sklearn.metrics import roc_auc_score\n",
        "\n",
        "## 테스트 데이터의 ROC-AUC 구하기\n",
        "print(roc_auc_score(y_test2, y_test2_predicted))"
      ],
      "metadata": {
        "colab": {
          "base_uri": "https://localhost:8080/"
        },
        "id": "P1SRM5wF4ZSf",
        "outputId": "33d70532-06b7-4a20-c125-0428a7d4e2bf"
      },
      "execution_count": 103,
      "outputs": [
        {
          "output_type": "stream",
          "name": "stdout",
          "text": [
            "0.7619047619047621\n"
          ]
        }
      ]
    },
    {
      "cell_type": "markdown",
      "source": [
        "##### 익스트림 그레디언트 부스팅 분류 XGBClassifier, XGB분류(eXtreme Gradient Boosting)\n",
        "    - 다수의 약한 분류기를 묶어서 정확도를 향상하는 기법"
      ],
      "metadata": {
        "id": "GKKzFzsi5X43"
      }
    },
    {
      "cell_type": "code",
      "source": [
        "## xgboost 모듈에서 제공하는 XGBClassifier 함수를 가져오기\n",
        "from xgboost import XGBClassifier\n",
        "\n",
        "## XGB 분류 분석으로 수행할 모델을 만들고, 공부시키기\n",
        "model = XGBClassifier()\n",
        "model.fit(x_train2, y_train2)\n",
        "\n",
        "## 학습이 완료된 모델을 통해 y_test2를 예측하기\n",
        "y_test2_predicted = model.predict(x_test2)"
      ],
      "metadata": {
        "id": "_8U1Sijy5SMd"
      },
      "execution_count": 104,
      "outputs": []
    },
    {
      "cell_type": "code",
      "source": [
        "## y_test2_predicted 값 확인하기\n",
        "print(y_test2_predicted)"
      ],
      "metadata": {
        "colab": {
          "base_uri": "https://localhost:8080/"
        },
        "id": "MtOAgtqz6Jx-",
        "outputId": "afec1cfa-a000-4532-8792-c1dc7d29c57b"
      },
      "execution_count": 105,
      "outputs": [
        {
          "output_type": "stream",
          "name": "stdout",
          "text": [
            "[0 0 1 0 1 1 1 1 1 0]\n"
          ]
        }
      ]
    },
    {
      "cell_type": "code",
      "source": [
        "## 테스트 데이터의 종속변수에 대한 분류 확률을 계산하기\n",
        "y_test2_proba = model.predict_proba(x_test2)\n",
        "\n",
        "## 테스트 데이터에 대한 분류 확률인 y_test2_proba 값을 확인하기\n",
        "print(y_test2_proba)"
      ],
      "metadata": {
        "colab": {
          "base_uri": "https://localhost:8080/"
        },
        "id": "9HsRkg-y6O6n",
        "outputId": "12501be8-1ecf-4e24-e8c4-95e0480febcc"
      },
      "execution_count": 106,
      "outputs": [
        {
          "output_type": "stream",
          "name": "stdout",
          "text": [
            "[[0.55889904 0.44110098]\n",
            " [0.65384924 0.34615073]\n",
            " [0.03395873 0.96604127]\n",
            " [0.87374073 0.12625928]\n",
            " [0.11220491 0.8877951 ]\n",
            " [0.06976068 0.9302393 ]\n",
            " [0.04053593 0.9594641 ]\n",
            " [0.39705497 0.602945  ]\n",
            " [0.04464304 0.95535696]\n",
            " [0.85148996 0.14851002]]\n"
          ]
        }
      ]
    },
    {
      "cell_type": "code",
      "source": [
        "## ROC-AUC를 계산하기 위해 metrics 모듈의 함수를 가져오기\n",
        "from sklearn.metrics import roc_auc_score\n",
        "\n",
        "## 테스트 데이터의 ROC-AUC 구하기\n",
        "print(roc_auc_score(y_test2, y_test2_predicted))"
      ],
      "metadata": {
        "colab": {
          "base_uri": "https://localhost:8080/"
        },
        "id": "mr6AfdBc64E0",
        "outputId": "7e840fc0-6d07-461f-d439-b47a03cf1bb7"
      },
      "execution_count": 107,
      "outputs": [
        {
          "output_type": "stream",
          "name": "stdout",
          "text": [
            "0.6904761904761906\n"
          ]
        }
      ]
    },
    {
      "cell_type": "markdown",
      "source": [
        "#### 분류 모델로 사용할 수 있는 기타 알고리즘"
      ],
      "metadata": {
        "id": "Q9uwXp4u7627"
      }
    },
    {
      "cell_type": "markdown",
      "source": [
        "##### 서포트 벡터 분류 SVC(Support Vector Classifier)"
      ],
      "metadata": {
        "id": "KpjGh3fd79y5"
      }
    },
    {
      "cell_type": "code",
      "source": [
        "from sklearn.svm import SVC\n",
        "model = SVC()\n",
        "model.fit(x_train2, y_train2)\n",
        "y_test2_predicted = model.predict(x_test2)"
      ],
      "metadata": {
        "id": "3UD6N3Vt74sH"
      },
      "execution_count": 108,
      "outputs": []
    },
    {
      "cell_type": "code",
      "source": [
        "from sklearn.metrics import roc_auc_score\n",
        "print(roc_auc_score(y_test2, y_test2_predicted))"
      ],
      "metadata": {
        "colab": {
          "base_uri": "https://localhost:8080/"
        },
        "id": "ZiQo7Gi88TxV",
        "outputId": "c8072bb8-e4bf-47ce-b14e-f83d27f2db88"
      },
      "execution_count": 109,
      "outputs": [
        {
          "output_type": "stream",
          "name": "stdout",
          "text": [
            "0.6904761904761906\n"
          ]
        }
      ]
    },
    {
      "cell_type": "markdown",
      "source": [
        "##### 배깅 분류 BaggingClassifier"
      ],
      "metadata": {
        "id": "NfBXsIiz8cWs"
      }
    },
    {
      "cell_type": "code",
      "source": [
        "from sklearn.ensemble import BaggingClassifier\n",
        "model = BaggingClassifier()\n",
        "model.fit(x_train2, y_train2)\n",
        "y_test2_predicted = model.predict(x_test2)"
      ],
      "metadata": {
        "id": "yTgjPYEI8Zek"
      },
      "execution_count": 110,
      "outputs": []
    },
    {
      "cell_type": "code",
      "source": [
        "from sklearn.metrics import roc_auc_score\n",
        "print(roc_auc_score(y_test2, y_test2_predicted))"
      ],
      "metadata": {
        "colab": {
          "base_uri": "https://localhost:8080/"
        },
        "id": "qD7qvyi39QR6",
        "outputId": "cdb10bcc-fd35-4ebb-9730-b86a92f344d6"
      },
      "execution_count": 111,
      "outputs": [
        {
          "output_type": "stream",
          "name": "stdout",
          "text": [
            "0.8571428571428572\n"
          ]
        }
      ]
    },
    {
      "cell_type": "markdown",
      "source": [
        "##### K-최근접 이웃 분류 KNN(K-Nearest Neighbor)"
      ],
      "metadata": {
        "id": "PaysDT949Zkh"
      }
    },
    {
      "cell_type": "code",
      "source": [
        "from sklearn.neighbors import KNeighborsClassifier\n",
        "model = KNeighborsClassifier()\n",
        "model.fit(x_train2, y_train2)\n",
        "y_test2_predicted = model.predict(x_test2)"
      ],
      "metadata": {
        "id": "1CU2JaYx9W9s"
      },
      "execution_count": 112,
      "outputs": []
    },
    {
      "cell_type": "code",
      "source": [
        "from sklearn.metrics import roc_auc_score\n",
        "print(roc_auc_score(y_test2, y_test2_predicted))"
      ],
      "metadata": {
        "colab": {
          "base_uri": "https://localhost:8080/"
        },
        "id": "P-wCZ9Rf9xeK",
        "outputId": "e1ead003-98e5-4f4c-c4e7-e4d47505e2e8"
      },
      "execution_count": 113,
      "outputs": [
        {
          "output_type": "stream",
          "name": "stdout",
          "text": [
            "0.5238095238095238\n"
          ]
        }
      ]
    },
    {
      "cell_type": "markdown",
      "source": [
        "##### 다층 퍼센트론 분류 MLPClassifier(Multi Layer Percentron Classifier)"
      ],
      "metadata": {
        "id": "U7jRJLV8-Y2P"
      }
    },
    {
      "cell_type": "code",
      "source": [
        "from sklearn.neural_network import MLPClassifier\n",
        "model = MLPClassifier()\n",
        "model.fit(x_train2, y_train2)\n",
        "y_test2_predicted = model.predict(x_test2)"
      ],
      "metadata": {
        "colab": {
          "base_uri": "https://localhost:8080/"
        },
        "id": "pYrfaklE-VJA",
        "outputId": "5c6f97bc-d02b-4786-ef59-136d6d1579fe"
      },
      "execution_count": 114,
      "outputs": [
        {
          "output_type": "stream",
          "name": "stderr",
          "text": [
            "/usr/local/lib/python3.7/dist-packages/sklearn/neural_network/_multilayer_perceptron.py:696: ConvergenceWarning: Stochastic Optimizer: Maximum iterations (200) reached and the optimization hasn't converged yet.\n",
            "  ConvergenceWarning,\n"
          ]
        }
      ]
    },
    {
      "cell_type": "code",
      "source": [
        "from sklearn.metrics import roc_auc_score\n",
        "print(roc_auc_score(y_test2, y_test2_predicted))"
      ],
      "metadata": {
        "colab": {
          "base_uri": "https://localhost:8080/"
        },
        "id": "UJO3XMkT-q9K",
        "outputId": "7ab38628-9818-4855-e183-972b8ca69aa9"
      },
      "execution_count": 115,
      "outputs": [
        {
          "output_type": "stream",
          "name": "stdout",
          "text": [
            "0.5952380952380953\n"
          ]
        }
      ]
    },
    {
      "cell_type": "markdown",
      "source": [
        "### 최종 결과 공유하기"
      ],
      "metadata": {
        "id": "tNQKdO76_wFl"
      }
    },
    {
      "cell_type": "code",
      "source": [
        "## 제출할 y_test2_predicted 변수의 데이터 타입 확인하기\n",
        "print(type(y_test2_predicted))\n",
        "\n",
        "## 제출할 변수를 데이터 프레임으로 변경하고, data 디렉터리 하위에 csv 파일 저장하기, to_csv 함수 사용 - index=True가 기본값\n",
        "pd.DataFrame(y_test2_predicted).to_csv('data/20176305.csv', index=False)"
      ],
      "metadata": {
        "id": "j0MLTa1EAnMv"
      },
      "execution_count": null,
      "outputs": []
    }
  ]
}